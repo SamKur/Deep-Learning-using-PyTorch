{
 "cells": [
  {
   "cell_type": "code",
   "execution_count": null,
   "metadata": {
    "id": "UXPFYGopf4KV"
   },
   "outputs": [],
   "source": [
    "# if y = x**2\n",
    "def dy_dx(x):\n",
    "  return 2*x"
   ]
  },
  {
   "cell_type": "code",
   "execution_count": null,
   "metadata": {
    "colab": {
     "base_uri": "https://localhost:8080/"
    },
    "id": "f256ernlf_ce",
    "outputId": "d9de562e-b841-4046-fbe2-f6f20b834f61"
   },
   "outputs": [],
   "source": [
    "dy_dx(3)"
   ]
  },
  {
   "cell_type": "code",
   "execution_count": null,
   "metadata": {
    "id": "bm_ra2CG21GV"
   },
   "outputs": [],
   "source": [
    "import torch"
   ]
  },
  {
   "cell_type": "markdown",
   "metadata": {},
   "source": [
    "PyTorch constructs a dynamic computation graph during runtime.\n",
    "\n",
    "Each operation on tensors creates a node in this graph, and the graph is used to compute gradients by backpropagation."
   ]
  },
  {
   "cell_type": "code",
   "execution_count": null,
   "metadata": {
    "id": "nvMNlqM521TC"
   },
   "outputs": [],
   "source": [
    "x = torch.tensor(3.0, requires_grad=True)\n",
    "x"
   ]
  },
  {
   "cell_type": "code",
   "execution_count": null,
   "metadata": {
    "id": "6_iSjcNw21cK"
   },
   "outputs": [],
   "source": [
    "y = x**2\n",
    "y"
   ]
  },
  {
   "cell_type": "code",
   "execution_count": null,
   "metadata": {
    "id": "hsmrBTVv4r1A"
   },
   "outputs": [],
   "source": [
    "y.backward()"
   ]
  },
  {
   "cell_type": "code",
   "execution_count": null,
   "metadata": {
    "colab": {
     "base_uri": "https://localhost:8080/"
    },
    "id": "Iz4fg9YR4s3V",
    "outputId": "19a16461-ab37-4bd9-a629-7752db77b79b"
   },
   "outputs": [],
   "source": [
    "# calculate dy/dx at x=3\n",
    "x.grad # as diff of x**2 is 2*x"
   ]
  },
  {
   "cell_type": "code",
   "execution_count": null,
   "metadata": {
    "id": "d_66YDf8gFwS"
   },
   "outputs": [],
   "source": [
    "import math\n",
    "\n",
    "# y = x**2\n",
    "# z = sin y = sin(x**2) SO,\n",
    "# dz/dx = 2 x cos(x**2) \n",
    "\n",
    "def dz_dx(x):\n",
    "    return 2 * x * math.cos(x**2)"
   ]
  },
  {
   "cell_type": "code",
   "execution_count": null,
   "metadata": {
    "colab": {
     "base_uri": "https://localhost:8080/"
    },
    "id": "SxPYLAIwgLSW",
    "outputId": "c3a1aa49-e75b-4ab5-b189-b9ee0eac52c7"
   },
   "outputs": [],
   "source": [
    "dz_dx(4)"
   ]
  },
  {
   "cell_type": "code",
   "execution_count": null,
   "metadata": {
    "id": "tYHUyJhBgO9d"
   },
   "outputs": [],
   "source": [
    "# initialization\n",
    "x = torch.tensor(4.0, requires_grad=True)\n",
    "x"
   ]
  },
  {
   "cell_type": "code",
   "execution_count": null,
   "metadata": {
    "id": "17J3r8mZ8ebE"
   },
   "outputs": [],
   "source": [
    "y = x ** 2 # Value calculated && A computation graph node is created to store the relationship\n",
    "y"
   ]
  },
  {
   "cell_type": "code",
   "execution_count": null,
   "metadata": {
    "id": "5YDYJEwJ8f7u"
   },
   "outputs": [],
   "source": [
    "z = torch.sin(y) # sin(16) Value calculated && Another computation graph node is created to store the relationship\n",
    "z"
   ]
  },
  {
   "cell_type": "code",
   "execution_count": null,
   "metadata": {
    "id": "L_gisRUH-GNJ"
   },
   "outputs": [],
   "source": [
    "z.backward() # computes the gradient way back to x using chain rule differentiation\n",
    "# https://pytorch.org/tutorials/beginner/basics/autograd_tutorial.html#:~:text=The-,backward,-pass%20kicks%20off"
   ]
  },
  {
   "cell_type": "code",
   "execution_count": null,
   "metadata": {
    "colab": {
     "base_uri": "https://localhost:8080/"
    },
    "id": "h6avVSli-nzp",
    "outputId": "73cf34ea-a242-436c-fd4a-2af9c7051a18"
   },
   "outputs": [],
   "source": [
    "x.grad    #dz/dx "
   ]
  },
  {
   "cell_type": "code",
   "execution_count": null,
   "metadata": {
    "colab": {
     "base_uri": "https://localhost:8080/"
    },
    "id": "BGO166vr-pvc",
    "outputId": "2327be59-bb19-4780-a26f-eb8b8538492a"
   },
   "outputs": [],
   "source": [
    "y.grad    #dz/dy"
   ]
  },
  {
   "cell_type": "markdown",
   "metadata": {},
   "source": [
    "### BCE Loss\n",
    "#### Calculating Manually"
   ]
  },
  {
   "cell_type": "code",
   "execution_count": null,
   "metadata": {
    "id": "IDA7vJD6TERe"
   },
   "outputs": [],
   "source": [
    "import torch\n",
    "\n",
    "# Inputs\n",
    "x = torch.tensor(6.7)  # Input feature - cgpa\n",
    "y = torch.tensor(0.0)  # Target / Actual label (binary) - not placed\n",
    "w = torch.tensor(1.0)  # Weight, randomly initialized\n",
    "b = torch.tensor(0.0)  # Bias, randomly initialized"
   ]
  },
  {
   "cell_type": "code",
   "execution_count": null,
   "metadata": {
    "id": "CNcSnxKFVw6_"
   },
   "outputs": [],
   "source": [
    "# Binary Cross-Entropy Loss for scalar\n",
    "# formula -> - y log(y') - (1-y) log(1-y')\n",
    "def binary_cross_entropy_loss(prediction, target): # calculates the loss\n",
    "    epsilon = 1e-8  # To prevent log(0)\n",
    "    prediction = torch.clamp(prediction, epsilon, 1 - epsilon)\n",
    "    return -(target * torch.log(prediction) + (1 - target) * torch.log(1 - prediction))"
   ]
  },
  {
   "cell_type": "code",
   "execution_count": null,
   "metadata": {
    "id": "Ysa6OOlAVzkI"
   },
   "outputs": [],
   "source": [
    "# Forward pass\n",
    "z = w * x + b  # Weighted sum (linear part)\n",
    "y_pred = torch.sigmoid(z)  # Predicted probability\n",
    "y_pred"
   ]
  },
  {
   "cell_type": "code",
   "execution_count": null,
   "metadata": {
    "colab": {
     "base_uri": "https://localhost:8080/"
    },
    "id": "M0U1dFI2aX4n",
    "outputId": "ec4aae8b-1f8e-4b44-a474-217c8641b07f"
   },
   "outputs": [],
   "source": [
    "# Compute binary cross-entropy loss\n",
    "loss = binary_cross_entropy_loss(y_pred, y)\n",
    "loss"
   ]
  },
  {
   "cell_type": "code",
   "execution_count": null,
   "metadata": {},
   "outputs": [],
   "source": [
    "# by differentiating the loss function w.r.t. the parameters\n",
    "dloss_dypred = (y_pred - y)/(y_pred*(1-y_pred))\n",
    "dypred_dz = y_pred * (1 - y_pred)\n",
    "\n",
    "dz_dw = x  # dz/dw = x\n",
    "dz_db = 1  # dz/db = 1 (bias contributes directly to z)\n",
    "\n",
    "dL_dw = dloss_dypred * dypred_dz * dz_dw\n",
    "dL_db = dloss_dypred * dypred_dz * dz_db"
   ]
  },
  {
   "cell_type": "code",
   "execution_count": null,
   "metadata": {
    "colab": {
     "base_uri": "https://localhost:8080/"
    },
    "id": "OSP5rszqV5GG",
    "outputId": "20bba7d8-627b-4b55-ac65-3f8c52530bf2"
   },
   "outputs": [],
   "source": [
    "print(f\"Manual Gradient of loss w.r.t weight (dw): {dL_dw}\")\n",
    "print(f\"Manual Gradient of loss w.r.t bias (db): {dL_db}\")"
   ]
  },
  {
   "cell_type": "markdown",
   "metadata": {},
   "source": [
    "### BCE Loss\n",
    "#### Calculating Using Autograd"
   ]
  },
  {
   "cell_type": "code",
   "execution_count": null,
   "metadata": {
    "id": "3xdGCYz8V-Rh"
   },
   "outputs": [],
   "source": [
    "x = torch.tensor(6.7)\n",
    "y = torch.tensor(0.0)"
   ]
  },
  {
   "cell_type": "code",
   "execution_count": null,
   "metadata": {
    "id": "9NTVaauoa1CZ"
   },
   "outputs": [],
   "source": [
    "# as we need dL wrt dw and db \n",
    "w = torch.tensor(1.0, requires_grad=True)\n",
    "b = torch.tensor(0.0, requires_grad=True)"
   ]
  },
  {
   "cell_type": "code",
   "execution_count": null,
   "metadata": {
    "colab": {
     "base_uri": "https://localhost:8080/"
    },
    "id": "KTm9Pmf3a8cD",
    "outputId": "82c5de47-1ede-4fd5-8e98-6cf73ba07e78"
   },
   "outputs": [],
   "source": [
    "w"
   ]
  },
  {
   "cell_type": "code",
   "execution_count": null,
   "metadata": {
    "colab": {
     "base_uri": "https://localhost:8080/"
    },
    "id": "AbWal3sIa858",
    "outputId": "e835a223-2ed7-4726-de6e-d25d826fb3fa"
   },
   "outputs": [],
   "source": [
    "b"
   ]
  },
  {
   "cell_type": "code",
   "execution_count": null,
   "metadata": {
    "colab": {
     "base_uri": "https://localhost:8080/"
    },
    "id": "qvuriIW3a9OY",
    "outputId": "73f8d8a9-1c71-4445-e2bf-d2aec803b08f"
   },
   "outputs": [],
   "source": [
    "z = w*x + b\n",
    "z"
   ]
  },
  {
   "cell_type": "code",
   "execution_count": null,
   "metadata": {
    "colab": {
     "base_uri": "https://localhost:8080/"
    },
    "id": "UUEAvbpcbBlU",
    "outputId": "2f9fdce3-0cab-4575-b1f5-0431a80a72a9"
   },
   "outputs": [],
   "source": [
    "y_pred = torch.sigmoid(z)\n",
    "y_pred"
   ]
  },
  {
   "cell_type": "code",
   "execution_count": null,
   "metadata": {
    "colab": {
     "base_uri": "https://localhost:8080/"
    },
    "id": "yKaUqr18bIBd",
    "outputId": "af84b2a4-0724-4a94-ffc4-2fe23f43b0c3"
   },
   "outputs": [],
   "source": [
    "loss = binary_cross_entropy_loss(y_pred, y)\n",
    "loss"
   ]
  },
  {
   "cell_type": "code",
   "execution_count": null,
   "metadata": {
    "id": "Q891gtHabNoB"
   },
   "outputs": [],
   "source": [
    "loss.backward()"
   ]
  },
  {
   "cell_type": "code",
   "execution_count": null,
   "metadata": {
    "colab": {
     "base_uri": "https://localhost:8080/"
    },
    "id": "O27utwfFbiw1",
    "outputId": "b7bbb560-234b-42ae-d031-99ee63f0472d"
   },
   "outputs": [],
   "source": [
    "print(w.grad)\n",
    "print(b.grad)"
   ]
  },
  {
   "cell_type": "code",
   "execution_count": null,
   "metadata": {},
   "outputs": [],
   "source": [
    "# Lets check with this value -> ..\n"
   ]
  },
  {
   "cell_type": "markdown",
   "metadata": {},
   "source": [
    "## Torch "
   ]
  },
  {
   "cell_type": "code",
   "execution_count": null,
   "metadata": {
    "id": "yuKGIgDThWq1"
   },
   "outputs": [],
   "source": [
    "x = torch.tensor([1.0, 2.0, 3.0], requires_grad=True)\n",
    "x"
   ]
  },
  {
   "cell_type": "code",
   "execution_count": null,
   "metadata": {
    "colab": {
     "base_uri": "https://localhost:8080/"
    },
    "id": "uFDXqOw7ikIM",
    "outputId": "1837ea13-d764-4362-9378-aa7d0ec2e2ba"
   },
   "outputs": [],
   "source": [
    "y = (x**2).mean()\n",
    "y"
   ]
  },
  {
   "cell_type": "code",
   "execution_count": null,
   "metadata": {
    "id": "tWE_JM2xio9Q"
   },
   "outputs": [],
   "source": [
    "y.backward()"
   ]
  },
  {
   "cell_type": "code",
   "execution_count": null,
   "metadata": {
    "colab": {
     "base_uri": "https://localhost:8080/"
    },
    "id": "le70Drbkit_2",
    "outputId": "19563540-9d7f-41a8-a8dc-10c07ead466a"
   },
   "outputs": [],
   "source": [
    "x.grad"
   ]
  },
  {
   "cell_type": "code",
   "execution_count": null,
   "metadata": {
    "colab": {
     "base_uri": "https://localhost:8080/"
    },
    "id": "gcUAtKSFivZ1",
    "outputId": "1a36b60f-aa93-4305-a306-9ed74e67ae3f"
   },
   "outputs": [],
   "source": [
    "# clearing grad - to prevent grad accumulation\n",
    "x = torch.tensor(2.0, requires_grad=True)\n",
    "x"
   ]
  },
  {
   "cell_type": "code",
   "execution_count": null,
   "metadata": {
    "colab": {
     "base_uri": "https://localhost:8080/"
    },
    "id": "VGml8iABkLUf",
    "outputId": "ada3587c-6180-4d63-8fcf-ca2eedd11414"
   },
   "outputs": [],
   "source": [
    "y = x ** 2 # repeat from here\n",
    "y"
   ]
  },
  {
   "cell_type": "code",
   "execution_count": null,
   "metadata": {
    "id": "1EkADF0enBdi"
   },
   "outputs": [],
   "source": [
    "y.backward()"
   ]
  },
  {
   "cell_type": "code",
   "execution_count": null,
   "metadata": {
    "colab": {
     "base_uri": "https://localhost:8080/"
    },
    "id": "60O_yfrInD_T",
    "outputId": "2c8fc324-171b-4ab9-d5ce-a42ae6fcbbdf"
   },
   "outputs": [],
   "source": [
    "x.grad"
   ]
  },
  {
   "cell_type": "code",
   "execution_count": null,
   "metadata": {
    "colab": {
     "base_uri": "https://localhost:8080/"
    },
    "id": "jxQMMaFqoB4u",
    "outputId": "e232750b-2b55-4b34-c04f-1f2ae48018c8"
   },
   "outputs": [],
   "source": [
    "x.grad.zero_()"
   ]
  },
  {
   "cell_type": "code",
   "execution_count": null,
   "metadata": {
    "colab": {
     "base_uri": "https://localhost:8080/"
    },
    "id": "kGyP-K6ooelo",
    "outputId": "04c330d8-d9ad-4be4-f104-cf09f4624c22"
   },
   "outputs": [],
   "source": [
    "# disable gradient tracking\n",
    "x = torch.tensor(2.0, requires_grad=True)\n",
    "x"
   ]
  },
  {
   "cell_type": "code",
   "execution_count": null,
   "metadata": {
    "colab": {
     "base_uri": "https://localhost:8080/"
    },
    "id": "LL3tQ2LAq0n-",
    "outputId": "e8f60112-4d93-413a-83fa-5715a727b475"
   },
   "outputs": [],
   "source": [
    "y = x ** 2  # repeat from here\n",
    "y"
   ]
  },
  {
   "cell_type": "code",
   "execution_count": null,
   "metadata": {
    "id": "yyOCApZPr7zm"
   },
   "outputs": [],
   "source": [
    "y.backward()"
   ]
  },
  {
   "cell_type": "code",
   "execution_count": null,
   "metadata": {
    "colab": {
     "base_uri": "https://localhost:8080/"
    },
    "id": "prQYxP_xr_1l",
    "outputId": "68fc0a41-87c8-47ec-9932-aa2d20ff2eda"
   },
   "outputs": [],
   "source": [
    "x.grad"
   ]
  },
  {
   "cell_type": "code",
   "execution_count": null,
   "metadata": {},
   "outputs": [],
   "source": [
    "x.grad.zero_()  # clear the gradient"
   ]
  },
  {
   "cell_type": "markdown",
   "metadata": {},
   "source": [
    "## Turn off gradient tracking"
   ]
  },
  {
   "cell_type": "markdown",
   "metadata": {},
   "source": [
    "### 1st Option"
   ]
  },
  {
   "cell_type": "code",
   "execution_count": null,
   "metadata": {
    "id": "nSuNmGoxq2ME"
   },
   "outputs": [],
   "source": [
    "# option 1 - requires_grad_(False)\n",
    "# option 2 - detach()\n",
    "# option 3 - torch.no_grad()"
   ]
  },
  {
   "cell_type": "code",
   "execution_count": null,
   "metadata": {
    "colab": {
     "base_uri": "https://localhost:8080/"
    },
    "id": "e-3J1W7BsLiK",
    "outputId": "fa8af314-ff87-4504-efae-0e9e088a94e0"
   },
   "outputs": [],
   "source": [
    "x.requires_grad_(False)"
   ]
  },
  {
   "cell_type": "code",
   "execution_count": null,
   "metadata": {
    "colab": {
     "base_uri": "https://localhost:8080/"
    },
    "id": "4eqdqlwzsPR_",
    "outputId": "45b1302a-b661-4bde-8db5-853cb908dc9c"
   },
   "outputs": [],
   "source": [
    "x"
   ]
  },
  {
   "cell_type": "code",
   "execution_count": null,
   "metadata": {
    "id": "I6hTHHQZsQbP"
   },
   "outputs": [],
   "source": [
    "y = x ** 2"
   ]
  },
  {
   "cell_type": "code",
   "execution_count": null,
   "metadata": {
    "colab": {
     "base_uri": "https://localhost:8080/"
    },
    "id": "RWh8lxdEsdRa",
    "outputId": "dac57dab-d690-416f-eb0a-5c118684ae92"
   },
   "outputs": [],
   "source": [
    "y"
   ]
  },
  {
   "cell_type": "code",
   "execution_count": null,
   "metadata": {
    "colab": {
     "base_uri": "https://localhost:8080/",
     "height": 287
    },
    "id": "DrW7KpiBsd6Z",
    "outputId": "24814268-474b-40c3-bb34-6555dfab0ceb"
   },
   "outputs": [],
   "source": [
    "try:\n",
    "    y.backward()\n",
    "except:\n",
    "    print(\"RuntimeError: element 0 of tensors does not require grad and does not have a grad_fn\")"
   ]
  },
  {
   "cell_type": "markdown",
   "metadata": {},
   "source": [
    "### 2nd Option :- alternate and better way - use detach() if backward not required"
   ]
  },
  {
   "cell_type": "code",
   "execution_count": null,
   "metadata": {
    "colab": {
     "base_uri": "https://localhost:8080/"
    },
    "id": "I_Ct0xomsgw7",
    "outputId": "d679a65e-0d83-49c5-b8e2-ec112de84448"
   },
   "outputs": [],
   "source": [
    "x = torch.tensor(2.0, requires_grad=True)\n",
    "x"
   ]
  },
  {
   "cell_type": "code",
   "execution_count": null,
   "metadata": {
    "colab": {
     "base_uri": "https://localhost:8080/"
    },
    "id": "1pslVLzLsmO0",
    "outputId": "3b6d6b97-9459-4e03-bb79-4b457a4782ba"
   },
   "outputs": [],
   "source": [
    "z = x.detach()\n",
    "z"
   ]
  },
  {
   "cell_type": "code",
   "execution_count": null,
   "metadata": {
    "id": "tXkAjBEcsp_C"
   },
   "outputs": [],
   "source": [
    "y = x ** 2\n",
    "y"
   ]
  },
  {
   "cell_type": "code",
   "execution_count": null,
   "metadata": {
    "colab": {
     "base_uri": "https://localhost:8080/"
    },
    "id": "-zK-PB97su18",
    "outputId": "60aedc8f-fb15-48f6-9586-016487c9e783"
   },
   "outputs": [],
   "source": [
    "y1 = z ** 2\n",
    "y1"
   ]
  },
  {
   "cell_type": "code",
   "execution_count": null,
   "metadata": {
    "id": "_lQLYSmesxeX"
   },
   "outputs": [],
   "source": [
    "y.backward()\n",
    "x.grad"
   ]
  },
  {
   "cell_type": "code",
   "execution_count": null,
   "metadata": {
    "colab": {
     "base_uri": "https://localhost:8080/",
     "height": 287
    },
    "id": "yvhtrhXMszVu",
    "outputId": "3cda73eb-f919-45fb-83f7-6b485057c070"
   },
   "outputs": [],
   "source": [
    "try:\n",
    "    y1.backward() # error\n",
    "    z.grad\n",
    "except:\n",
    "    print(\"RuntimeError: element 0 of tensors does not require grad and does not have a grad_fn\")"
   ]
  },
  {
   "cell_type": "code",
   "execution_count": null,
   "metadata": {},
   "outputs": [],
   "source": [
    "z.grad"
   ]
  },
  {
   "cell_type": "code",
   "execution_count": null,
   "metadata": {
    "colab": {
     "base_uri": "https://localhost:8080/"
    },
    "id": "PrpCL8cbs0us",
    "outputId": "0db88907-9638-43c1-ac82-8acc2d671226"
   },
   "outputs": [],
   "source": [
    "x = torch.tensor(2.0, requires_grad=True)\n",
    "x"
   ]
  },
  {
   "cell_type": "code",
   "execution_count": null,
   "metadata": {
    "id": "n88-a1bxs569"
   },
   "outputs": [],
   "source": [
    "y = x ** 2"
   ]
  },
  {
   "cell_type": "code",
   "execution_count": null,
   "metadata": {
    "colab": {
     "base_uri": "https://localhost:8080/"
    },
    "id": "UMsS-KPGs-x9",
    "outputId": "1b49a62d-2476-4c13-faad-12b7aa3c77ce"
   },
   "outputs": [],
   "source": [
    "y"
   ]
  },
  {
   "cell_type": "code",
   "execution_count": null,
   "metadata": {
    "id": "GYN6bHVVs_OA"
   },
   "outputs": [],
   "source": [
    "y.backward()"
   ]
  },
  {
   "cell_type": "code",
   "execution_count": null,
   "metadata": {
    "scrolled": true
   },
   "outputs": [],
   "source": [
    "x.grad"
   ]
  },
  {
   "cell_type": "markdown",
   "metadata": {},
   "source": [
    "### 3rd Option :- (easiest)"
   ]
  },
  {
   "cell_type": "code",
   "execution_count": null,
   "metadata": {},
   "outputs": [],
   "source": [
    "x = torch.tensor(2.0, requires_grad=True)\n",
    "x"
   ]
  },
  {
   "cell_type": "code",
   "execution_count": null,
   "metadata": {},
   "outputs": [],
   "source": [
    "with torch.no_grad():\n",
    "    y = x**2"
   ]
  },
  {
   "cell_type": "code",
   "execution_count": null,
   "metadata": {},
   "outputs": [],
   "source": [
    "y # gradient tarcking is of "
   ]
  },
  {
   "cell_type": "code",
   "execution_count": null,
   "metadata": {},
   "outputs": [],
   "source": []
  }
 ],
 "metadata": {
  "colab": {
   "provenance": []
  },
  "kernelspec": {
   "display_name": "base",
   "language": "python",
   "name": "python3"
  },
  "language_info": {
   "codemirror_mode": {
    "name": "ipython",
    "version": 3
   },
   "file_extension": ".py",
   "mimetype": "text/x-python",
   "name": "python",
   "nbconvert_exporter": "python",
   "pygments_lexer": "ipython3",
   "version": "3.12.7"
  },
  "widgets": {
   "application/vnd.jupyter.widget-state+json": {
    "state": {},
    "version_major": 2,
    "version_minor": 0
   }
  }
 },
 "nbformat": 4,
 "nbformat_minor": 4
}
