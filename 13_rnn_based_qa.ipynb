{
 "cells": [
  {
   "cell_type": "code",
   "execution_count": null,
   "metadata": {
    "colab": {
     "base_uri": "https://localhost:8080/",
     "height": 206
    },
    "id": "92JvvYftu_-c",
    "outputId": "5059e707-2536-4e69-ea04-a703189f41a9"
   },
   "outputs": [],
   "source": [
    "import pandas as pd\n",
    "\n",
    "df = pd.read_csv('dataset/100_Unique_QA_Dataset.csv')\n",
    "\n",
    "df.head()"
   ]
  },
  {
   "cell_type": "code",
   "execution_count": null,
   "metadata": {
    "id": "NWdOVkZ1viJ3"
   },
   "outputs": [],
   "source": [
    "# tokenize\n",
    "def tokenize(text):\n",
    "    text = text.lower()\n",
    "    text = text.replace('?','')\n",
    "    text = text.replace(\"'\",\"\")\n",
    "    return text.split()"
   ]
  },
  {
   "cell_type": "code",
   "execution_count": null,
   "metadata": {
    "colab": {
     "base_uri": "https://localhost:8080/"
    },
    "id": "bnGY1SR0v78p",
    "outputId": "55acd2a0-9b85-4237-e279-df08770b822b"
   },
   "outputs": [],
   "source": [
    "tokenize('What is the capital of France?')"
   ]
  },
  {
   "cell_type": "code",
   "execution_count": null,
   "metadata": {
    "id": "tld5UfhqvrRq"
   },
   "outputs": [],
   "source": [
    "# vocab\n",
    "vocab = {'<UNK>':0}"
   ]
  },
  {
   "cell_type": "code",
   "execution_count": null,
   "metadata": {
    "id": "XxpiMiXtw4oX"
   },
   "outputs": [],
   "source": [
    "def build_vocab(row): # row = {'question': 'What is the capital of France?', 'answer': 'Paris'}\n",
    "    tokenized_question = tokenize(row['question'])\n",
    "    tokenized_answer = tokenize(row['answer'])\n",
    "\n",
    "    merged_tokens = tokenized_question + tokenized_answer # ['what', 'is', 'the', 'capital', 'of', 'france', 'paris']\n",
    "\n",
    "    for token in merged_tokens:\n",
    "        if token not in vocab:\n",
    "            vocab[token] = len(vocab) # {'what':1}\n"
   ]
  },
  {
   "cell_type": "code",
   "execution_count": null,
   "metadata": {
    "colab": {
     "base_uri": "https://localhost:8080/",
     "height": 458
    },
    "id": "9LSxaRRuxHlv",
    "outputId": "65f92b49-a082-466d-ac0e-e6470002bade"
   },
   "outputs": [],
   "source": [
    "df.apply(build_vocab, axis=1) # returns None but, builds 'vocab'"
   ]
  },
  {
   "cell_type": "code",
   "execution_count": null,
   "metadata": {},
   "outputs": [],
   "source": [
    "vocab"
   ]
  },
  {
   "cell_type": "code",
   "execution_count": null,
   "metadata": {
    "colab": {
     "base_uri": "https://localhost:8080/"
    },
    "id": "xDWgT_OoyGJM",
    "outputId": "cbd7bd6a-f711-4a3c-a8de-24fef64de145"
   },
   "outputs": [],
   "source": [
    "len(vocab)"
   ]
  },
  {
   "cell_type": "code",
   "execution_count": null,
   "metadata": {
    "id": "BUBXvBNovvQa"
   },
   "outputs": [],
   "source": [
    "# convert words to numerical indices\n",
    "def text_to_indices(text, vocab=vocab):\n",
    "\n",
    "    indexed_text = []\n",
    "\n",
    "    for token in tokenize(text):\n",
    "\n",
    "        if token in vocab:\n",
    "            indexed_text.append(vocab[token])\n",
    "        else:\n",
    "            indexed_text.append(vocab['<UNK>'])\n",
    "\n",
    "    return indexed_text"
   ]
  },
  {
   "cell_type": "code",
   "execution_count": null,
   "metadata": {
    "colab": {
     "base_uri": "https://localhost:8080/"
    },
    "id": "phdJw6IQzax2",
    "outputId": "a0631070-57ff-4eaf-965b-d7abc77994a5"
   },
   "outputs": [],
   "source": [
    "text_to_indices(\"Who are you?\", vocab)"
   ]
  },
  {
   "cell_type": "markdown",
   "metadata": {},
   "source": [
    "## Now, let's work with Pytorch"
   ]
  },
  {
   "cell_type": "code",
   "execution_count": null,
   "metadata": {
    "id": "k-haYG7WzjHj"
   },
   "outputs": [],
   "source": [
    "import torch\n",
    "from torch.utils.data import Dataset, DataLoader"
   ]
  },
  {
   "cell_type": "code",
   "execution_count": null,
   "metadata": {
    "id": "PElUlPYT0gqK"
   },
   "outputs": [],
   "source": [
    "class QADataset(Dataset):\n",
    "\n",
    "    def __init__(self, df, vocab):\n",
    "        self.df = df\n",
    "        self.vocab = vocab\n",
    "\n",
    "    def __len__(self):\n",
    "        return self.df.shape[0]\n",
    "\n",
    "    def __getitem__(self, index):\n",
    "\n",
    "        numerical_question = text_to_indices(self.df.iloc[index]['question'], self.vocab)\n",
    "        numerical_answer = text_to_indices(self.df.iloc[index]['answer'], self.vocab)\n",
    "\n",
    "        return torch.tensor(numerical_question), torch.tensor(numerical_answer)"
   ]
  },
  {
   "cell_type": "code",
   "execution_count": null,
   "metadata": {
    "id": "InSZ-ZIm1Y1O"
   },
   "outputs": [],
   "source": [
    "dataset = QADataset(df, vocab)"
   ]
  },
  {
   "cell_type": "code",
   "execution_count": null,
   "metadata": {
    "id": "BMVDt3h-1gMF"
   },
   "outputs": [],
   "source": [
    "dataloader = DataLoader(dataset, batch_size=1, shuffle=True)"
   ]
  },
  {
   "cell_type": "code",
   "execution_count": null,
   "metadata": {
    "colab": {
     "base_uri": "https://localhost:8080/"
    },
    "id": "40MDNe0v1iMN",
    "outputId": "088b17b8-dff4-456e-a3b4-ebbfcda65800"
   },
   "outputs": [],
   "source": [
    "for question, answer in dataloader:\n",
    "    print(question, answer) # question.shape -> [1,n]"
   ]
  },
  {
   "cell_type": "code",
   "execution_count": null,
   "metadata": {
    "id": "SrJNCywq14Qv"
   },
   "outputs": [],
   "source": [
    "import torch.nn as nn"
   ]
  },
  {
   "cell_type": "code",
   "execution_count": null,
   "metadata": {
    "id": "y2XLQyi6GN61"
   },
   "outputs": [],
   "source": [
    "class SimpleRNN(nn.Module):\n",
    "\n",
    "    def __init__(self, vocab_size):\n",
    "        super().__init__()\n",
    "        # why the below is not nn.Sequential -> \n",
    "\t\t# RNN gives all hidden states [textsize,50 dim] and final state, but sequential expects only one output\n",
    "        self.embedding = nn.Embedding(vocab_size, embedding_dim=50)\n",
    "        self.rnn = nn.RNN(50, 64, batch_first=True)\n",
    "        self.fc = nn.Linear(64, vocab_size) # output layer\n",
    "\n",
    "    def forward(self, question):\n",
    "        embedded_question = self.embedding(question)\n",
    "        hidden, final = self.rnn(embedded_question)\n",
    "        output = self.fc(final.squeeze(0))\n",
    "\n",
    "        return output"
   ]
  },
  {
   "cell_type": "code",
   "execution_count": null,
   "metadata": {
    "colab": {
     "base_uri": "https://localhost:8080/"
    },
    "id": "al9891aUW0e_",
    "outputId": "a9a5bf47-9723-4c73-a49c-439a13907d20"
   },
   "outputs": [],
   "source": [
    "x = nn.Embedding(324, embedding_dim=50)\n",
    "y = nn.RNN(50, 64, batch_first=True)\n",
    "z = nn.Linear(64, 324)\n",
    "\n",
    "a = dataset[0][0].reshape(1,6)\n",
    "print(\"shape of a:\", a.shape)\n",
    "b = x(a)\n",
    "print(\"shape of b:\", b.shape)\n",
    "c, d = y(b)\n",
    "print(\"shape of c:\", c.shape)\n",
    "print(\"shape of d:\", d.shape) # final hidden state\n",
    "\n",
    "e = z(d.squeeze(0))\n",
    "\n",
    "print(\"shape of e:\", e.shape)"
   ]
  },
  {
   "cell_type": "code",
   "execution_count": null,
   "metadata": {
    "id": "sk9pltE_KVgl"
   },
   "outputs": [],
   "source": [
    "learning_rate = 0.001\n",
    "epochs = 20"
   ]
  },
  {
   "cell_type": "code",
   "execution_count": null,
   "metadata": {
    "id": "o-GmwXoHLpEw"
   },
   "outputs": [],
   "source": [
    "model = SimpleRNN(len(vocab))"
   ]
  },
  {
   "cell_type": "code",
   "execution_count": null,
   "metadata": {
    "id": "-pd_QgE8Lu90"
   },
   "outputs": [],
   "source": [
    "criterion = nn.CrossEntropyLoss()\n",
    "optimizer = torch.optim.Adam(model.parameters(), lr=learning_rate)"
   ]
  },
  {
   "cell_type": "code",
   "execution_count": null,
   "metadata": {
    "colab": {
     "base_uri": "https://localhost:8080/"
    },
    "id": "bKITUSEnL-ol",
    "outputId": "5d57f8df-e6e2-4707-f1ba-ca79192ca786"
   },
   "outputs": [],
   "source": [
    "# training loop\n",
    "\n",
    "for epoch in range(epochs):\n",
    "    total_loss = 0\n",
    "    for question, answer in dataloader:\n",
    "        optimizer.zero_grad()\n",
    "        # forward pass\n",
    "        output = model(question)\n",
    "        # loss -> output shape (1,324) - (1)\n",
    "        loss = criterion(output, answer[0])\n",
    "        # gradients\n",
    "        loss.backward()\n",
    "        # update\n",
    "        optimizer.step()\n",
    "        total_loss = total_loss + loss.item()\n",
    "    print(f\"Epoch: {epoch+1}, Loss: {total_loss:4f}\")"
   ]
  },
  {
   "cell_type": "code",
   "execution_count": null,
   "metadata": {
    "id": "fbZzQT07WIqj"
   },
   "outputs": [],
   "source": [
    "def predict(model, question, threshold=0.5):\n",
    "\n",
    "    # convert question to numbers\n",
    "    numerical_question = text_to_indices(question, vocab)\n",
    "\n",
    "    # tensor\n",
    "    question_tensor = torch.tensor(numerical_question).unsqueeze(0) # [1, no_of_tokens]\n",
    "\n",
    "    # send to model\n",
    "    output = model(question_tensor) # logits [1, vocab_size]\n",
    "\n",
    "    # convert logits to probs\n",
    "    probs = torch.nn.functional.softmax(output, dim=1)\n",
    "\n",
    "    # find index of max prob\n",
    "    value, index = torch.max(probs, dim=1)\n",
    "\n",
    "    \n",
    "    if value < threshold:\n",
    "        print(\"I don't know\")\n",
    "        return\n",
    "    \n",
    "    print(list(vocab.keys())[index])\n"
   ]
  },
  {
   "cell_type": "code",
   "execution_count": null,
   "metadata": {
    "colab": {
     "base_uri": "https://localhost:8080/"
    },
    "id": "kZ2DS-nubk5n",
    "outputId": "ff156bcd-b4f4-49d3-d8e4-661ca0851d3f"
   },
   "outputs": [],
   "source": [
    "predict(model, \"What is the largest planet of our solar system?\")"
   ]
  },
  {
   "cell_type": "code",
   "execution_count": null,
   "metadata": {},
   "outputs": [],
   "source": []
  }
 ],
 "metadata": {
  "colab": {
   "provenance": []
  },
  "kernelspec": {
   "display_name": "base",
   "language": "python",
   "name": "python3"
  },
  "language_info": {
   "codemirror_mode": {
    "name": "ipython",
    "version": 3
   },
   "file_extension": ".py",
   "mimetype": "text/x-python",
   "name": "python",
   "nbconvert_exporter": "python",
   "pygments_lexer": "ipython3",
   "version": "3.12.7"
  }
 },
 "nbformat": 4,
 "nbformat_minor": 0
}
