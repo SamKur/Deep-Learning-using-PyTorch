{
 "cells": [
  {
   "cell_type": "markdown",
   "metadata": {},
   "source": [
    "### Improvements to be done\n",
    "1. Building the NN by using the torch.nn module\n",
    "2. Using builtin activation function (instead of torch.sigmoid())\n",
    "3. Using builtin loss function (instead of manual bceloss function)\n",
    "4. Using builtin optimizer"
   ]
  },
  {
   "cell_type": "code",
   "execution_count": null,
   "metadata": {
    "ExecuteTime": {
     "end_time": "2025-01-30T03:11:07.941639Z",
     "start_time": "2025-01-30T03:11:07.925392Z"
    },
    "id": "oJvxf-ftpdEy"
   },
   "outputs": [],
   "source": [
    "# create model class\n",
    "# import torch\n",
    "# import torch.nn as nn\n",
    "import torch, torch.nn as nn\n",
    "\n",
    "class Model(nn.Module):\n",
    "    \n",
    "    def __init__(self, num_features):\n",
    "        super().__init__()\n",
    "        # ALT2- define layers\n",
    "        # self.network = nn.Sequential(  # to stack layers \n",
    "        #     nn.Linear(num_features, 3),\n",
    "        #     nn.ReLU(),\n",
    "        #     nn.Linear(3, 1),\n",
    "        #     nn.Sigmoid()\n",
    "        #     )\n",
    "        # ALT1\n",
    "        self.linear = nn.Linear(num_features, 1) # no of input features TO num of output\n",
    "        self.sigmoid = nn.Sigmoid() \n",
    "\n",
    "    def forward(self, features):\n",
    "        # ALT2\n",
    "        # out = self.network(features)\n",
    "        # ALT1 \n",
    "        out = self.linear(features)\n",
    "        out = self.sigmoid(out)\n",
    "        return out"
   ]
  },
  {
   "cell_type": "code",
   "execution_count": null,
   "metadata": {
    "ExecuteTime": {
     "end_time": "2025-01-30T03:11:08.431135Z",
     "start_time": "2025-01-30T03:11:08.415904Z"
    },
    "colab": {
     "base_uri": "https://localhost:8080/"
    },
    "id": "I_Tbf5p6sQQI",
    "outputId": "5f897187-6609-4868-a294-ef15c32d5eaa"
   },
   "outputs": [],
   "source": [
    "# create dataset\n",
    "features = torch.rand(10,5)\n",
    "\n",
    "# create model\n",
    "model = Model(features.shape[1])\n",
    "\n",
    "# call model for forward pass\n",
    "# model.forward(features)  # OR Better -\n",
    "model(features) # internally magic method __call__ is defined in nn.Module, it calls forward method automatically"
   ]
  },
  {
   "cell_type": "code",
   "execution_count": null,
   "metadata": {
    "ExecuteTime": {
     "end_time": "2025-01-30T03:12:33.529366Z",
     "start_time": "2025-01-30T03:12:33.521410Z"
    },
    "colab": {
     "base_uri": "https://localhost:8080/"
    },
    "id": "Kf6yPbtBPvCD",
    "outputId": "988cf3c5-b9a4-45ba-bdf5-ddc01fcd9279"
   },
   "outputs": [],
   "source": [
    "# show model weights\n",
    "print(model.linear.weight)\n",
    "print(model.linear.bias)\n",
    "\n",
    "# print(model.state_dict()) # BETTER\n",
    "# for name, param in model.named_parameters():\n",
    "#     print(f\"Layer: {name}, Weights:\\n{param.data}\\n\")"
   ]
  },
  {
   "cell_type": "markdown",
   "metadata": {},
   "source": [
    "### Save entire model and only model weights"
   ]
  },
  {
   "cell_type": "code",
   "execution_count": null,
   "metadata": {
    "ExecuteTime": {
     "end_time": "2025-01-30T03:51:40.095462Z",
     "start_time": "2025-01-30T03:51:40.078108Z"
    }
   },
   "outputs": [],
   "source": [
    "torch.save(model.state_dict(), \"model_params.pth\")\n",
    "\n",
    "# Load\n",
    "model = Model(num_features=5)  # Create model instance(Requires model architecture before loading weights)\n",
    "model.load_state_dict(torch.load(\"model_params.pth\", weights_only=True ))  # Load saved weights\n",
    "model.eval()  # Set model to evaluation mode\n",
    "\n",
    "# Save ENTIRE model but less flexible\n",
    "# torch.save(model, \"model.pth\")"
   ]
  },
  {
   "cell_type": "code",
   "execution_count": null,
   "metadata": {
    "ExecuteTime": {
     "end_time": "2025-01-30T03:51:40.745873Z",
     "start_time": "2025-01-30T03:51:40.740761Z"
    },
    "colab": {
     "base_uri": "https://localhost:8080/"
    },
    "id": "qcER5vK3saCz",
    "outputId": "a6a5b7d1-d255-49e1-defb-cc3c41492674"
   },
   "outputs": [],
   "source": [
    "# !pip install torchinfo\n",
    "# !conda install conda-forge::torchinfo"
   ]
  },
  {
   "cell_type": "code",
   "execution_count": null,
   "metadata": {
    "ExecuteTime": {
     "end_time": "2025-01-30T03:51:41.696972Z",
     "start_time": "2025-01-30T03:51:41.685093Z"
    },
    "colab": {
     "base_uri": "https://localhost:8080/"
    },
    "id": "ah9VjT_dxiJD",
    "outputId": "b63089c2-db30-4cfb-e039-830c018cdee2"
   },
   "outputs": [],
   "source": [
    "from torchinfo import summary\n",
    "\n",
    "# summary(model)\n",
    "summary(model, input_size=(10, 5))"
   ]
  }
 ],
 "metadata": {
  "colab": {
   "provenance": []
  },
  "kernelspec": {
   "display_name": "base",
   "language": "python",
   "name": "python3"
  },
  "language_info": {
   "codemirror_mode": {
    "name": "ipython",
    "version": 3
   },
   "file_extension": ".py",
   "mimetype": "text/x-python",
   "name": "python",
   "nbconvert_exporter": "python",
   "pygments_lexer": "ipython3",
   "version": "3.12.7"
  }
 },
 "nbformat": 4,
 "nbformat_minor": 4
}
