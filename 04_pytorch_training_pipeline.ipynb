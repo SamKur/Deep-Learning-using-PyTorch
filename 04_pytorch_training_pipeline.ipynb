{
 "cells": [
  {
   "cell_type": "markdown",
   "metadata": {},
   "source": [
    "### Code flow\n",
    "1. Load The Dataset\n",
    "2. Basic Preprocessing\n",
    "3. Training Process\n",
    "    - Create the model\n",
    "    - Forward pass\n",
    "    - Loss calculation\n",
    "    - Backprop\n",
    "    - Params update\n",
    "4. Model Evaluation (accuracy)"
   ]
  },
  {
   "cell_type": "code",
   "execution_count": null,
   "metadata": {
    "ExecuteTime": {
     "start_time": "2025-02-07T15:54:47.381962Z"
    },
    "id": "gaa7OgL-TdPa",
    "jupyter": {
     "is_executing": true
    }
   },
   "outputs": [],
   "source": [
    "import numpy as np\n",
    "import pandas as pd\n",
    "import torch\n",
    "from sklearn.model_selection import train_test_split\n",
    "from sklearn.preprocessing import StandardScaler\n",
    "from sklearn.preprocessing import LabelEncoder"
   ]
  },
  {
   "cell_type": "code",
   "execution_count": null,
   "metadata": {
    "ExecuteTime": {
     "end_time": "2025-02-04T17:49:57.191237Z",
     "start_time": "2025-02-04T17:49:56.240081Z"
    },
    "colab": {
     "base_uri": "https://localhost:8080/",
     "height": 273
    },
    "id": "35b3pUI1Turc",
    "outputId": "3c807f30-7d6d-47b7-c480-5279e1c00e27"
   },
   "outputs": [],
   "source": [
    "df = pd.read_csv('https://raw.githubusercontent.com/gscdit/Breast-Cancer-Detection/refs/heads/master/data.csv')\n",
    "df.head()"
   ]
  },
  {
   "cell_type": "code",
   "execution_count": null,
   "metadata": {
    "ExecuteTime": {
     "end_time": "2025-01-29T08:43:59.620725Z",
     "start_time": "2025-01-29T08:43:59.611075Z"
    },
    "colab": {
     "base_uri": "https://localhost:8080/"
    },
    "id": "MTASXrxUTyeW",
    "outputId": "d9cf3bff-ebfd-4820-ebf3-765736e55502"
   },
   "outputs": [],
   "source": [
    "df.shape"
   ]
  },
  {
   "cell_type": "code",
   "execution_count": null,
   "metadata": {
    "ExecuteTime": {
     "end_time": "2025-01-29T08:43:59.628254Z",
     "start_time": "2025-01-29T08:43:59.620725Z"
    },
    "id": "VMgbJGUOT_SX"
   },
   "outputs": [],
   "source": [
    "df.drop(columns=['id', 'Unnamed: 32'], inplace= True)"
   ]
  },
  {
   "cell_type": "code",
   "execution_count": null,
   "metadata": {
    "ExecuteTime": {
     "end_time": "2025-01-29T08:43:59.657715Z",
     "start_time": "2025-01-29T08:43:59.628254Z"
    },
    "colab": {
     "base_uri": "https://localhost:8080/",
     "height": 273
    },
    "id": "43Yhb8eVUXeE",
    "outputId": "21bee579-02e1-491e-9ab9-2829d38b2330"
   },
   "outputs": [],
   "source": [
    "df.head()"
   ]
  },
  {
   "cell_type": "markdown",
   "metadata": {
    "id": "V1G7UWSTSM4M"
   },
   "source": [
    "### train test split"
   ]
  },
  {
   "cell_type": "code",
   "execution_count": null,
   "metadata": {
    "ExecuteTime": {
     "end_time": "2025-01-29T08:43:59.670679Z",
     "start_time": "2025-01-29T08:43:59.657715Z"
    },
    "id": "rMX3fS-xUjDp"
   },
   "outputs": [],
   "source": [
    "X_train, X_test, y_train, y_test = train_test_split(df.iloc[:, 1:], df.iloc[:, 0], test_size=0.2)"
   ]
  },
  {
   "cell_type": "markdown",
   "metadata": {
    "id": "4b4HNCjlSRwF"
   },
   "source": [
    "### scaling - as NN prefers datas to be in same scale"
   ]
  },
  {
   "cell_type": "code",
   "execution_count": null,
   "metadata": {
    "ExecuteTime": {
     "end_time": "2025-01-29T08:43:59.684952Z",
     "start_time": "2025-01-29T08:43:59.670679Z"
    },
    "id": "9U6kQsjTU5ZE"
   },
   "outputs": [],
   "source": [
    "scaler = StandardScaler()\n",
    "X_train = scaler.fit_transform(X_train)\n",
    "X_test = scaler.transform(X_test)"
   ]
  },
  {
   "cell_type": "code",
   "execution_count": null,
   "metadata": {
    "ExecuteTime": {
     "end_time": "2025-01-29T08:43:59.694802Z",
     "start_time": "2025-01-29T08:43:59.684952Z"
    },
    "colab": {
     "base_uri": "https://localhost:8080/"
    },
    "id": "YMmrSA88VMZQ",
    "outputId": "9e02d984-268a-4484-d623-fb4fdf4fba8c"
   },
   "outputs": [],
   "source": [
    "X_train"
   ]
  },
  {
   "cell_type": "code",
   "execution_count": null,
   "metadata": {
    "ExecuteTime": {
     "end_time": "2025-01-29T08:43:59.706949Z",
     "start_time": "2025-01-29T08:43:59.694802Z"
    },
    "colab": {
     "base_uri": "https://localhost:8080/",
     "height": 458
    },
    "id": "uYoHEPdsVX3P",
    "outputId": "dfd363bb-7262-492b-e5e1-facf17ff1ea8"
   },
   "outputs": [],
   "source": [
    "y_train"
   ]
  },
  {
   "cell_type": "markdown",
   "metadata": {
    "id": "7XhX--USSU5q"
   },
   "source": [
    "### Label Encoding - as NN cant understand alphabets"
   ]
  },
  {
   "cell_type": "code",
   "execution_count": null,
   "metadata": {
    "ExecuteTime": {
     "end_time": "2025-01-29T08:43:59.714885Z",
     "start_time": "2025-01-29T08:43:59.706949Z"
    },
    "id": "xleQoeKbVafX"
   },
   "outputs": [],
   "source": [
    "encoder = LabelEncoder()\n",
    "y_train = encoder.fit_transform(y_train)\n",
    "y_test = encoder.transform(y_test)"
   ]
  },
  {
   "cell_type": "code",
   "execution_count": null,
   "metadata": {
    "ExecuteTime": {
     "end_time": "2025-01-29T08:43:59.728075Z",
     "start_time": "2025-01-29T08:43:59.714885Z"
    },
    "colab": {
     "base_uri": "https://localhost:8080/"
    },
    "id": "eHQJ5QegVtdF",
    "outputId": "ebd2b12e-415d-4d58-f82a-3b015f3d0fd2"
   },
   "outputs": [],
   "source": [
    "y_train"
   ]
  },
  {
   "cell_type": "markdown",
   "metadata": {
    "id": "oZ4_HRZcSZwa"
   },
   "source": [
    "### Numpy arrays to PyTorch tensors"
   ]
  },
  {
   "cell_type": "code",
   "execution_count": null,
   "metadata": {
    "ExecuteTime": {
     "end_time": "2025-01-29T08:43:59.739268Z",
     "start_time": "2025-01-29T08:43:59.728075Z"
    },
    "id": "CHvyHOq9VuTE"
   },
   "outputs": [],
   "source": [
    "X_train_tensor = torch.from_numpy(X_train)\n",
    "X_test_tensor = torch.from_numpy(X_test)\n",
    "y_train_tensor = torch.from_numpy(y_train)\n",
    "y_test_tensor = torch.from_numpy(y_test)"
   ]
  },
  {
   "cell_type": "code",
   "execution_count": null,
   "metadata": {
    "ExecuteTime": {
     "end_time": "2025-01-29T08:43:59.750354Z",
     "start_time": "2025-01-29T08:43:59.739268Z"
    },
    "colab": {
     "base_uri": "https://localhost:8080/"
    },
    "id": "KRGQrGrWWQNN",
    "outputId": "bf185584-3d6f-47dd-e640-d95cbfbb656c"
   },
   "outputs": [],
   "source": [
    "X_train_tensor.shape  # 30 features == 30 weights AND 1 neuron == 1 bias in the model"
   ]
  },
  {
   "cell_type": "code",
   "execution_count": null,
   "metadata": {
    "ExecuteTime": {
     "end_time": "2025-01-29T08:43:59.762662Z",
     "start_time": "2025-01-29T08:43:59.752877Z"
    },
    "colab": {
     "base_uri": "https://localhost:8080/"
    },
    "id": "uXkt8Mq_WR_I",
    "outputId": "a7c7bd37-6e9d-4caf-def1-f7e3310931ee"
   },
   "outputs": [],
   "source": [
    "y_train_tensor.shape"
   ]
  },
  {
   "cell_type": "markdown",
   "metadata": {},
   "source": [
    "### Important Parameters"
   ]
  },
  {
   "cell_type": "code",
   "execution_count": null,
   "metadata": {},
   "outputs": [],
   "source": [
    "learning_rate = 0.1\n",
    "epochs = 30"
   ]
  },
  {
   "cell_type": "markdown",
   "metadata": {
    "id": "qv0fhQa1Sfx8"
   },
   "source": [
    "### Defining the model"
   ]
  },
  {
   "cell_type": "code",
   "execution_count": null,
   "metadata": {
    "ExecuteTime": {
     "end_time": "2025-01-29T08:58:55.956445Z",
     "start_time": "2025-01-29T08:58:55.947976Z"
    },
    "id": "tNrloSpuSkwk"
   },
   "outputs": [],
   "source": [
    "class MySimpleNN:\n",
    "    def __init__(self, X):\n",
    "        self.weights = torch.rand(X.shape[1], 1, dtype=torch.float64, requires_grad=True)\n",
    "        self.bias = torch.zeros(1, dtype=torch.float64, requires_grad=True)\n",
    "        print(f'Weights shape: {self.weights.shape}, Bias shape: {self.bias.shape}')\n",
    "\n",
    "    def forward(self, X):\n",
    "        z = torch.matmul(X, self.weights) + self.bias\n",
    "        y_pred = torch.sigmoid(z)\n",
    "        return y_pred\n",
    "\n",
    "    def loss_function(self, y_pred, y_train_tensor):\n",
    "        # Clamp predictions to avoid log(0)\n",
    "        epsilon = 1e-7\n",
    "        y_pred = torch.clamp(y_pred, epsilon, 1 - epsilon)\n",
    "\n",
    "        # Calculate loss\n",
    "        loss = -(y_train_tensor * torch.log(y_pred) + (1 - y_train_tensor) * torch.log(1 - y_pred)).mean()\n",
    "        return loss\n"
   ]
  },
  {
   "cell_type": "markdown",
   "metadata": {
    "id": "8IiXlBkKdONn"
   },
   "source": [
    "### Training Pipeline"
   ]
  },
  {
   "cell_type": "code",
   "execution_count": null,
   "metadata": {},
   "outputs": [],
   "source": [
    "# model = MySimpleNN(X_train_tensor)\n",
    "# y_pred = model.forward(X_train_tensor)\n",
    "# print(y_pred.shape)"
   ]
  },
  {
   "cell_type": "code",
   "execution_count": null,
   "metadata": {
    "ExecuteTime": {
     "end_time": "2025-01-29T08:59:21.783809Z",
     "start_time": "2025-01-29T08:59:21.702780Z"
    },
    "colab": {
     "base_uri": "https://localhost:8080/"
    },
    "id": "GxPsNM2_XQev",
    "outputId": "6a6eeb37-8fec-489e-8213-7522851f6b16"
   },
   "outputs": [],
   "source": [
    "# instantiate model\n",
    "model = MySimpleNN(X_train_tensor)\n",
    "\n",
    "# define loop\n",
    "for epoch in range(1,epochs+1):\n",
    "    # forward pass\n",
    "    y_pred = model.forward(X_train_tensor)\n",
    "    # loss calculate\n",
    "    loss = model.loss_function(y_pred, y_train_tensor)\n",
    "\n",
    "    # backward pass\n",
    "    loss.backward()\n",
    "\n",
    "    # parameters update\n",
    "    with torch.no_grad():\n",
    "        model.weights.data -= learning_rate * model.weights.grad\n",
    "        model.bias.data    -= learning_rate * model.bias.grad\n",
    "\n",
    "    # zero gradients - to prevent Gradient Accumulation\n",
    "    model.weights.grad.zero_()\n",
    "    model.bias.grad.zero_()\n",
    "\n",
    "    # print loss in each epoch\n",
    "    print(f'Epoch: {epoch}, Loss: {loss.item()}')"
   ]
  },
  {
   "cell_type": "code",
   "execution_count": null,
   "metadata": {
    "ExecuteTime": {
     "end_time": "2025-01-29T09:11:14.686349Z",
     "start_time": "2025-01-29T09:11:14.671902Z"
    }
   },
   "outputs": [],
   "source": [
    "model.weights"
   ]
  },
  {
   "cell_type": "code",
   "execution_count": null,
   "metadata": {
    "ExecuteTime": {
     "end_time": "2025-01-29T09:10:57.192366Z",
     "start_time": "2025-01-29T09:10:57.180337Z"
    },
    "colab": {
     "base_uri": "https://localhost:8080/"
    },
    "id": "J3GSLAo5oHlk",
    "outputId": "945f0f89-42c7-4f43-ff13-ae276e8fa96e"
   },
   "outputs": [],
   "source": [
    "model.bias"
   ]
  },
  {
   "cell_type": "markdown",
   "metadata": {
    "id": "qzJuqvFHdSCV"
   },
   "source": [
    "### Evaluation"
   ]
  },
  {
   "cell_type": "code",
   "execution_count": null,
   "metadata": {
    "ExecuteTime": {
     "end_time": "2025-01-29T08:59:45.622520Z",
     "start_time": "2025-01-29T08:59:45.610602Z"
    },
    "colab": {
     "base_uri": "https://localhost:8080/"
    },
    "id": "Z5EjQbXORCqd",
    "outputId": "62994071-5c69-4ef1-fef5-94e4a87792d6"
   },
   "outputs": [],
   "source": [
    "# model evaluation\n",
    "with torch.no_grad():\n",
    "    y_pred = model.forward(X_test_tensor)  # value between 0 and 1\n",
    "    y_pred = (y_pred > 0.5).float() # convert to binary predictions\n",
    "    accuracy = (y_pred == y_test_tensor).float().mean()\n",
    "    print(f'Accuracy: {accuracy.item()}')\n"
   ]
  },
  {
   "cell_type": "markdown",
   "metadata": {
    "id": "KdTzhCJmU6cS"
   },
   "source": [
    "### Needs few improvement"
   ]
  },
  {
   "cell_type": "markdown",
   "metadata": {},
   "source": [
    "### How forward automatically works"
   ]
  },
  {
   "cell_type": "code",
   "execution_count": null,
   "metadata": {},
   "outputs": [],
   "source": [
    "from torch import nn\n",
    "\n",
    "class MyLinear(nn.Linear):\n",
    "    def forward(self, input):\n",
    "        print(\"Inside MyLinear.forward\")\n",
    "        return super().forward(input)\n",
    "\n",
    "layer = MyLinear(10, 5)\n",
    "x = torch.randn(2, 10)\n",
    "out = layer(x) # the class object is called as a function, this triggers the __call__ method\n",
    "    # prints message → proves __call__ routes to forward"
   ]
  },
  {
   "cell_type": "code",
   "execution_count": null,
   "metadata": {},
   "outputs": [],
   "source": [
    "out"
   ]
  }
 ],
 "metadata": {
  "colab": {
   "provenance": []
  },
  "kernelspec": {
   "display_name": "base",
   "language": "python",
   "name": "python3"
  },
  "language_info": {
   "codemirror_mode": {
    "name": "ipython",
    "version": 3
   },
   "file_extension": ".py",
   "mimetype": "text/x-python",
   "name": "python",
   "nbconvert_exporter": "python",
   "pygments_lexer": "ipython3",
   "version": "3.12.7"
  },
  "widgets": {
   "application/vnd.jupyter.widget-state+json": {
    "state": {},
    "version_major": 2,
    "version_minor": 0
   }
  }
 },
 "nbformat": 4,
 "nbformat_minor": 4
}
