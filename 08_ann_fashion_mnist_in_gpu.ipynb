{
 "cells": [
  {
   "cell_type": "code",
   "execution_count": null,
   "metadata": {
    "ExecuteTime": {
     "end_time": "2025-06-17T13:55:15.138330Z",
     "start_time": "2025-06-17T13:55:15.129810Z"
    },
    "id": "EhZMtSdM3W4N"
   },
   "outputs": [],
   "source": [
    "import pandas as pd\n",
    "from sklearn.model_selection import train_test_split\n",
    "import torch\n",
    "from torch.utils.data import Dataset, DataLoader\n",
    "import torch.nn as nn\n",
    "import torch.optim as optim\n",
    "import matplotlib.pyplot as plt"
   ]
  },
  {
   "cell_type": "code",
   "execution_count": null,
   "metadata": {
    "ExecuteTime": {
     "end_time": "2025-06-17T13:55:15.195926Z",
     "start_time": "2025-06-17T13:55:15.176818Z"
    },
    "colab": {
     "base_uri": "https://localhost:8080/"
    },
    "id": "NCrakIjRollf",
    "outputId": "c25e2b69-5799-4a9a-b7b1-8c26452b5433"
   },
   "outputs": [],
   "source": [
    "# Set random seeds for reproducibility\n",
    "torch.manual_seed(42)"
   ]
  },
  {
   "cell_type": "code",
   "execution_count": null,
   "metadata": {
    "ExecuteTime": {
     "end_time": "2025-06-17T13:55:15.226221Z",
     "start_time": "2025-06-17T13:55:15.218706Z"
    },
    "colab": {
     "base_uri": "https://localhost:8080/"
    },
    "id": "3DYn2_6J2oYF",
    "outputId": "28bb4bca-fe1d-4250-96aa-28f1e8735b54"
   },
   "outputs": [],
   "source": [
    "# Check for GPU\n",
    "device = torch.device('cuda' if torch.cuda.is_available() else 'cpu')\n",
    "print(f\"Using device: {device}\")"
   ]
  },
  {
   "cell_type": "code",
   "execution_count": null,
   "metadata": {
    "ExecuteTime": {
     "end_time": "2025-06-17T13:55:20.603909Z",
     "start_time": "2025-06-17T13:55:15.239429Z"
    },
    "colab": {
     "base_uri": "https://localhost:8080/",
     "height": 255
    },
    "id": "7lZjGSXR35Qz",
    "outputId": "39b0df21-6aac-43e7-f652-3d377741b676"
   },
   "outputs": [],
   "source": [
    "df = pd.read_csv('dataset/fashion-mnist_train.csv')\n",
    "df.head()"
   ]
  },
  {
   "cell_type": "code",
   "execution_count": null,
   "metadata": {
    "ExecuteTime": {
     "end_time": "2025-06-17T13:55:20.620072Z",
     "start_time": "2025-06-17T13:55:20.609Z"
    },
    "colab": {
     "base_uri": "https://localhost:8080/"
    },
    "id": "u70Dnz9f36Yo",
    "outputId": "df768a14-3f30-4780-a8bd-5c0c6e4129f6"
   },
   "outputs": [],
   "source": [
    "df.shape"
   ]
  },
  {
   "cell_type": "code",
   "execution_count": null,
   "metadata": {
    "ExecuteTime": {
     "end_time": "2025-06-17T13:55:22.861426Z",
     "start_time": "2025-06-17T13:55:20.624087Z"
    },
    "colab": {
     "base_uri": "https://localhost:8080/",
     "height": 1000
    },
    "id": "jFkhK1dvyzW8",
    "outputId": "94c3e113-afef-472d-8e9c-d17843e660cb"
   },
   "outputs": [],
   "source": [
    "# Create a 4x4 grid of images\n",
    "fig, axes = plt.subplots(4, 4, figsize=(10, 10))\n",
    "fig.suptitle(\"First 16 Images\", fontsize=16)\n",
    "\n",
    "# Plot the first 16 images from the dataset\n",
    "for i, ax in enumerate(axes.flat):\n",
    "    img = df.iloc[i, 1:].values.reshape(28, 28)  # Reshape to 28x28\n",
    "    ax.imshow(img)  # Display in grayscale\n",
    "    ax.axis('off')  # Remove axis for a cleaner look\n",
    "    ax.set_title(f\"Label: {df.iloc[i, 0]}\")  # Show the label\n",
    "\n",
    "plt.tight_layout(rect=[0, 0, 1, 0.96])  # Adjust layout to fit the title\n",
    "plt.show()\n"
   ]
  },
  {
   "cell_type": "code",
   "execution_count": null,
   "metadata": {
    "ExecuteTime": {
     "end_time": "2025-06-17T13:55:22.876034Z",
     "start_time": "2025-06-17T13:55:22.866488Z"
    },
    "id": "CPoB2jkn3-8V"
   },
   "outputs": [],
   "source": [
    "# train test split\n",
    "\n",
    "X = df.iloc[:, 1:].values\n",
    "y = df.iloc[:, 0].values"
   ]
  },
  {
   "cell_type": "code",
   "execution_count": null,
   "metadata": {
    "ExecuteTime": {
     "end_time": "2025-06-17T13:55:24.702255Z",
     "start_time": "2025-06-17T13:55:22.883569Z"
    },
    "id": "CtmEmavE4K7V"
   },
   "outputs": [],
   "source": [
    "X_train, X_test, y_train, y_test = train_test_split(X, y, test_size=0.2, random_state=42)"
   ]
  },
  {
   "cell_type": "code",
   "execution_count": null,
   "metadata": {
    "ExecuteTime": {
     "end_time": "2025-06-17T13:55:24.915998Z",
     "start_time": "2025-06-17T13:55:24.705804Z"
    },
    "id": "6zRx5nPbkoM-"
   },
   "outputs": [],
   "source": [
    "X_train = X_train/255.0\n",
    "X_test = X_test/255.0"
   ]
  },
  {
   "cell_type": "code",
   "execution_count": null,
   "metadata": {
    "ExecuteTime": {
     "end_time": "2025-06-17T13:55:24.929913Z",
     "start_time": "2025-06-17T13:55:24.919685Z"
    },
    "id": "0oISAHnU5GnT"
   },
   "outputs": [],
   "source": [
    "class CustomDataset(Dataset):\n",
    "\n",
    "    def __init__(self, features, labels):\n",
    "\n",
    "        # Convert to PyTorch tensors\n",
    "        self.features = torch.tensor(features, dtype=torch.float32)\n",
    "        self.labels = torch.tensor(labels, dtype=torch.long)\n",
    "\n",
    "    def __len__(self):\n",
    "        return len(self.features)\n",
    "\n",
    "    def __getitem__(self, index):\n",
    "        return self.features[index], self.labels[index]"
   ]
  },
  {
   "cell_type": "code",
   "execution_count": null,
   "metadata": {
    "ExecuteTime": {
     "end_time": "2025-06-17T13:55:24.981046Z",
     "start_time": "2025-06-17T13:55:24.933926Z"
    },
    "id": "Thpv_XzP5z_b"
   },
   "outputs": [],
   "source": [
    "train_dataset = CustomDataset(X_train, y_train)"
   ]
  },
  {
   "cell_type": "code",
   "execution_count": null,
   "metadata": {
    "ExecuteTime": {
     "end_time": "2025-06-17T13:55:25.006785Z",
     "start_time": "2025-06-17T13:55:24.984057Z"
    },
    "id": "kqAkmOzV58TD"
   },
   "outputs": [],
   "source": [
    "test_dataset = CustomDataset(X_test, y_test)"
   ]
  },
  {
   "cell_type": "code",
   "execution_count": null,
   "metadata": {
    "ExecuteTime": {
     "end_time": "2025-06-17T13:55:25.017869Z",
     "start_time": "2025-06-17T13:55:25.009307Z"
    },
    "id": "UW-HhV4x5_PD"
   },
   "outputs": [],
   "source": [
    "train_loader = DataLoader(train_dataset, batch_size=128, shuffle=True, pin_memory=True)\n",
    "test_loader = DataLoader(test_dataset, batch_size=128, shuffle=False, pin_memory=True)"
   ]
  },
  {
   "cell_type": "code",
   "execution_count": null,
   "metadata": {
    "ExecuteTime": {
     "end_time": "2025-06-17T13:55:25.031755Z",
     "start_time": "2025-06-17T13:55:25.020881Z"
    },
    "colab": {
     "base_uri": "https://localhost:8080/"
    },
    "id": "uZq-FOc9Zdw4",
    "outputId": "f86da887-e358-4bad-e72f-6db6e4e68c7b"
   },
   "outputs": [],
   "source": [
    "len(train_loader)"
   ]
  },
  {
   "cell_type": "code",
   "execution_count": null,
   "metadata": {
    "ExecuteTime": {
     "end_time": "2025-06-17T13:55:25.043127Z",
     "start_time": "2025-06-17T13:55:25.035282Z"
    },
    "id": "Xgn1tw9I6fPT"
   },
   "outputs": [],
   "source": [
    "class MyNN(nn.Module):\n",
    "\n",
    "    def __init__(self, num_features):\n",
    "\n",
    "        super().__init__()\n",
    "        self.model = nn.Sequential(\n",
    "            nn.Linear(num_features, 128),\n",
    "            nn.ReLU(),\n",
    "            nn.Linear(128, 64),\n",
    "            nn.ReLU(),\n",
    "            nn.Linear(64, 10)\n",
    "\n",
    "        )\n",
    "\n",
    "    def forward(self, x):\n",
    "\n",
    "        return self.model(x)\n"
   ]
  },
  {
   "cell_type": "code",
   "execution_count": null,
   "metadata": {
    "id": "z3LfMWb698O5"
   },
   "outputs": [],
   "source": [
    "learning_rate = 0.1\n",
    "epochs = 100"
   ]
  },
  {
   "cell_type": "code",
   "execution_count": null,
   "metadata": {
    "ExecuteTime": {
     "end_time": "2025-06-17T13:55:25.077654Z",
     "start_time": "2025-06-17T13:55:25.059699Z"
    },
    "id": "JpbU_UCp9N1r"
   },
   "outputs": [],
   "source": [
    "# instantiate the model\n",
    "model = MyNN(X_train.shape[1])\n",
    "model = model.to(device)\n",
    "# loss function\n",
    "criterion = nn.CrossEntropyLoss()\n",
    "# optimizer\n",
    "optimizer = optim.SGD(model.parameters(), lr=learning_rate)"
   ]
  },
  {
   "cell_type": "code",
   "execution_count": null,
   "metadata": {
    "ExecuteTime": {
     "end_time": "2025-06-17T13:59:28.365355Z",
     "start_time": "2025-06-17T13:55:25.080665Z"
    },
    "colab": {
     "base_uri": "https://localhost:8080/"
    },
    "id": "0UpCVk9X-JaI",
    "outputId": "4089bf3c-4f18-42c3-92b7-9cf4dcbc8577"
   },
   "outputs": [],
   "source": [
    "# training loop\n",
    "\n",
    "best_loss = float('inf')\n",
    "patience = 3\n",
    "counter = 0\n",
    "\n",
    "for epoch in range(epochs):\n",
    "\n",
    "    total_epoch_loss = 0\n",
    "\n",
    "    for batch_features, batch_labels in train_loader:\n",
    "\n",
    "        # move data to gpu\n",
    "        batch_features, batch_labels = batch_features.to(device), batch_labels.to(device)\n",
    "\n",
    "        # forward pass\n",
    "        outputs = model(batch_features)\n",
    "\n",
    "        # calculate loss\n",
    "        loss = criterion(outputs, batch_labels)\n",
    "\n",
    "        # back pass\n",
    "        optimizer.zero_grad()\n",
    "        loss.backward()\n",
    "\n",
    "        # update grads\n",
    "        optimizer.step()\n",
    "\n",
    "        total_epoch_loss = total_epoch_loss + loss.item()\n",
    "\n",
    "    avg_loss = total_epoch_loss/len(train_loader)\n",
    "    print(f'Epoch: {epoch + 1} , Loss: {avg_loss}')\n",
    "    \n",
    "    # --- Simple Early Stopping (without validation by criterion) ---\n",
    "    if avg_loss < best_loss:\n",
    "        best_loss = avg_loss\n",
    "        counter = 0\n",
    "    else:\n",
    "        counter += 1\n",
    "        if counter >= patience:\n",
    "            print(\"Early stopping triggered.\")\n",
    "            break"
   ]
  },
  {
   "cell_type": "code",
   "execution_count": null,
   "metadata": {
    "ExecuteTime": {
     "end_time": "2025-06-17T13:59:28.382838Z",
     "start_time": "2025-06-17T13:59:28.368367Z"
    },
    "colab": {
     "base_uri": "https://localhost:8080/"
    },
    "id": "CA6B2YPYAOtu",
    "outputId": "a4e4d29f-16cc-4661-c3ee-f283d9507ea1"
   },
   "outputs": [],
   "source": [
    "model.eval()"
   ]
  },
  {
   "cell_type": "code",
   "execution_count": null,
   "metadata": {
    "ExecuteTime": {
     "end_time": "2025-06-17T13:59:28.979061Z",
     "start_time": "2025-06-17T13:59:28.385850Z"
    },
    "colab": {
     "base_uri": "https://localhost:8080/"
    },
    "id": "Xwirkg4PPNhB",
    "outputId": "2cb29ff7-2ec2-4d0d-e7d9-d62cb9e04594"
   },
   "outputs": [],
   "source": [
    "# evaluation code\n",
    "total = 0\n",
    "correct = 0\n",
    "\n",
    "with torch.no_grad():\n",
    "\n",
    "    for batch_features, batch_labels in test_loader:\n",
    "\n",
    "        # move data to gpu\n",
    "        batch_features, batch_labels = batch_features.to(device), batch_labels.to(device)\n",
    "\n",
    "        outputs = model(batch_features)\n",
    "\n",
    "        _, predicted = torch.max(outputs, 1)\n",
    "\n",
    "        total = total + batch_labels.shape[0]\n",
    "\n",
    "        correct = correct + (predicted == batch_labels).sum().item()\n",
    "\n",
    "print(correct/total)"
   ]
  },
  {
   "cell_type": "markdown",
   "metadata": {},
   "source": [
    "Now how can we go over 90 % accuracy?"
   ]
  },
  {
   "cell_type": "code",
   "execution_count": null,
   "metadata": {
    "ExecuteTime": {
     "end_time": "2025-06-17T14:08:40.393529Z",
     "start_time": "2025-06-17T14:08:38.635789Z"
    }
   },
   "outputs": [],
   "source": [
    "# evaluation code - for TRAINING DATA\n",
    "total = 0\n",
    "correct = 0\n",
    "\n",
    "with torch.no_grad():\n",
    "\n",
    "    for batch_features, batch_labels in train_loader:\n",
    "\n",
    "        # move data to gpu\n",
    "        batch_features, batch_labels = batch_features.to(device), batch_labels.to(device)\n",
    "\n",
    "        outputs = model(batch_features)\n",
    "\n",
    "        _, predicted = torch.max(outputs, 1)\n",
    "\n",
    "        total = total + batch_labels.shape[0]\n",
    "\n",
    "        correct = correct + (predicted == batch_labels).sum().item()\n",
    "\n",
    "print(correct/total)"
   ]
  },
  {
   "cell_type": "markdown",
   "metadata": {},
   "source": [
    "So, Clearly there is overfitting. This is bad. We need to reduce the gap between training and testing accuracy"
   ]
  }
 ],
 "metadata": {
  "accelerator": "GPU",
  "colab": {
   "gpuType": "T4",
   "provenance": []
  },
  "kernelspec": {
   "display_name": "Python 3 (ipykernel)",
   "language": "python",
   "name": "python3"
  },
  "language_info": {
   "name": "python"
  }
 },
 "nbformat": 4,
 "nbformat_minor": 0
}
