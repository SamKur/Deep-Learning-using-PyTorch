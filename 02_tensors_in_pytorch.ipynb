{
 "cells": [
  {
   "cell_type": "code",
   "execution_count": 5,
   "metadata": {
    "ExecuteTime": {
     "end_time": "2024-11-29T13:17:57.925323Z",
     "start_time": "2024-11-29T13:17:47.778921Z"
    },
    "colab": {
     "base_uri": "https://localhost:8080/"
    },
    "id": "t19_gq09KjvE",
    "outputId": "f3c00de5-e894-4780-dabe-a1f6287d42c0"
   },
   "outputs": [
    {
     "name": "stdout",
     "output_type": "stream",
     "text": [
      "2.5.1\n"
     ]
    }
   ],
   "source": [
    "import torch\n",
    "print(torch.__version__)"
   ]
  },
  {
   "cell_type": "code",
   "execution_count": 4,
   "metadata": {
    "ExecuteTime": {
     "end_time": "2024-11-29T13:17:59.258334Z",
     "start_time": "2024-11-29T13:17:57.931446Z"
    },
    "colab": {
     "base_uri": "https://localhost:8080/"
    },
    "id": "W8o-1cUl4M2x",
    "outputId": "3183bc2e-ff70-4138-8621-0dc498703a41"
   },
   "outputs": [
    {
     "name": "stdout",
     "output_type": "stream",
     "text": [
      "GPU is available! Using GPU:\n",
      "NVIDIA GeForce GTX 1650\n"
     ]
    }
   ],
   "source": [
    "if torch.cuda.is_available():\n",
    "    print(\"GPU is available! Using GPU:\")\n",
    "    print(torch.cuda.get_device_name(0))\n",
    "    # print(f\"Using GPU: {torch.cuda.get_device_name(0)}\")\n",
    "else:\n",
    "    print(\"GPU not available. Using CPU.\")"
   ]
  },
  {
   "cell_type": "markdown",
   "metadata": {
    "id": "BFcs4wpz4wlA"
   },
   "source": [
    "## Creating a Tensor"
   ]
  },
  {
   "cell_type": "code",
   "execution_count": 44,
   "metadata": {
    "ExecuteTime": {
     "end_time": "2024-11-29T13:17:59.351941Z",
     "start_time": "2024-11-29T13:17:59.259378Z"
    },
    "id": "AYzOQK7n4nNq"
   },
   "outputs": [
    {
     "data": {
      "text/plain": [
       "tensor([[3.9727e-23, 1.1308e-42, 0.0000e+00],\n",
       "        [0.0000e+00, 0.0000e+00, 0.0000e+00]])"
      ]
     },
     "execution_count": 44,
     "metadata": {},
     "output_type": "execute_result"
    }
   ],
   "source": [
    "# using empty\n",
    "a = torch.empty(2,3)\n",
    "a\n",
    "# a[0,1] # OR\n",
    "# a[1][2]"
   ]
  },
  {
   "cell_type": "code",
   "execution_count": 45,
   "metadata": {
    "ExecuteTime": {
     "end_time": "2024-11-29T13:17:59.370240Z",
     "start_time": "2024-11-29T13:17:59.351941Z"
    },
    "colab": {
     "base_uri": "https://localhost:8080/"
    },
    "editable": true,
    "id": "cSOoTAZY5FR1",
    "outputId": "07fc1fa4-d390-4afa-e0a6-52192ef22d2e",
    "slideshow": {
     "slide_type": ""
    },
    "tags": []
   },
   "outputs": [
    {
     "data": {
      "text/plain": [
       "torch.Tensor"
      ]
     },
     "execution_count": 45,
     "metadata": {},
     "output_type": "execute_result"
    }
   ],
   "source": [
    "# check type\n",
    "type(a)"
   ]
  },
  {
   "cell_type": "code",
   "execution_count": 46,
   "metadata": {
    "ExecuteTime": {
     "end_time": "2024-11-29T13:17:59.397895Z",
     "start_time": "2024-11-29T13:17:59.379470Z"
    },
    "colab": {
     "base_uri": "https://localhost:8080/"
    },
    "id": "LxVQPOVN47Dt",
    "outputId": "1c819177-0861-4deb-f1ad-3024087bc36f"
   },
   "outputs": [
    {
     "data": {
      "text/plain": [
       "tensor([[0., 0., 0.],\n",
       "        [0., 0., 0.]])"
      ]
     },
     "execution_count": 46,
     "metadata": {},
     "output_type": "execute_result"
    }
   ],
   "source": [
    "# using zeros\n",
    "torch.zeros(2,3)"
   ]
  },
  {
   "cell_type": "code",
   "execution_count": 47,
   "metadata": {
    "ExecuteTime": {
     "end_time": "2024-11-29T13:17:59.434346Z",
     "start_time": "2024-11-29T13:17:59.401398Z"
    },
    "colab": {
     "base_uri": "https://localhost:8080/"
    },
    "id": "U3-KPOlX48mT",
    "outputId": "57557178-e7b2-4777-880e-f288c4a59a6a"
   },
   "outputs": [
    {
     "data": {
      "text/plain": [
       "tensor([[1., 1., 1.],\n",
       "        [1., 1., 1.]])"
      ]
     },
     "execution_count": 47,
     "metadata": {},
     "output_type": "execute_result"
    }
   ],
   "source": [
    "# using ones\n",
    "torch.ones(2,3)"
   ]
  },
  {
   "cell_type": "code",
   "execution_count": 81,
   "metadata": {
    "ExecuteTime": {
     "end_time": "2024-11-29T13:17:59.458799Z",
     "start_time": "2024-11-29T13:17:59.437965Z"
    },
    "colab": {
     "base_uri": "https://localhost:8080/"
    },
    "id": "U_j_mRGK4-DA",
    "outputId": "a28018f3-8809-475e-b551-faeb8c3a7e2a"
   },
   "outputs": [
    {
     "data": {
      "text/plain": [
       "tensor([[0.5277, 0.2472, 0.7909],\n",
       "        [0.4235, 0.0169, 0.2209]])"
      ]
     },
     "execution_count": 81,
     "metadata": {},
     "output_type": "execute_result"
    }
   ],
   "source": [
    "# using rand\n",
    "torch.rand(size = (2,3))"
   ]
  },
  {
   "cell_type": "code",
   "execution_count": 62,
   "metadata": {
    "ExecuteTime": {
     "end_time": "2024-11-29T13:17:59.480692Z",
     "start_time": "2024-11-29T13:17:59.459335Z"
    },
    "colab": {
     "base_uri": "https://localhost:8080/"
    },
    "id": "lCAf-HRw5SiA",
    "outputId": "8fa32588-5c5d-458a-c953-4a98264d5d63"
   },
   "outputs": [
    {
     "data": {
      "text/plain": [
       "tensor([[0.4818, 0.8853, 0.5784],\n",
       "        [0.6169, 0.3535, 0.2339]])"
      ]
     },
     "execution_count": 62,
     "metadata": {},
     "output_type": "execute_result"
    }
   ],
   "source": [
    "# use of seed\n",
    "torch.rand(2,3)"
   ]
  },
  {
   "cell_type": "code",
   "execution_count": 82,
   "metadata": {
    "ExecuteTime": {
     "end_time": "2024-11-29T13:17:59.508448Z",
     "start_time": "2024-11-29T13:17:59.483711Z"
    },
    "colab": {
     "base_uri": "https://localhost:8080/"
    },
    "id": "DvAqsoFG5UMr",
    "outputId": "c010cd7a-e710-4553-f269-c3b5436015d3"
   },
   "outputs": [
    {
     "data": {
      "text/plain": [
       "tensor([[0.1117, 0.8158, 0.2626],\n",
       "        [0.4839, 0.6765, 0.7539]])"
      ]
     },
     "execution_count": 82,
     "metadata": {},
     "output_type": "execute_result"
    }
   ],
   "source": [
    "# manual_seed\n",
    "torch.manual_seed(100)\n",
    "torch.rand(2,3)"
   ]
  },
  {
   "cell_type": "code",
   "execution_count": 83,
   "metadata": {
    "ExecuteTime": {
     "end_time": "2024-11-29T13:17:59.539479Z",
     "start_time": "2024-11-29T13:17:59.511578Z"
    },
    "colab": {
     "base_uri": "https://localhost:8080/"
    },
    "id": "96Akgtgs5Ulp",
    "outputId": "918a84e0-d881-4dbe-b116-15bef55a0321"
   },
   "outputs": [
    {
     "data": {
      "text/plain": [
       "tensor([[0.1117, 0.8158, 0.2626],\n",
       "        [0.4839, 0.6765, 0.7539]])"
      ]
     },
     "execution_count": 83,
     "metadata": {},
     "output_type": "execute_result"
    }
   ],
   "source": [
    "torch.manual_seed(100)\n",
    "torch.rand(2,3)"
   ]
  },
  {
   "cell_type": "code",
   "execution_count": 84,
   "metadata": {
    "ExecuteTime": {
     "end_time": "2024-11-29T13:17:59.565321Z",
     "start_time": "2024-11-29T13:17:59.544257Z"
    },
    "colab": {
     "base_uri": "https://localhost:8080/"
    },
    "id": "-YLLqcGB4_4J",
    "outputId": "9ae0b673-df86-4ca4-ce21-40a822daa1dc"
   },
   "outputs": [
    {
     "data": {
      "text/plain": [
       "tensor([[1, 2, 3],\n",
       "        [4, 5, 6]])"
      ]
     },
     "execution_count": 84,
     "metadata": {},
     "output_type": "execute_result"
    }
   ],
   "source": [
    "# using tensor\n",
    "torch.tensor([[1,2,3],[4,5,6]])"
   ]
  },
  {
   "cell_type": "code",
   "execution_count": 87,
   "metadata": {
    "ExecuteTime": {
     "end_time": "2024-11-29T13:17:59.593578Z",
     "start_time": "2024-11-29T13:17:59.569295Z"
    },
    "colab": {
     "base_uri": "https://localhost:8080/"
    },
    "id": "nLj35yxr6Qgv",
    "outputId": "8a90e160-be7a-4463-a812-a3b496ce9190"
   },
   "outputs": [
    {
     "name": "stdout",
     "output_type": "stream",
     "text": [
      "using arange -> tensor([0, 2, 4, 6, 8])\n",
      "using linspace -> tensor([ 0.0000,  1.1111,  2.2222,  3.3333,  4.4444,  5.5556,  6.6667,  7.7778,\n",
      "         8.8889, 10.0000])\n",
      "using eye -> tensor([[1., 0.],\n",
      "        [0., 1.],\n",
      "        [0., 0.],\n",
      "        [0., 0.],\n",
      "        [0., 0.]])\n",
      "using full -> tensor([[5, 5, 5],\n",
      "        [5, 5, 5],\n",
      "        [5, 5, 5]])\n"
     ]
    }
   ],
   "source": [
    "# other ways\n",
    "\n",
    "# arange\n",
    "print(\"using arange ->\", torch.arange(0,10,2))\n",
    "\n",
    "# using linspace\n",
    "print(\"using linspace ->\", torch.linspace(0,10,10))\n",
    "\n",
    "# using eye\n",
    "print(\"using eye ->\", torch.eye(n=5)) #m = no of cols\n",
    "\n",
    "# using full\n",
    "print(\"using full ->\", torch.full(size=(3, 3), fill_value=5))"
   ]
  },
  {
   "cell_type": "markdown",
   "metadata": {
    "id": "0ejaUWSkinz0"
   },
   "source": [
    "## Tensor Shapes"
   ]
  },
  {
   "cell_type": "code",
   "execution_count": 88,
   "metadata": {
    "ExecuteTime": {
     "end_time": "2024-11-29T13:17:59.610577Z",
     "start_time": "2024-11-29T13:17:59.597357Z"
    },
    "colab": {
     "base_uri": "https://localhost:8080/"
    },
    "id": "HDrr5mQ86R4K",
    "outputId": "c5b8808e-a87d-41d1-8372-f21955072091"
   },
   "outputs": [
    {
     "data": {
      "text/plain": [
       "tensor([[1, 2, 3],\n",
       "        [4, 5, 6]])"
      ]
     },
     "execution_count": 88,
     "metadata": {},
     "output_type": "execute_result"
    }
   ],
   "source": [
    "x = torch.tensor([[1,2,3],[4,5,6]])\n",
    "x"
   ]
  },
  {
   "cell_type": "code",
   "execution_count": 89,
   "metadata": {
    "ExecuteTime": {
     "end_time": "2024-11-29T13:17:59.639074Z",
     "start_time": "2024-11-29T13:17:59.621886Z"
    },
    "colab": {
     "base_uri": "https://localhost:8080/"
    },
    "id": "xGZhrLablBq-",
    "outputId": "6e610739-d8c8-4b41-9039-81a269f093ab"
   },
   "outputs": [
    {
     "data": {
      "text/plain": [
       "torch.Size([2, 3])"
      ]
     },
     "execution_count": 89,
     "metadata": {},
     "output_type": "execute_result"
    }
   ],
   "source": [
    "x.shape"
   ]
  },
  {
   "cell_type": "code",
   "execution_count": 92,
   "metadata": {
    "ExecuteTime": {
     "end_time": "2024-11-29T13:17:59.657531Z",
     "start_time": "2024-11-29T13:17:59.643615Z"
    },
    "colab": {
     "base_uri": "https://localhost:8080/"
    },
    "id": "NEQW9QhmlKXA",
    "outputId": "422963c4-f30d-4086-d05b-51633fa2c5ae"
   },
   "outputs": [
    {
     "data": {
      "text/plain": [
       "tensor([[4579660422986072064, 4635705220378015972, 4661726013461248228],\n",
       "        [4681742012764214613, 4692750812811507940,                   0]])"
      ]
     },
     "execution_count": 92,
     "metadata": {},
     "output_type": "execute_result"
    }
   ],
   "source": [
    "# same shape as `x`, values can be anything\n",
    "torch.empty_like(input = x)"
   ]
  },
  {
   "cell_type": "code",
   "execution_count": 93,
   "metadata": {
    "ExecuteTime": {
     "end_time": "2024-11-29T13:17:59.678180Z",
     "start_time": "2024-11-29T13:17:59.661663Z"
    },
    "colab": {
     "base_uri": "https://localhost:8080/"
    },
    "id": "PyyKSNHTlXMU",
    "outputId": "0f7c81c3-e660-45ff-e019-1a6fa0243429"
   },
   "outputs": [
    {
     "data": {
      "text/plain": [
       "tensor([[0, 0, 0],\n",
       "        [0, 0, 0]])"
      ]
     },
     "execution_count": 93,
     "metadata": {},
     "output_type": "execute_result"
    }
   ],
   "source": [
    "torch.zeros_like(x)"
   ]
  },
  {
   "cell_type": "code",
   "execution_count": 94,
   "metadata": {
    "ExecuteTime": {
     "end_time": "2024-11-29T13:17:59.698794Z",
     "start_time": "2024-11-29T13:17:59.681718Z"
    },
    "colab": {
     "base_uri": "https://localhost:8080/"
    },
    "id": "WtKV7Wxalb3l",
    "outputId": "3200a194-3ea3-43bd-8b5f-176c62988581"
   },
   "outputs": [
    {
     "data": {
      "text/plain": [
       "tensor([[1, 1, 1],\n",
       "        [1, 1, 1]])"
      ]
     },
     "execution_count": 94,
     "metadata": {},
     "output_type": "execute_result"
    }
   ],
   "source": [
    "torch.ones_like(x)"
   ]
  },
  {
   "cell_type": "code",
   "execution_count": 98,
   "metadata": {
    "ExecuteTime": {
     "end_time": "2024-11-29T13:17:59.719973Z",
     "start_time": "2024-11-29T13:17:59.703568Z"
    },
    "colab": {
     "base_uri": "https://localhost:8080/"
    },
    "id": "1WS_uk8ileyH",
    "outputId": "2079fa8e-7e26-47d5-8a00-1756b23871d4"
   },
   "outputs": [
    {
     "data": {
      "text/plain": [
       "tensor([[0.4440, 0.9478, 0.7445],\n",
       "        [0.4892, 0.2426, 0.7003]])"
      ]
     },
     "execution_count": 98,
     "metadata": {},
     "output_type": "execute_result"
    }
   ],
   "source": [
    "# torch.rand_like(x) # must mention datatype\n",
    "t1 = torch.rand_like(x, dtype=torch.float32)\n",
    "t1"
   ]
  },
  {
   "cell_type": "markdown",
   "metadata": {
    "id": "nYM1fR5BmxIf"
   },
   "source": [
    "## Tensor Data Types"
   ]
  },
  {
   "cell_type": "code",
   "execution_count": 100,
   "metadata": {
    "ExecuteTime": {
     "end_time": "2024-11-29T13:17:59.738054Z",
     "start_time": "2024-11-29T13:17:59.723510Z"
    },
    "colab": {
     "base_uri": "https://localhost:8080/"
    },
    "id": "Jy-rBsKSliAe",
    "outputId": "ee80238b-4e5e-493f-f43f-35e0501fd089"
   },
   "outputs": [
    {
     "data": {
      "text/plain": [
       "torch.int64"
      ]
     },
     "execution_count": 100,
     "metadata": {},
     "output_type": "execute_result"
    }
   ],
   "source": [
    "# find data type\n",
    "x.dtype"
   ]
  },
  {
   "cell_type": "code",
   "execution_count": 103,
   "metadata": {
    "ExecuteTime": {
     "end_time": "2024-11-29T13:17:59.756666Z",
     "start_time": "2024-11-29T13:17:59.740879Z"
    },
    "colab": {
     "base_uri": "https://localhost:8080/"
    },
    "id": "6T2gmrujnaMA",
    "outputId": "4dd19471-a4e0-42ab-9124-5e68eef167a7"
   },
   "outputs": [
    {
     "data": {
      "text/plain": [
       "tensor([1, 2, 3], dtype=torch.int32)"
      ]
     },
     "execution_count": 103,
     "metadata": {},
     "output_type": "execute_result"
    }
   ],
   "source": [
    "# assign data type\n",
    "torch.tensor([1.0,2.9,3.3], dtype=torch.int32)"
   ]
  },
  {
   "cell_type": "code",
   "execution_count": 105,
   "metadata": {
    "ExecuteTime": {
     "end_time": "2024-11-29T13:17:59.782483Z",
     "start_time": "2024-11-29T13:17:59.759588Z"
    },
    "colab": {
     "base_uri": "https://localhost:8080/"
    },
    "id": "wZ8lMLsInffd",
    "outputId": "7c4d1c9d-d611-46ac-c8df-0276ec06ec8a"
   },
   "outputs": [
    {
     "data": {
      "text/plain": [
       "tensor([1., 2., 3.], dtype=torch.float64)"
      ]
     },
     "execution_count": 105,
     "metadata": {},
     "output_type": "execute_result"
    }
   ],
   "source": [
    "torch.tensor([1,2,3], dtype=torch.float64)"
   ]
  },
  {
   "cell_type": "code",
   "execution_count": 106,
   "metadata": {
    "ExecuteTime": {
     "end_time": "2024-11-29T13:17:59.803441Z",
     "start_time": "2024-11-29T13:17:59.783577Z"
    },
    "colab": {
     "base_uri": "https://localhost:8080/"
    },
    "id": "WTAB-h_ing07",
    "outputId": "56c3f27f-d846-4e8d-9430-c3e694baf98d"
   },
   "outputs": [
    {
     "data": {
      "text/plain": [
       "tensor([[1., 2., 3.],\n",
       "        [4., 5., 6.]])"
      ]
     },
     "execution_count": 106,
     "metadata": {},
     "output_type": "execute_result"
    }
   ],
   "source": [
    "# using to()\n",
    "x.to(torch.float32)"
   ]
  },
  {
   "cell_type": "markdown",
   "metadata": {
    "id": "dLm25jhknmuQ"
   },
   "source": [
    "| **Data Type**             | **Dtype**         | **Description**                                                                                                                                                                |\n",
    "|---------------------------|-------------------|--------------------------------------------------------------------------------------------------------------------------------------------------------------------------------|\n",
    "| **32-bit Floating Point** | `torch.float32`   | Standard floating-point type used for most deep learning tasks. Provides a balance between precision and memory usage.                                                         |\n",
    "| **64-bit Floating Point** | `torch.float64`   | Double-precision floating point. Useful for high-precision numerical tasks but uses more memory.                                                                               |\n",
    "| **16-bit Floating Point** | `torch.float16`   | Half-precision floating point. Commonly used in mixed-precision training to reduce memory and computational overhead on modern GPUs.                                            |\n",
    "| **BFloat16**              | `torch.bfloat16`  | Brain floating-point format with reduced precision compared to `float16`. Used in mixed-precision training, especially on TPUs.                                                |\n",
    "| **8-bit Floating Point**  | `torch.float8`    | Ultra-low-precision floating point. Used for experimental applications and extreme memory-constrained environments (less common).                                               |\n",
    "| **8-bit Integer**         | `torch.int8`      | 8-bit signed integer. Used for quantized models to save memory and computation in inference.                                                                                   |\n",
    "| **16-bit Integer**        | `torch.int16`     | 16-bit signed integer. Useful for special numerical tasks requiring intermediate precision.                                                                                    |\n",
    "| **32-bit Integer**        | `torch.int32`     | Standard signed integer type. Commonly used for indexing and general-purpose numerical tasks.                                                                                  |\n",
    "| **64-bit Integer**        | `torch.int64`     | Long integer type. Often used for large indexing arrays or for tasks involving large numbers.                                                                                  |\n",
    "| **8-bit Unsigned Integer**| `torch.uint8`     | 8-bit unsigned integer. Commonly used for image data (e.g., pixel values between 0 and 255).                                                                                    |\n",
    "| **Boolean**               | `torch.bool`      | Boolean type, stores `True` or `False` values. Often used for masks in logical operations.                                                                                      |\n",
    "| **Complex 64**            | `torch.complex64` | Complex number type with 32-bit real and 32-bit imaginary parts. Used for scientific and signal processing tasks.                                                               |\n",
    "| **Complex 128**           | `torch.complex128`| Complex number type with 64-bit real and 64-bit imaginary parts. Offers higher precision but uses more memory.                                                                 |\n",
    "| **Quantized Integer**     | `torch.qint8`     | Quantized signed 8-bit integer. Used in quantized models for efficient inference.                                                                                              |\n",
    "| **Quantized Unsigned Integer** | `torch.quint8` | Quantized unsigned 8-bit integer. Often used for quantized tensors in image-related tasks.                                                                                     |\n"
   ]
  },
  {
   "cell_type": "markdown",
   "metadata": {
    "id": "baPoka3lqpEQ"
   },
   "source": [
    "## Mathematical operations"
   ]
  },
  {
   "cell_type": "markdown",
   "metadata": {
    "id": "wre7rSdlqsOB"
   },
   "source": [
    "### 1. Scalar operation"
   ]
  },
  {
   "cell_type": "code",
   "execution_count": 107,
   "metadata": {
    "ExecuteTime": {
     "end_time": "2024-11-29T13:17:59.821208Z",
     "start_time": "2024-11-29T13:17:59.803441Z"
    },
    "colab": {
     "base_uri": "https://localhost:8080/"
    },
    "id": "CS69nYyanqYD",
    "outputId": "c3c41829-a45c-4ee4-870e-d429fee5d570"
   },
   "outputs": [
    {
     "data": {
      "text/plain": [
       "tensor([[0.5277, 0.2472],\n",
       "        [0.7909, 0.4235]])"
      ]
     },
     "execution_count": 107,
     "metadata": {},
     "output_type": "execute_result"
    }
   ],
   "source": [
    "x = torch.rand(2,2)\n",
    "x"
   ]
  },
  {
   "cell_type": "code",
   "execution_count": 108,
   "metadata": {
    "ExecuteTime": {
     "end_time": "2024-11-29T13:17:59.850533Z",
     "start_time": "2024-11-29T13:17:59.821208Z"
    },
    "colab": {
     "base_uri": "https://localhost:8080/"
    },
    "id": "ztrwQq-cqyz9",
    "outputId": "bd34c062-483b-4be7-d702-4383edc9cc22"
   },
   "outputs": [
    {
     "data": {
      "text/plain": [
       "tensor([[0.2785, 0.0611],\n",
       "        [0.6255, 0.1793]])"
      ]
     },
     "execution_count": 108,
     "metadata": {},
     "output_type": "execute_result"
    }
   ],
   "source": [
    "# addition\n",
    "x + 2\n",
    "# substraction\n",
    "x - 2\n",
    "# multiplication\n",
    "x * 3\n",
    "# division\n",
    "x / 3\n",
    "# int division\n",
    "(x * 100)//3\n",
    "# mod\n",
    "((x * 100)//3)%2\n",
    "# power\n",
    "x**2"
   ]
  },
  {
   "cell_type": "markdown",
   "metadata": {
    "id": "y2n84o2ZrGcY"
   },
   "source": [
    "### 2. Element wise operation"
   ]
  },
  {
   "cell_type": "code",
   "execution_count": 109,
   "metadata": {
    "ExecuteTime": {
     "end_time": "2024-11-29T13:17:59.870793Z",
     "start_time": "2024-11-29T13:17:59.852560Z"
    },
    "colab": {
     "base_uri": "https://localhost:8080/"
    },
    "id": "PcnbNatwq1_3",
    "outputId": "f7be7df7-9ef2-4aac-eb7b-b2ec8f72f2cc"
   },
   "outputs": [
    {
     "name": "stdout",
     "output_type": "stream",
     "text": [
      "tensor([[0.0169, 0.2209, 0.9535],\n",
      "        [0.7064, 0.1629, 0.8902]])\n",
      "tensor([[0.5163, 0.0359, 0.6476],\n",
      "        [0.3430, 0.3182, 0.5261]])\n"
     ]
    }
   ],
   "source": [
    "a = torch.rand(2,3)\n",
    "b = torch.rand(2,3)\n",
    "\n",
    "print(a)\n",
    "print(b)"
   ]
  },
  {
   "cell_type": "code",
   "execution_count": 110,
   "metadata": {
    "ExecuteTime": {
     "end_time": "2024-11-29T13:17:59.892236Z",
     "start_time": "2024-11-29T13:17:59.873434Z"
    },
    "colab": {
     "base_uri": "https://localhost:8080/"
    },
    "id": "Qye9acabrUae",
    "outputId": "e1c457af-3cb7-40de-a6a7-eb34cc557625"
   },
   "outputs": [
    {
     "data": {
      "text/plain": [
       "tensor([[0.0169, 0.0056, 0.3059],\n",
       "        [0.0204, 0.1629, 0.3641]])"
      ]
     },
     "execution_count": 110,
     "metadata": {},
     "output_type": "execute_result"
    }
   ],
   "source": [
    "# add\n",
    "a + b\n",
    "# sub\n",
    "a - b\n",
    "# multiply\n",
    "a * b\n",
    "# division\n",
    "a / b\n",
    "# power\n",
    "a ** b\n",
    "# mod\n",
    "a % b"
   ]
  },
  {
   "cell_type": "code",
   "execution_count": 111,
   "metadata": {
    "ExecuteTime": {
     "end_time": "2024-11-29T13:17:59.905040Z",
     "start_time": "2024-11-29T13:17:59.893777Z"
    },
    "id": "ftIq3-30rnhR"
   },
   "outputs": [],
   "source": [
    "c = torch.tensor([1, -2, 3, -4])"
   ]
  },
  {
   "cell_type": "code",
   "execution_count": 112,
   "metadata": {
    "ExecuteTime": {
     "end_time": "2024-11-29T13:17:59.923911Z",
     "start_time": "2024-11-29T13:17:59.905040Z"
    },
    "colab": {
     "base_uri": "https://localhost:8080/"
    },
    "id": "GHWZWPxWr4rG",
    "outputId": "25337c88-d379-4d11-c071-77032cf61fb6"
   },
   "outputs": [
    {
     "data": {
      "text/plain": [
       "tensor([1, 2, 3, 4])"
      ]
     },
     "execution_count": 112,
     "metadata": {},
     "output_type": "execute_result"
    }
   ],
   "source": [
    "# abs\n",
    "torch.abs(c)"
   ]
  },
  {
   "cell_type": "code",
   "execution_count": 113,
   "metadata": {
    "ExecuteTime": {
     "end_time": "2024-11-29T13:17:59.942976Z",
     "start_time": "2024-11-29T13:17:59.927705Z"
    },
    "colab": {
     "base_uri": "https://localhost:8080/"
    },
    "id": "kROGMVNtrtfT",
    "outputId": "a8a5658a-d00c-4ebb-c525-3c93bc0a447f"
   },
   "outputs": [
    {
     "data": {
      "text/plain": [
       "tensor([-1,  2, -3,  4])"
      ]
     },
     "execution_count": 113,
     "metadata": {},
     "output_type": "execute_result"
    }
   ],
   "source": [
    "# negative\n",
    "torch.neg(c)"
   ]
  },
  {
   "cell_type": "code",
   "execution_count": 122,
   "metadata": {
    "ExecuteTime": {
     "end_time": "2024-11-29T13:17:59.957036Z",
     "start_time": "2024-11-29T13:17:59.944020Z"
    },
    "id": "U2RLWzlaryKh"
   },
   "outputs": [
    {
     "data": {
      "text/plain": [
       "tensor([1.9000, 2.3000, 3.7000, 4.4000])"
      ]
     },
     "execution_count": 122,
     "metadata": {},
     "output_type": "execute_result"
    }
   ],
   "source": [
    "d = torch.tensor([1.9, 2.3, 3.7, 4.4])\n",
    "d"
   ]
  },
  {
   "cell_type": "code",
   "execution_count": 124,
   "metadata": {
    "ExecuteTime": {
     "end_time": "2024-11-29T13:17:59.978052Z",
     "start_time": "2024-11-29T13:17:59.959686Z"
    },
    "colab": {
     "base_uri": "https://localhost:8080/"
    },
    "id": "g4OrL7w9sAWF",
    "outputId": "a1839e9f-f0a0-4672-9109-013c30f58d01"
   },
   "outputs": [
    {
     "data": {
      "text/plain": [
       "tensor([2., 2., 4., 4.])"
      ]
     },
     "execution_count": 124,
     "metadata": {},
     "output_type": "execute_result"
    }
   ],
   "source": [
    "# round\n",
    "torch.round(d)"
   ]
  },
  {
   "cell_type": "code",
   "execution_count": 125,
   "metadata": {},
   "outputs": [
    {
     "data": {
      "text/plain": [
       "tensor([2., 2., 4., 4.])"
      ]
     },
     "execution_count": 125,
     "metadata": {},
     "output_type": "execute_result"
    }
   ],
   "source": [
    "d.round()"
   ]
  },
  {
   "cell_type": "code",
   "execution_count": 128,
   "metadata": {},
   "outputs": [
    {
     "data": {
      "text/plain": [
       "tensor([2., 2., 4., 4.])"
      ]
     },
     "execution_count": 128,
     "metadata": {},
     "output_type": "execute_result"
    }
   ],
   "source": [
    "d.round_() # inplace modification"
   ]
  },
  {
   "cell_type": "code",
   "execution_count": 129,
   "metadata": {},
   "outputs": [
    {
     "data": {
      "text/plain": [
       "tensor([2., 2., 4., 4.])"
      ]
     },
     "execution_count": 129,
     "metadata": {},
     "output_type": "execute_result"
    }
   ],
   "source": [
    "d"
   ]
  },
  {
   "cell_type": "code",
   "execution_count": 130,
   "metadata": {
    "ExecuteTime": {
     "end_time": "2024-11-29T13:17:59.996823Z",
     "start_time": "2024-11-29T13:17:59.979594Z"
    },
    "colab": {
     "base_uri": "https://localhost:8080/"
    },
    "id": "1fPsOYOAsEE6",
    "outputId": "da1276d1-610a-4f5f-8c7d-9284b03b8dc0"
   },
   "outputs": [
    {
     "data": {
      "text/plain": [
       "tensor([2., 2., 4., 4.])"
      ]
     },
     "execution_count": 130,
     "metadata": {},
     "output_type": "execute_result"
    }
   ],
   "source": [
    "# ceil\n",
    "torch.ceil(d) # Or d.ceil()"
   ]
  },
  {
   "cell_type": "code",
   "execution_count": 131,
   "metadata": {
    "ExecuteTime": {
     "end_time": "2024-11-29T13:18:00.023801Z",
     "start_time": "2024-11-29T13:17:59.999372Z"
    },
    "colab": {
     "base_uri": "https://localhost:8080/"
    },
    "id": "ilT0yf1TsE6G",
    "outputId": "e664fb5c-0be2-4190-a5f3-40ec4a480b63"
   },
   "outputs": [
    {
     "data": {
      "text/plain": [
       "tensor([2., 2., 4., 4.])"
      ]
     },
     "execution_count": 131,
     "metadata": {},
     "output_type": "execute_result"
    }
   ],
   "source": [
    "# floor\n",
    "torch.floor(d)"
   ]
  },
  {
   "cell_type": "code",
   "execution_count": 133,
   "metadata": {
    "ExecuteTime": {
     "end_time": "2024-11-29T13:18:00.058047Z",
     "start_time": "2024-11-29T13:18:00.031550Z"
    },
    "colab": {
     "base_uri": "https://localhost:8080/"
    },
    "id": "ZzVkY4xgsFvP",
    "outputId": "e6ea8460-37a4-42da-b248-d3f7deca8a1e"
   },
   "outputs": [
    {
     "data": {
      "text/plain": [
       "tensor([2., 2., 4., 4.])"
      ]
     },
     "execution_count": 133,
     "metadata": {},
     "output_type": "execute_result"
    }
   ],
   "source": [
    "# clamp\n",
    "torch.clamp(d, min=2, max=4)"
   ]
  },
  {
   "cell_type": "markdown",
   "metadata": {
    "id": "4vWfG_ZmsN0J"
   },
   "source": [
    "### 3. Reduction operation"
   ]
  },
  {
   "cell_type": "code",
   "execution_count": 134,
   "metadata": {
    "ExecuteTime": {
     "end_time": "2024-11-29T13:18:00.086165Z",
     "start_time": "2024-11-29T13:18:00.060917Z"
    },
    "colab": {
     "base_uri": "https://localhost:8080/"
    },
    "id": "JQBlGL52sGae",
    "outputId": "c3e91f3d-4a59-4bf2-8544-2038013a7dc1"
   },
   "outputs": [
    {
     "data": {
      "text/plain": [
       "tensor([[5., 9., 8.],\n",
       "        [9., 7., 9.]])"
      ]
     },
     "execution_count": 134,
     "metadata": {},
     "output_type": "execute_result"
    }
   ],
   "source": [
    "e = torch.randint(size=(2,3), low=0, high=10, dtype=torch.float32)\n",
    "e"
   ]
  },
  {
   "cell_type": "code",
   "execution_count": 137,
   "metadata": {
    "ExecuteTime": {
     "end_time": "2024-11-29T13:18:00.107320Z",
     "start_time": "2024-11-29T13:18:00.089350Z"
    },
    "colab": {
     "base_uri": "https://localhost:8080/"
    },
    "id": "9o8zMdUosWSs",
    "outputId": "5d82b720-8f08-4b8a-d427-e91de0037c64"
   },
   "outputs": [
    {
     "name": "stdout",
     "output_type": "stream",
     "text": [
      "tensor(47.)\n",
      "tensor([14., 16., 17.])\n",
      "tensor([22., 25.])\n"
     ]
    }
   ],
   "source": [
    "print( torch.sum(e) )\n",
    "# sum along columns\n",
    "print( torch.sum(e, dim=0) )\n",
    "# sum along rows\n",
    "print( torch.sum(e, dim=1) )"
   ]
  },
  {
   "cell_type": "code",
   "execution_count": 140,
   "metadata": {
    "ExecuteTime": {
     "end_time": "2024-11-29T13:18:00.131485Z",
     "start_time": "2024-11-29T13:18:00.109357Z"
    },
    "colab": {
     "base_uri": "https://localhost:8080/"
    },
    "id": "5Am6Hrdssl90",
    "outputId": "846569f6-b10a-4826-b49c-b777e11d3972"
   },
   "outputs": [
    {
     "data": {
      "text/plain": [
       "tensor([7.3333, 8.3333])"
      ]
     },
     "execution_count": 140,
     "metadata": {},
     "output_type": "execute_result"
    }
   ],
   "source": [
    "# mean\n",
    "# torch.mean(e)\n",
    "# mean along col\n",
    "# torch.mean(e, dim=0)\n",
    "# mean along row\n",
    "torch.mean(e, dim=1)"
   ]
  },
  {
   "cell_type": "code",
   "execution_count": 144,
   "metadata": {
    "ExecuteTime": {
     "end_time": "2024-11-29T13:18:00.166997Z",
     "start_time": "2024-11-29T13:18:00.135093Z"
    },
    "colab": {
     "base_uri": "https://localhost:8080/"
    },
    "id": "wIXESOkIs8M8",
    "outputId": "cfc6b1ae-84a9-463f-b701-4e5527b4ce56"
   },
   "outputs": [
    {
     "data": {
      "text/plain": [
       "tensor(8.)"
      ]
     },
     "execution_count": 144,
     "metadata": {},
     "output_type": "execute_result"
    }
   ],
   "source": [
    "# median\n",
    "torch.median(e) # OR e.median()"
   ]
  },
  {
   "cell_type": "code",
   "execution_count": 147,
   "metadata": {
    "ExecuteTime": {
     "end_time": "2024-11-29T13:18:00.194238Z",
     "start_time": "2024-11-29T13:18:00.174121Z"
    },
    "colab": {
     "base_uri": "https://localhost:8080/"
    },
    "id": "RIs7y6cysnFT",
    "outputId": "e1aa03cb-833d-49a6-e02c-2409d8a5c3e5"
   },
   "outputs": [
    {
     "data": {
      "text/plain": [
       "tensor(5.)"
      ]
     },
     "execution_count": 147,
     "metadata": {},
     "output_type": "execute_result"
    }
   ],
   "source": [
    "# max and min\n",
    "torch.max(e)\n",
    "torch.min(e)"
   ]
  },
  {
   "cell_type": "code",
   "execution_count": 150,
   "metadata": {
    "ExecuteTime": {
     "end_time": "2024-11-29T13:18:00.217400Z",
     "start_time": "2024-11-29T13:18:00.199350Z"
    },
    "colab": {
     "base_uri": "https://localhost:8080/"
    },
    "id": "TIP4CUwasw4Q",
    "outputId": "eef4bed8-de7d-4190-dc47-2480f7c94683"
   },
   "outputs": [
    {
     "data": {
      "text/plain": [
       "tensor([360., 567.])"
      ]
     },
     "execution_count": 150,
     "metadata": {},
     "output_type": "execute_result"
    }
   ],
   "source": [
    "# product\n",
    "torch.prod(e)\n",
    "# torch.prod(e, dim=1)"
   ]
  },
  {
   "cell_type": "code",
   "execution_count": 151,
   "metadata": {
    "ExecuteTime": {
     "end_time": "2024-11-29T13:18:00.258300Z",
     "start_time": "2024-11-29T13:18:00.239347Z"
    },
    "colab": {
     "base_uri": "https://localhost:8080/"
    },
    "id": "BAQIjNjwsyLF",
    "outputId": "4e8d271e-2808-4848-fcdb-3a6b5aabaa9a"
   },
   "outputs": [
    {
     "data": {
      "text/plain": [
       "tensor(1.6021)"
      ]
     },
     "execution_count": 151,
     "metadata": {},
     "output_type": "execute_result"
    }
   ],
   "source": [
    "# standard deviation\n",
    "torch.std(e)"
   ]
  },
  {
   "cell_type": "code",
   "execution_count": 152,
   "metadata": {
    "ExecuteTime": {
     "end_time": "2024-11-29T13:18:00.280138Z",
     "start_time": "2024-11-29T13:18:00.259537Z"
    },
    "colab": {
     "base_uri": "https://localhost:8080/"
    },
    "id": "78S1Ggv_s2nC",
    "outputId": "840310de-b26c-44a7-e012-b99e557aff57"
   },
   "outputs": [
    {
     "data": {
      "text/plain": [
       "tensor(2.5667)"
      ]
     },
     "execution_count": 152,
     "metadata": {},
     "output_type": "execute_result"
    }
   ],
   "source": [
    "# variance\n",
    "torch.var(e)"
   ]
  },
  {
   "cell_type": "code",
   "execution_count": 154,
   "metadata": {
    "ExecuteTime": {
     "end_time": "2024-11-29T13:18:00.305525Z",
     "start_time": "2024-11-29T13:18:00.285734Z"
    },
    "colab": {
     "base_uri": "https://localhost:8080/"
    },
    "id": "EOtGIsd9s3UZ",
    "outputId": "69688f25-6dc7-41a6-d46a-63969e91c217"
   },
   "outputs": [
    {
     "data": {
      "text/plain": [
       "tensor(1)"
      ]
     },
     "execution_count": 154,
     "metadata": {},
     "output_type": "execute_result"
    }
   ],
   "source": [
    "# argmax\n",
    "torch.argmax(e)"
   ]
  },
  {
   "cell_type": "code",
   "execution_count": null,
   "metadata": {
    "ExecuteTime": {
     "end_time": "2024-11-29T13:18:00.340854Z",
     "start_time": "2024-11-29T13:18:00.309699Z"
    },
    "colab": {
     "base_uri": "https://localhost:8080/"
    },
    "id": "J23C1bwes6TL",
    "outputId": "019aae81-6353-4702-e557-b4599861552c"
   },
   "outputs": [],
   "source": [
    "# argmin\n",
    "torch.argmin(e)"
   ]
  },
  {
   "cell_type": "markdown",
   "metadata": {
    "id": "dw_h9fvMtLXw"
   },
   "source": [
    "### 4. Matrix operations"
   ]
  },
  {
   "cell_type": "code",
   "execution_count": 173,
   "metadata": {
    "ExecuteTime": {
     "end_time": "2024-11-29T13:18:00.369756Z",
     "start_time": "2024-11-29T13:18:00.345950Z"
    },
    "colab": {
     "base_uri": "https://localhost:8080/"
    },
    "id": "a54MqBBQs7BJ",
    "outputId": "3e4962ea-bbf5-492d-ca11-9afc7598b0b1"
   },
   "outputs": [
    {
     "name": "stdout",
     "output_type": "stream",
     "text": [
      "tensor([[6, 6, 8],\n",
      "        [4, 9, 0]])\n",
      "tensor([[7, 9],\n",
      "        [2, 7],\n",
      "        [0, 2]])\n"
     ]
    }
   ],
   "source": [
    "f = torch.randint(size=(2,3), low=0, high=10)\n",
    "g = torch.randint(size=(3,2), low=0, high=10)\n",
    "\n",
    "print(f)\n",
    "print(g)"
   ]
  },
  {
   "cell_type": "code",
   "execution_count": 174,
   "metadata": {
    "ExecuteTime": {
     "end_time": "2024-11-29T13:18:00.400712Z",
     "start_time": "2024-11-29T13:18:00.376461Z"
    },
    "colab": {
     "base_uri": "https://localhost:8080/"
    },
    "id": "BqQ7sNBctWfS",
    "outputId": "fa28d67d-e5ed-4cdf-e116-8fe7fc931a9c"
   },
   "outputs": [
    {
     "data": {
      "text/plain": [
       "tensor([[ 54, 112],\n",
       "        [ 46,  99]])"
      ]
     },
     "execution_count": 174,
     "metadata": {},
     "output_type": "execute_result"
    }
   ],
   "source": [
    "# matrix multiplcation\n",
    "# torch.mm(f, g)       # 2-D Matrix multiplication\n",
    "torch.matmul(f, g)     # n-D"
   ]
  },
  {
   "cell_type": "code",
   "execution_count": 175,
   "metadata": {},
   "outputs": [
    {
     "data": {
      "text/plain": [
       "tensor([[ 54, 112],\n",
       "        [ 46,  99]])"
      ]
     },
     "execution_count": 175,
     "metadata": {},
     "output_type": "execute_result"
    }
   ],
   "source": [
    "# OR\n",
    "f.matmul(g)"
   ]
  },
  {
   "cell_type": "code",
   "execution_count": 179,
   "metadata": {
    "ExecuteTime": {
     "end_time": "2024-11-29T13:18:00.438473Z",
     "start_time": "2024-11-29T13:18:00.407443Z"
    },
    "colab": {
     "base_uri": "https://localhost:8080/"
    },
    "id": "CopN1Oe5tZrD",
    "outputId": "3697a4e7-fed8-49e0-a968-99961be2b389"
   },
   "outputs": [
    {
     "data": {
      "text/plain": [
       "tensor(11)"
      ]
     },
     "execution_count": 179,
     "metadata": {},
     "output_type": "execute_result"
    }
   ],
   "source": [
    "vector1 = torch.tensor([1, 2])\n",
    "vector2 = torch.tensor([3, 4])\n",
    "\n",
    "# dot product\n",
    "torch.dot(vector1, vector2)"
   ]
  },
  {
   "cell_type": "code",
   "execution_count": 184,
   "metadata": {
    "ExecuteTime": {
     "end_time": "2024-11-29T13:18:00.468187Z",
     "start_time": "2024-11-29T13:18:00.444545Z"
    },
    "colab": {
     "base_uri": "https://localhost:8080/"
    },
    "id": "9Imz3Vq6ta4y",
    "outputId": "8224d8ec-ae96-475e-f016-6c8faca5f618"
   },
   "outputs": [
    {
     "data": {
      "text/plain": [
       "tensor([[6, 4],\n",
       "        [6, 9],\n",
       "        [8, 0]])"
      ]
     },
     "execution_count": 184,
     "metadata": {},
     "output_type": "execute_result"
    }
   ],
   "source": [
    "# transpose\n",
    "torch.transpose(input=f, dim0=0, dim1=1)"
   ]
  },
  {
   "cell_type": "code",
   "execution_count": 193,
   "metadata": {
    "ExecuteTime": {
     "end_time": "2024-11-29T13:18:00.494817Z",
     "start_time": "2024-11-29T13:18:00.471513Z"
    },
    "colab": {
     "base_uri": "https://localhost:8080/"
    },
    "id": "yEfuS9ZKtdSi",
    "outputId": "d23ed5a1-efd5-41fb-d48e-8a66695c3834"
   },
   "outputs": [
    {
     "data": {
      "text/plain": [
       "tensor([[0., 2., 2.],\n",
       "        [3., 7., 1.],\n",
       "        [5., 0., 2.]])"
      ]
     },
     "execution_count": 193,
     "metadata": {},
     "output_type": "execute_result"
    }
   ],
   "source": [
    "h = torch.randint(size=(3,3), low=0, high=10, dtype=torch.float32)\n",
    "h"
   ]
  },
  {
   "cell_type": "code",
   "execution_count": 186,
   "metadata": {
    "ExecuteTime": {
     "end_time": "2024-11-29T13:18:00.531133Z",
     "start_time": "2024-11-29T13:18:00.499614Z"
    },
    "colab": {
     "base_uri": "https://localhost:8080/"
    },
    "id": "PqfUsUvttpXZ",
    "outputId": "f9eb0d09-b79d-47ba-e5a4-2e377a267d3d"
   },
   "outputs": [
    {
     "data": {
      "text/plain": [
       "tensor(-18.)"
      ]
     },
     "execution_count": 186,
     "metadata": {},
     "output_type": "execute_result"
    }
   ],
   "source": [
    "# determinant\n",
    "torch.det(h)"
   ]
  },
  {
   "cell_type": "code",
   "execution_count": 196,
   "metadata": {
    "ExecuteTime": {
     "end_time": "2024-11-29T13:18:00.564738Z",
     "start_time": "2024-11-29T13:18:00.533906Z"
    },
    "colab": {
     "base_uri": "https://localhost:8080/"
    },
    "id": "X0khPormts14",
    "outputId": "4626b679-a1c4-48fd-9e1a-7fd13a3ab485"
   },
   "outputs": [
    {
     "data": {
      "text/plain": [
       "tensor([[-0.1944,  0.0556,  0.1667],\n",
       "        [ 0.0139,  0.1389, -0.0833],\n",
       "        [ 0.4861, -0.1389,  0.0833]])"
      ]
     },
     "execution_count": 196,
     "metadata": {},
     "output_type": "execute_result"
    }
   ],
   "source": [
    "# inverse\n",
    "torch.inverse(h)"
   ]
  },
  {
   "cell_type": "markdown",
   "metadata": {
    "id": "-lEkBmv5t1nB"
   },
   "source": [
    "### 5. Comparison operations"
   ]
  },
  {
   "cell_type": "code",
   "execution_count": 198,
   "metadata": {
    "ExecuteTime": {
     "end_time": "2024-11-29T13:18:00.589822Z",
     "start_time": "2024-11-29T13:18:00.569847Z"
    },
    "colab": {
     "base_uri": "https://localhost:8080/"
    },
    "id": "G89Keg-xtxUr",
    "outputId": "9943d326-f0dd-463c-962a-1be95e634dfa"
   },
   "outputs": [
    {
     "name": "stdout",
     "output_type": "stream",
     "text": [
      "tensor([[7, 8, 1],\n",
      "        [2, 3, 2]])\n",
      "tensor([[7, 9, 3],\n",
      "        [9, 7, 7]])\n"
     ]
    }
   ],
   "source": [
    "i = torch.randint(size=(2,3), low=0, high=10)\n",
    "j = torch.randint(size=(2,3), low=0, high=10)\n",
    "\n",
    "print(i)\n",
    "print(j)"
   ]
  },
  {
   "cell_type": "code",
   "execution_count": 199,
   "metadata": {
    "ExecuteTime": {
     "end_time": "2024-11-29T13:18:00.615125Z",
     "start_time": "2024-11-29T13:18:00.593488Z"
    },
    "colab": {
     "base_uri": "https://localhost:8080/"
    },
    "id": "F5v--5uiuBWW",
    "outputId": "32888e4a-6ed6-471b-9358-473374d34b98"
   },
   "outputs": [
    {
     "data": {
      "text/plain": [
       "tensor([[False,  True,  True],\n",
       "        [ True,  True,  True]])"
      ]
     },
     "execution_count": 199,
     "metadata": {},
     "output_type": "execute_result"
    }
   ],
   "source": [
    "# greater than\n",
    "i > j\n",
    "# less than\n",
    "i < j\n",
    "# equal to\n",
    "i == j\n",
    "# not equal to\n",
    "i != j\n",
    "# greater than equal to\n",
    "\n",
    "# less than equal to"
   ]
  },
  {
   "cell_type": "markdown",
   "metadata": {
    "id": "jd9JzlO1uaf3"
   },
   "source": [
    "### 6. Special functions"
   ]
  },
  {
   "cell_type": "code",
   "execution_count": 200,
   "metadata": {
    "ExecuteTime": {
     "end_time": "2024-11-29T13:18:00.636162Z",
     "start_time": "2024-11-29T13:18:00.617172Z"
    },
    "colab": {
     "base_uri": "https://localhost:8080/"
    },
    "id": "lKU6tQpyuY0M",
    "outputId": "53339fda-a0ef-46cb-a505-a86d7c5d564c"
   },
   "outputs": [
    {
     "data": {
      "text/plain": [
       "tensor([[5., 9., 2.],\n",
       "        [2., 4., 8.]])"
      ]
     },
     "execution_count": 200,
     "metadata": {},
     "output_type": "execute_result"
    }
   ],
   "source": [
    "k = torch.randint(size=(2,3), low=0, high=10, dtype=torch.float32)\n",
    "k"
   ]
  },
  {
   "cell_type": "code",
   "execution_count": 201,
   "metadata": {
    "ExecuteTime": {
     "end_time": "2024-11-29T13:18:00.657756Z",
     "start_time": "2024-11-29T13:18:00.639786Z"
    },
    "colab": {
     "base_uri": "https://localhost:8080/"
    },
    "id": "-gl1dhdVuDOE",
    "outputId": "1b0d1587-5890-4f32-fd58-5b4c196f93a0"
   },
   "outputs": [
    {
     "data": {
      "text/plain": [
       "tensor([[1.6094, 2.1972, 0.6931],\n",
       "        [0.6931, 1.3863, 2.0794]])"
      ]
     },
     "execution_count": 201,
     "metadata": {},
     "output_type": "execute_result"
    }
   ],
   "source": [
    "# log\n",
    "torch.log(k)"
   ]
  },
  {
   "cell_type": "code",
   "execution_count": 202,
   "metadata": {
    "ExecuteTime": {
     "end_time": "2024-11-29T13:18:00.675185Z",
     "start_time": "2024-11-29T13:18:00.661568Z"
    },
    "colab": {
     "base_uri": "https://localhost:8080/"
    },
    "id": "rQSpBdkbujck",
    "outputId": "4b3465de-85c4-4f7f-b723-0e87e7de4acc"
   },
   "outputs": [
    {
     "data": {
      "text/plain": [
       "tensor([[1.4841e+02, 8.1031e+03, 7.3891e+00],\n",
       "        [7.3891e+00, 5.4598e+01, 2.9810e+03]])"
      ]
     },
     "execution_count": 202,
     "metadata": {},
     "output_type": "execute_result"
    }
   ],
   "source": [
    "# exp\n",
    "torch.exp(k)"
   ]
  },
  {
   "cell_type": "code",
   "execution_count": 203,
   "metadata": {
    "ExecuteTime": {
     "end_time": "2024-11-29T13:18:00.695233Z",
     "start_time": "2024-11-29T13:18:00.679784Z"
    },
    "colab": {
     "base_uri": "https://localhost:8080/"
    },
    "id": "gTDfXdbVukh0",
    "outputId": "6941a276-3149-4b43-f09b-c6380e566c89"
   },
   "outputs": [
    {
     "data": {
      "text/plain": [
       "tensor([[2.2361, 3.0000, 1.4142],\n",
       "        [1.4142, 2.0000, 2.8284]])"
      ]
     },
     "execution_count": 203,
     "metadata": {},
     "output_type": "execute_result"
    }
   ],
   "source": [
    "# sqrt\n",
    "torch.sqrt(k)"
   ]
  },
  {
   "cell_type": "code",
   "execution_count": 204,
   "metadata": {
    "ExecuteTime": {
     "end_time": "2024-11-29T13:18:00.715242Z",
     "start_time": "2024-11-29T13:18:00.699515Z"
    },
    "colab": {
     "base_uri": "https://localhost:8080/"
    },
    "id": "d-rbMIVPunhr",
    "outputId": "f2385db1-f18d-4795-9347-9a192896b323"
   },
   "outputs": [
    {
     "data": {
      "text/plain": [
       "tensor([[0.9933, 0.9999, 0.8808],\n",
       "        [0.8808, 0.9820, 0.9997]])"
      ]
     },
     "execution_count": 204,
     "metadata": {},
     "output_type": "execute_result"
    }
   ],
   "source": [
    "# sigmoid\n",
    "torch.sigmoid(k)"
   ]
  },
  {
   "cell_type": "code",
   "execution_count": 205,
   "metadata": {
    "ExecuteTime": {
     "end_time": "2024-11-29T13:18:00.742861Z",
     "start_time": "2024-11-29T13:18:00.719635Z"
    },
    "colab": {
     "base_uri": "https://localhost:8080/"
    },
    "id": "X74chVfQusqf",
    "outputId": "537358fb-e498-43d3-85e0-69ff7dc3a03d"
   },
   "outputs": [
    {
     "data": {
      "text/plain": [
       "tensor([[0.9526, 0.9933, 0.0025],\n",
       "        [0.0474, 0.0067, 0.9975]])"
      ]
     },
     "execution_count": 205,
     "metadata": {},
     "output_type": "execute_result"
    }
   ],
   "source": [
    "# softmax\n",
    "torch.softmax(k, dim=0)"
   ]
  },
  {
   "cell_type": "code",
   "execution_count": 207,
   "metadata": {
    "ExecuteTime": {
     "end_time": "2024-11-29T13:18:00.772176Z",
     "start_time": "2024-11-29T13:18:00.753452Z"
    },
    "colab": {
     "base_uri": "https://localhost:8080/"
    },
    "id": "JnLG2JbyutvC",
    "outputId": "0b701250-9a3c-4106-df3b-83dbb1a99fdb"
   },
   "outputs": [
    {
     "data": {
      "text/plain": [
       "tensor([[5., 9., 2.],\n",
       "        [2., 4., 8.]])"
      ]
     },
     "execution_count": 207,
     "metadata": {},
     "output_type": "execute_result"
    }
   ],
   "source": [
    "# relu\n",
    "torch.relu(k) # OR\n",
    "# k.relu()"
   ]
  },
  {
   "cell_type": "markdown",
   "metadata": {
    "id": "JQ7im-Mz9Mu9"
   },
   "source": [
    "## Inplace Operations"
   ]
  },
  {
   "cell_type": "code",
   "execution_count": 208,
   "metadata": {
    "ExecuteTime": {
     "end_time": "2024-11-29T13:18:00.796614Z",
     "start_time": "2024-11-29T13:18:00.777499Z"
    },
    "colab": {
     "base_uri": "https://localhost:8080/"
    },
    "id": "mKVMTBq7uufZ",
    "outputId": "c6a5acb9-e36a-48d2-a073-86d66f4a5ed0"
   },
   "outputs": [
    {
     "name": "stdout",
     "output_type": "stream",
     "text": [
      "tensor([[0.3134, 0.2983, 0.3436],\n",
      "        [0.2028, 0.9792, 0.4947]])\n",
      "tensor([[0.3617, 0.9687, 0.0359],\n",
      "        [0.3041, 0.9867, 0.1290]])\n"
     ]
    }
   ],
   "source": [
    "m = torch.rand(2,3)\n",
    "n = torch.rand(2,3)\n",
    "\n",
    "print(m)\n",
    "print(n)"
   ]
  },
  {
   "cell_type": "code",
   "execution_count": 209,
   "metadata": {
    "ExecuteTime": {
     "end_time": "2024-11-29T13:18:00.827380Z",
     "start_time": "2024-11-29T13:18:00.803883Z"
    },
    "colab": {
     "base_uri": "https://localhost:8080/"
    },
    "id": "HmN2o2Ge_j8h",
    "outputId": "b3a0d2c7-4548-4d21-f788-c3b0ce21e326"
   },
   "outputs": [
    {
     "data": {
      "text/plain": [
       "tensor([[0.6751, 1.2670, 0.3795],\n",
       "        [0.5069, 1.9659, 0.6237]])"
      ]
     },
     "execution_count": 209,
     "metadata": {},
     "output_type": "execute_result"
    }
   ],
   "source": [
    "m.add_(n)"
   ]
  },
  {
   "cell_type": "code",
   "execution_count": 211,
   "metadata": {
    "ExecuteTime": {
     "end_time": "2024-11-29T13:18:00.851368Z",
     "start_time": "2024-11-29T13:18:00.833718Z"
    },
    "colab": {
     "base_uri": "https://localhost:8080/"
    },
    "id": "1k8bPLhgAN64",
    "outputId": "4830bcd9-037c-4c74-dfda-28d4006f04bb"
   },
   "outputs": [
    {
     "data": {
      "text/plain": [
       "tensor([[0.6751, 1.2670, 0.3795],\n",
       "        [0.5069, 1.9659, 0.6237]])"
      ]
     },
     "execution_count": 211,
     "metadata": {},
     "output_type": "execute_result"
    }
   ],
   "source": [
    "m"
   ]
  },
  {
   "cell_type": "code",
   "execution_count": 212,
   "metadata": {
    "ExecuteTime": {
     "end_time": "2024-11-29T13:18:00.875745Z",
     "start_time": "2024-11-29T13:18:00.856339Z"
    },
    "colab": {
     "base_uri": "https://localhost:8080/"
    },
    "id": "d_pBAPcGAkHW",
    "outputId": "25f54ae6-1b93-4666-d8c1-786faa209d1b"
   },
   "outputs": [
    {
     "data": {
      "text/plain": [
       "tensor([[0.3617, 0.9687, 0.0359],\n",
       "        [0.3041, 0.9867, 0.1290]])"
      ]
     },
     "execution_count": 212,
     "metadata": {},
     "output_type": "execute_result"
    }
   ],
   "source": [
    "n"
   ]
  },
  {
   "cell_type": "code",
   "execution_count": 213,
   "metadata": {
    "ExecuteTime": {
     "end_time": "2024-11-29T13:18:00.901665Z",
     "start_time": "2024-11-29T13:18:00.881809Z"
    },
    "colab": {
     "base_uri": "https://localhost:8080/"
    },
    "id": "8OhePrDbAmwh",
    "outputId": "a5dbdebd-a6fc-4697-e3ad-155fcb3eec50"
   },
   "outputs": [
    {
     "data": {
      "text/plain": [
       "tensor([[0.6751, 1.2670, 0.3795],\n",
       "        [0.5069, 1.9659, 0.6237]])"
      ]
     },
     "execution_count": 213,
     "metadata": {},
     "output_type": "execute_result"
    }
   ],
   "source": [
    "torch.relu(m)"
   ]
  },
  {
   "cell_type": "code",
   "execution_count": 214,
   "metadata": {
    "ExecuteTime": {
     "end_time": "2024-11-29T13:18:00.926112Z",
     "start_time": "2024-11-29T13:18:00.907854Z"
    },
    "colab": {
     "base_uri": "https://localhost:8080/"
    },
    "id": "M_s6WQ0pAuTG",
    "outputId": "5916395e-699a-46f5-ae67-0d8816c543c2"
   },
   "outputs": [
    {
     "data": {
      "text/plain": [
       "tensor([[0.6751, 1.2670, 0.3795],\n",
       "        [0.5069, 1.9659, 0.6237]])"
      ]
     },
     "execution_count": 214,
     "metadata": {},
     "output_type": "execute_result"
    }
   ],
   "source": [
    "m.relu_()"
   ]
  },
  {
   "cell_type": "code",
   "execution_count": 215,
   "metadata": {
    "ExecuteTime": {
     "end_time": "2024-11-29T13:18:00.946989Z",
     "start_time": "2024-11-29T13:18:00.929497Z"
    },
    "colab": {
     "base_uri": "https://localhost:8080/"
    },
    "id": "sucQ4iPYAyqn",
    "outputId": "20105717-1b8d-4b35-cd9a-ae636835fec9"
   },
   "outputs": [
    {
     "data": {
      "text/plain": [
       "tensor([[0.6751, 1.2670, 0.3795],\n",
       "        [0.5069, 1.9659, 0.6237]])"
      ]
     },
     "execution_count": 215,
     "metadata": {},
     "output_type": "execute_result"
    }
   ],
   "source": [
    "m"
   ]
  },
  {
   "cell_type": "markdown",
   "metadata": {
    "id": "7-SgjcqnCN9P"
   },
   "source": [
    "## Copying a Tensor"
   ]
  },
  {
   "cell_type": "code",
   "execution_count": 230,
   "metadata": {
    "ExecuteTime": {
     "end_time": "2024-11-29T13:18:00.969818Z",
     "start_time": "2024-11-29T13:18:00.950288Z"
    },
    "colab": {
     "base_uri": "https://localhost:8080/"
    },
    "id": "z8SCsW7kA0jt",
    "outputId": "2ac158bc-cc94-4192-e6d3-d8961b535c44"
   },
   "outputs": [
    {
     "data": {
      "text/plain": [
       "tensor([[0.5772, 0.3771, 0.2440],\n",
       "        [0.8994, 0.1041, 0.9193]])"
      ]
     },
     "execution_count": 230,
     "metadata": {},
     "output_type": "execute_result"
    }
   ],
   "source": [
    "a = torch.rand(2,3)\n",
    "a"
   ]
  },
  {
   "cell_type": "code",
   "execution_count": 217,
   "metadata": {
    "ExecuteTime": {
     "end_time": "2024-11-29T13:18:00.986791Z",
     "start_time": "2024-11-29T13:18:00.976609Z"
    },
    "id": "3Z0IUCnpCsCv"
   },
   "outputs": [],
   "source": [
    "b = a # here b is referencing memory of a"
   ]
  },
  {
   "cell_type": "code",
   "execution_count": 218,
   "metadata": {
    "ExecuteTime": {
     "end_time": "2024-11-29T13:18:01.008434Z",
     "start_time": "2024-11-29T13:18:00.991373Z"
    },
    "colab": {
     "base_uri": "https://localhost:8080/"
    },
    "id": "1YNvboxaECjm",
    "outputId": "1ab9e825-7c6a-473d-acfb-f6eacc558a65"
   },
   "outputs": [
    {
     "data": {
      "text/plain": [
       "tensor([[0.6887, 0.1637, 0.0899],\n",
       "        [0.3139, 0.1219, 0.3516]])"
      ]
     },
     "execution_count": 218,
     "metadata": {},
     "output_type": "execute_result"
    }
   ],
   "source": [
    "b"
   ]
  },
  {
   "cell_type": "code",
   "execution_count": 219,
   "metadata": {
    "ExecuteTime": {
     "end_time": "2024-11-29T13:18:01.021689Z",
     "start_time": "2024-11-29T13:18:01.012459Z"
    },
    "id": "waV6eAuUEDzq"
   },
   "outputs": [],
   "source": [
    "a[0][0] = 0"
   ]
  },
  {
   "cell_type": "code",
   "execution_count": 220,
   "metadata": {
    "ExecuteTime": {
     "end_time": "2024-11-29T13:18:01.040958Z",
     "start_time": "2024-11-29T13:18:01.025955Z"
    },
    "colab": {
     "base_uri": "https://localhost:8080/"
    },
    "id": "U7u-UDXpEIgJ",
    "outputId": "695c1f5b-8c54-4666-8661-8cee12e944ad"
   },
   "outputs": [
    {
     "data": {
      "text/plain": [
       "tensor([[0.0000, 0.1637, 0.0899],\n",
       "        [0.3139, 0.1219, 0.3516]])"
      ]
     },
     "execution_count": 220,
     "metadata": {},
     "output_type": "execute_result"
    }
   ],
   "source": [
    "a"
   ]
  },
  {
   "cell_type": "code",
   "execution_count": 221,
   "metadata": {
    "ExecuteTime": {
     "end_time": "2024-11-29T13:18:01.059764Z",
     "start_time": "2024-11-29T13:18:01.043429Z"
    },
    "colab": {
     "base_uri": "https://localhost:8080/"
    },
    "id": "-4tihkNkEJW3",
    "outputId": "67e65d46-0311-4fcd-a8ae-d02ba07825e1"
   },
   "outputs": [
    {
     "data": {
      "text/plain": [
       "tensor([[0.0000, 0.1637, 0.0899],\n",
       "        [0.3139, 0.1219, 0.3516]])"
      ]
     },
     "execution_count": 221,
     "metadata": {},
     "output_type": "execute_result"
    }
   ],
   "source": [
    "b"
   ]
  },
  {
   "cell_type": "code",
   "execution_count": 222,
   "metadata": {
    "ExecuteTime": {
     "end_time": "2024-11-29T13:18:01.084366Z",
     "start_time": "2024-11-29T13:18:01.065983Z"
    },
    "colab": {
     "base_uri": "https://localhost:8080/"
    },
    "id": "m8D9GAChEL7E",
    "outputId": "05564690-a3f0-40e5-b10e-ea15e86d0f6d"
   },
   "outputs": [
    {
     "data": {
      "text/plain": [
       "2972417657824"
      ]
     },
     "execution_count": 222,
     "metadata": {},
     "output_type": "execute_result"
    }
   ],
   "source": [
    "id(a)"
   ]
  },
  {
   "cell_type": "code",
   "execution_count": 223,
   "metadata": {
    "ExecuteTime": {
     "end_time": "2024-11-29T13:18:01.105724Z",
     "start_time": "2024-11-29T13:18:01.089485Z"
    },
    "colab": {
     "base_uri": "https://localhost:8080/"
    },
    "id": "vLh7o5KUEVJS",
    "outputId": "cdaee129-3f66-4e66-99f9-bd71e94747e6"
   },
   "outputs": [
    {
     "data": {
      "text/plain": [
       "2972417657824"
      ]
     },
     "execution_count": 223,
     "metadata": {},
     "output_type": "execute_result"
    }
   ],
   "source": [
    "id(b)"
   ]
  },
  {
   "cell_type": "code",
   "execution_count": 231,
   "metadata": {
    "ExecuteTime": {
     "end_time": "2024-11-29T13:18:01.120986Z",
     "start_time": "2024-11-29T13:18:01.109806Z"
    },
    "id": "KWDEt8h8EW2i"
   },
   "outputs": [],
   "source": [
    "b = a.clone()"
   ]
  },
  {
   "cell_type": "code",
   "execution_count": 229,
   "metadata": {},
   "outputs": [
    {
     "data": {
      "text/plain": [
       "tensor([[0.0000, 0.1637, 0.0899],\n",
       "        [0.3139, 0.1219, 0.3516]])"
      ]
     },
     "execution_count": 229,
     "metadata": {},
     "output_type": "execute_result"
    }
   ],
   "source": [
    "b.copy_(a)"
   ]
  },
  {
   "cell_type": "code",
   "execution_count": 232,
   "metadata": {},
   "outputs": [
    {
     "data": {
      "text/plain": [
       "False"
      ]
     },
     "execution_count": 232,
     "metadata": {},
     "output_type": "execute_result"
    }
   ],
   "source": [
    "id(a) == id(b)"
   ]
  },
  {
   "cell_type": "code",
   "execution_count": 225,
   "metadata": {
    "ExecuteTime": {
     "end_time": "2024-11-29T13:18:01.153877Z",
     "start_time": "2024-11-29T13:18:01.139613Z"
    },
    "colab": {
     "base_uri": "https://localhost:8080/"
    },
    "id": "ndhb6dktEcov",
    "outputId": "8b67e4f5-4f27-4006-f480-a81935c71eff"
   },
   "outputs": [
    {
     "data": {
      "text/plain": [
       "tensor([[0.0000, 0.1637, 0.0899],\n",
       "        [0.3139, 0.1219, 0.3516]])"
      ]
     },
     "execution_count": 225,
     "metadata": {},
     "output_type": "execute_result"
    }
   ],
   "source": [
    "a"
   ]
  },
  {
   "cell_type": "code",
   "execution_count": 233,
   "metadata": {
    "ExecuteTime": {
     "end_time": "2024-11-29T13:18:02.127366Z",
     "start_time": "2024-11-29T13:18:02.105863Z"
    },
    "colab": {
     "base_uri": "https://localhost:8080/"
    },
    "id": "M1MgVSoXEd2E",
    "outputId": "ded643e6-0fbd-4e08-8eab-17cb615f0760"
   },
   "outputs": [
    {
     "data": {
      "text/plain": [
       "tensor([[0.5772, 0.3771, 0.2440],\n",
       "        [0.8994, 0.1041, 0.9193]])"
      ]
     },
     "execution_count": 233,
     "metadata": {},
     "output_type": "execute_result"
    }
   ],
   "source": [
    "b"
   ]
  },
  {
   "cell_type": "code",
   "execution_count": 234,
   "metadata": {
    "ExecuteTime": {
     "end_time": "2024-11-29T13:18:06.040847Z",
     "start_time": "2024-11-29T13:18:06.030815Z"
    },
    "id": "LGxrfDtTEeVI"
   },
   "outputs": [],
   "source": [
    "a[0][0] = 10"
   ]
  },
  {
   "cell_type": "code",
   "execution_count": 235,
   "metadata": {
    "ExecuteTime": {
     "end_time": "2024-11-29T13:18:09.670224Z",
     "start_time": "2024-11-29T13:18:09.654171Z"
    },
    "colab": {
     "base_uri": "https://localhost:8080/"
    },
    "id": "KoGwR1k2Eg_1",
    "outputId": "475a5f95-b557-430e-ef59-d1cd291681c4"
   },
   "outputs": [
    {
     "data": {
      "text/plain": [
       "tensor([[10.0000,  0.3771,  0.2440],\n",
       "        [ 0.8994,  0.1041,  0.9193]])"
      ]
     },
     "execution_count": 235,
     "metadata": {},
     "output_type": "execute_result"
    }
   ],
   "source": [
    "a"
   ]
  },
  {
   "cell_type": "code",
   "execution_count": 236,
   "metadata": {
    "ExecuteTime": {
     "end_time": "2024-11-29T13:18:10.061006Z",
     "start_time": "2024-11-29T13:18:10.046338Z"
    },
    "colab": {
     "base_uri": "https://localhost:8080/"
    },
    "id": "hnmU7qDXEh_R",
    "outputId": "1478ea99-7c87-41a6-d07b-0d23413377e3"
   },
   "outputs": [
    {
     "data": {
      "text/plain": [
       "tensor([[0.5772, 0.3771, 0.2440],\n",
       "        [0.8994, 0.1041, 0.9193]])"
      ]
     },
     "execution_count": 236,
     "metadata": {},
     "output_type": "execute_result"
    }
   ],
   "source": [
    "b"
   ]
  },
  {
   "cell_type": "code",
   "execution_count": 237,
   "metadata": {
    "ExecuteTime": {
     "end_time": "2024-11-29T13:18:10.287523Z",
     "start_time": "2024-11-29T13:18:10.271447Z"
    },
    "colab": {
     "base_uri": "https://localhost:8080/"
    },
    "id": "5cy76FS5EjIz",
    "outputId": "e126f2c9-5358-476b-e8e5-d58965cfe473"
   },
   "outputs": [
    {
     "data": {
      "text/plain": [
       "2972417661504"
      ]
     },
     "execution_count": 237,
     "metadata": {},
     "output_type": "execute_result"
    }
   ],
   "source": [
    "id(a)"
   ]
  },
  {
   "cell_type": "code",
   "execution_count": 238,
   "metadata": {
    "ExecuteTime": {
     "end_time": "2024-11-29T13:18:10.636695Z",
     "start_time": "2024-11-29T13:18:10.621782Z"
    },
    "colab": {
     "base_uri": "https://localhost:8080/"
    },
    "id": "jmBkTNQ8EmP1",
    "outputId": "8b3b68cd-670a-4646-fdc9-9bd9ede2a3d6"
   },
   "outputs": [
    {
     "data": {
      "text/plain": [
       "2972417661584"
      ]
     },
     "execution_count": 238,
     "metadata": {},
     "output_type": "execute_result"
    }
   ],
   "source": [
    "id(b)"
   ]
  },
  {
   "cell_type": "code",
   "execution_count": null,
   "metadata": {
    "ExecuteTime": {
     "end_time": "2024-11-29T13:18:10.969530Z",
     "start_time": "2024-11-29T13:18:10.958490Z"
    },
    "id": "W1SwQS8jEnW2"
   },
   "outputs": [],
   "source": []
  },
  {
   "cell_type": "markdown",
   "metadata": {},
   "source": [
    "# Tensor Operations on GPU"
   ]
  },
  {
   "cell_type": "code",
   "execution_count": 239,
   "metadata": {
    "ExecuteTime": {
     "end_time": "2024-11-29T13:18:11.456336Z",
     "start_time": "2024-11-29T13:18:11.430997Z"
    }
   },
   "outputs": [
    {
     "data": {
      "text/plain": [
       "True"
      ]
     },
     "execution_count": 239,
     "metadata": {},
     "output_type": "execute_result"
    }
   ],
   "source": [
    "torch.cuda.is_available()"
   ]
  },
  {
   "cell_type": "code",
   "execution_count": 245,
   "metadata": {
    "ExecuteTime": {
     "end_time": "2024-11-29T13:18:11.763791Z",
     "start_time": "2024-11-29T13:18:11.742172Z"
    }
   },
   "outputs": [
    {
     "data": {
      "text/plain": [
       "device(type='cuda')"
      ]
     },
     "execution_count": 245,
     "metadata": {},
     "output_type": "execute_result"
    }
   ],
   "source": [
    "gpu = torch.device('cuda')\n",
    "gpu"
   ]
  },
  {
   "cell_type": "code",
   "execution_count": 247,
   "metadata": {
    "ExecuteTime": {
     "end_time": "2024-11-29T13:18:12.011345Z",
     "start_time": "2024-11-29T13:18:12.005155Z"
    }
   },
   "outputs": [],
   "source": [
    "t1 = torch.rand(2,3)  #cpu"
   ]
  },
  {
   "cell_type": "code",
   "execution_count": 248,
   "metadata": {
    "ExecuteTime": {
     "end_time": "2024-11-29T13:18:12.940835Z",
     "start_time": "2024-11-29T13:18:12.315044Z"
    }
   },
   "outputs": [
    {
     "data": {
      "text/plain": [
       "tensor([[0.8344, 0.7001, 0.5361],\n",
       "        [0.8883, 0.0220, 0.7938]], device='cuda:0')"
      ]
     },
     "execution_count": 248,
     "metadata": {},
     "output_type": "execute_result"
    }
   ],
   "source": [
    "# torch.rand((2,3), device=gpu) #same\n",
    "t2 = torch.rand(2,3, device=gpu)\n",
    "t2"
   ]
  },
  {
   "cell_type": "code",
   "execution_count": 249,
   "metadata": {
    "ExecuteTime": {
     "end_time": "2024-11-29T13:18:12.967425Z",
     "start_time": "2024-11-29T13:18:12.943695Z"
    }
   },
   "outputs": [
    {
     "data": {
      "text/plain": [
       "(tensor([[0.4964, 0.0589, 0.9840],\n",
       "         [0.5836, 0.6737, 0.4738]]),\n",
       " tensor([[0.4964, 0.0589, 0.9840],\n",
       "         [0.5836, 0.6737, 0.4738]], device='cuda:0'))"
      ]
     },
     "execution_count": 249,
     "metadata": {},
     "output_type": "execute_result"
    }
   ],
   "source": [
    "t3 = t1.to(gpu)  #copy from cpu to gpu, not inplace\n",
    "t1, t3"
   ]
  },
  {
   "cell_type": "markdown",
   "metadata": {},
   "source": [
    "### Speed comparison"
   ]
  },
  {
   "cell_type": "markdown",
   "metadata": {},
   "source": [
    "### **Comparison for PyTorch**\n",
    "\n",
    "| Feature                     | GTX 1650 (Mobile)                   | Ryzen 5 3550H                       |\n",
    "|-----------------------------|-------------------------------------|-------------------------------------|\n",
    "| **Role**                    | GPU (accelerates tensor ops)        | CPU (general-purpose tasks)         |\n",
    "| **PyTorch Usage**           | Training/inference acceleration     | Data pre-processing, small models   |\n",
    "| **Tensor Computations**     | Faster, parallelized (CUDA cores)   | Slower, limited by fewer cores      |\n",
    "| **Memory**                  | 4GB GDDR5 (VRAM, fast access)       | Uses system RAM (slower)            |\n",
    "| **Parallelism**             | High (CUDA cores - 896)             | Moderate (4 cores, 8 threads)       |\n",
    "| **Limitations**             | Limited VRAM for large models       | Not optimized for heavy tensor ops  |\n",
    "| **Best Use Case**           | Training small/medium models        | Pre-processing, light inference     |\n",
    "\n",
    "---\n",
    "\n",
    "### Please Note:\n",
    "- **GTX 1650 (Mobile)**: The better option for PyTorch workloads involving heavy tensor computations, such as training or inference on models that fit into 4GB VRAM.\n",
    "- **Ryzen 5 3550H**: Adequate for CPU-bound tasks like pre-processing, model evaluation for smaller models, and managing data pipelines. If your dataset or model exceeds the GTX 1650's VRAM, consider techniques like **gradient checkpointing**, **model sharding**, or running on the CPU (although slower)."
   ]
  },
  {
   "cell_type": "code",
   "execution_count": 250,
   "metadata": {
    "ExecuteTime": {
     "end_time": "2024-11-29T13:18:59.294281Z",
     "start_time": "2024-11-29T13:18:12.972214Z"
    }
   },
   "outputs": [
    {
     "name": "stdout",
     "output_type": "stream",
     "text": [
      "Time on CPU: 32.8641 seconds\n",
      "Time taken on GPU: 6.4059 seconds\n",
      "Performance gain: 5\n"
     ]
    }
   ],
   "source": [
    "import time\n",
    "\n",
    "size = 10000 # Large size for performance comparison\n",
    "\n",
    "# Create random matrices on CPU\n",
    "\n",
    "matrix_cpu1 = torch.randn(size, size)\n",
    "matrix_cpu2 = torch.randn(size, size)\n",
    "\n",
    "# Perform matrix multiplication\n",
    "start_time = time.time()\n",
    "result_cpu = torch.matmul(matrix_cpu1, matrix_cpu2) # \"Matrix multiplication on CPU\n",
    "cpu_time = time.time() - start_time\n",
    "\n",
    "# Measure time on CPU\n",
    "print(f\"Time on CPU: {cpu_time:.4f} seconds\")\n",
    "\n",
    "# Check if GPU/CUDA is available\n",
    "if torch.cuda.is_available():\n",
    "    # Move matrices to GPU\n",
    "    matrix_gpu1 = matrix_cpu1.to('cuda')\n",
    "    matrix_gpu2 = matrix_cpu2.to('cuda')\n",
    "\n",
    "    # Measure time on GPU\n",
    "    start_time = time.time()\n",
    "    result_gpu = torch.matmul(matrix_gpu1, matrix_gpu2)\n",
    "    \n",
    "    # Synchronize to ensure all GPU operations are complete and calculate time\n",
    "    torch.cuda.synchronize()\n",
    "    gpu_time = time.time() - start_time\n",
    "\n",
    "    print(f\"Time taken on GPU: {gpu_time:.4f} seconds\")\n",
    "    print(f'Performance gain: {round(cpu_time / gpu_time)}')\n",
    "else:\n",
    "    print(\"CUDA is not available. GPU computation cannot be performed.\")"
   ]
  },
  {
   "cell_type": "code",
   "execution_count": 89,
   "metadata": {
    "ExecuteTime": {
     "end_time": "2024-11-29T13:18:59.301779Z",
     "start_time": "2024-11-29T13:18:59.295303Z"
    }
   },
   "outputs": [],
   "source": []
  },
  {
   "cell_type": "markdown",
   "metadata": {},
   "source": [
    "# Reshaping Tensors (not inplace)"
   ]
  },
  {
   "cell_type": "code",
   "execution_count": 251,
   "metadata": {
    "ExecuteTime": {
     "end_time": "2024-11-29T13:18:59.322284Z",
     "start_time": "2024-11-29T13:18:59.307048Z"
    }
   },
   "outputs": [
    {
     "data": {
      "text/plain": [
       "tensor([[1., 1., 1., 1., 1., 1.],\n",
       "        [1., 1., 1., 1., 1., 1.],\n",
       "        [1., 1., 1., 1., 1., 1.],\n",
       "        [1., 1., 1., 1., 1., 1.]])"
      ]
     },
     "execution_count": 251,
     "metadata": {},
     "output_type": "execute_result"
    }
   ],
   "source": [
    "a = torch.ones(4,6)\n",
    "a"
   ]
  },
  {
   "cell_type": "code",
   "execution_count": 255,
   "metadata": {
    "ExecuteTime": {
     "end_time": "2024-11-29T13:18:59.341515Z",
     "start_time": "2024-11-29T13:18:59.322284Z"
    }
   },
   "outputs": [
    {
     "data": {
      "text/plain": [
       "tensor([[[1., 1., 1., 1.],\n",
       "         [1., 1., 1., 1.],\n",
       "         [1., 1., 1., 1.]],\n",
       "\n",
       "        [[1., 1., 1., 1.],\n",
       "         [1., 1., 1., 1.],\n",
       "         [1., 1., 1., 1.]]])"
      ]
     },
     "execution_count": 255,
     "metadata": {},
     "output_type": "execute_result"
    }
   ],
   "source": [
    "a.reshape(2,3,4) # think in opposit way like -> 4 items first, then spread similar 3 times,  then spread similar 2 times"
   ]
  },
  {
   "cell_type": "code",
   "execution_count": 257,
   "metadata": {},
   "outputs": [
    {
     "data": {
      "text/plain": [
       "torch.Size([4, 6])"
      ]
     },
     "execution_count": 257,
     "metadata": {},
     "output_type": "execute_result"
    }
   ],
   "source": [
    "a.shape"
   ]
  },
  {
   "cell_type": "code",
   "execution_count": 258,
   "metadata": {
    "ExecuteTime": {
     "end_time": "2024-11-29T13:18:59.360058Z",
     "start_time": "2024-11-29T13:18:59.342591Z"
    }
   },
   "outputs": [
    {
     "data": {
      "text/plain": [
       "tensor([[1., 1., 1.],\n",
       "        [1., 1., 1.],\n",
       "        [1., 1., 1.],\n",
       "        [1., 1., 1.],\n",
       "        [1., 1., 1.],\n",
       "        [1., 1., 1.],\n",
       "        [1., 1., 1.],\n",
       "        [1., 1., 1.]])"
      ]
     },
     "execution_count": 258,
     "metadata": {},
     "output_type": "execute_result"
    }
   ],
   "source": [
    "a.reshape(-1,3)"
   ]
  },
  {
   "cell_type": "code",
   "execution_count": 259,
   "metadata": {
    "ExecuteTime": {
     "end_time": "2024-11-29T13:18:59.378507Z",
     "start_time": "2024-11-29T13:18:59.361585Z"
    }
   },
   "outputs": [
    {
     "data": {
      "text/plain": [
       "tensor([[1., 1., 1., 1., 1., 1., 1., 1., 1., 1., 1., 1., 1., 1., 1., 1., 1., 1.,\n",
       "         1., 1., 1., 1., 1., 1.]])"
      ]
     },
     "execution_count": 259,
     "metadata": {},
     "output_type": "execute_result"
    }
   ],
   "source": [
    "a.reshape(1,-1) #same as (1,24)"
   ]
  },
  {
   "cell_type": "code",
   "execution_count": 260,
   "metadata": {
    "ExecuteTime": {
     "end_time": "2024-11-29T13:18:59.398250Z",
     "start_time": "2024-11-29T13:18:59.381545Z"
    }
   },
   "outputs": [
    {
     "data": {
      "text/plain": [
       "tensor([1., 1., 1., 1., 1., 1., 1., 1., 1., 1., 1., 1., 1., 1., 1., 1., 1., 1.,\n",
       "        1., 1., 1., 1., 1., 1.])"
      ]
     },
     "execution_count": 260,
     "metadata": {},
     "output_type": "execute_result"
    }
   ],
   "source": [
    "# Flatten - 1D tensor\n",
    "a.flatten()"
   ]
  },
  {
   "cell_type": "code",
   "execution_count": 261,
   "metadata": {
    "ExecuteTime": {
     "end_time": "2024-11-29T13:18:59.414996Z",
     "start_time": "2024-11-29T13:18:59.401305Z"
    }
   },
   "outputs": [
    {
     "data": {
      "text/plain": [
       "tensor([[[86, 34, 48,  2],\n",
       "         [84,  6, 39, 61],\n",
       "         [83, 26, 47, 79]],\n",
       "\n",
       "        [[ 8, 44, 73, 18],\n",
       "         [34,  1, 42, 83],\n",
       "         [56, 53, 61, 17]]])"
      ]
     },
     "execution_count": 261,
     "metadata": {},
     "output_type": "execute_result"
    }
   ],
   "source": [
    "b = torch.randint(low=1,high=100,size=(2,3,4))\n",
    "b"
   ]
  },
  {
   "cell_type": "code",
   "execution_count": 262,
   "metadata": {
    "ExecuteTime": {
     "end_time": "2024-11-29T13:18:59.431810Z",
     "start_time": "2024-11-29T13:18:59.414996Z"
    }
   },
   "outputs": [
    {
     "data": {
      "text/plain": [
       "tensor([[[86, 84, 83],\n",
       "         [ 8, 34, 56]],\n",
       "\n",
       "        [[34,  6, 26],\n",
       "         [44,  1, 53]],\n",
       "\n",
       "        [[48, 39, 47],\n",
       "         [73, 42, 61]],\n",
       "\n",
       "        [[ 2, 61, 79],\n",
       "         [18, 83, 17]]])"
      ]
     },
     "execution_count": 262,
     "metadata": {},
     "output_type": "execute_result"
    }
   ],
   "source": [
    "b.permute(2,0,1)"
   ]
  },
  {
   "cell_type": "code",
   "execution_count": 264,
   "metadata": {
    "ExecuteTime": {
     "end_time": "2024-11-29T13:18:59.447557Z",
     "start_time": "2024-11-29T13:18:59.433851Z"
    }
   },
   "outputs": [
    {
     "data": {
      "text/plain": [
       "torch.Size([4, 2, 3])"
      ]
     },
     "execution_count": 264,
     "metadata": {},
     "output_type": "execute_result"
    }
   ],
   "source": [
    "b.permute(2,0,1).shape"
   ]
  },
  {
   "cell_type": "code",
   "execution_count": 278,
   "metadata": {},
   "outputs": [
    {
     "data": {
      "text/plain": [
       "torch.Size([2, 4, 3])"
      ]
     },
     "execution_count": 278,
     "metadata": {},
     "output_type": "execute_result"
    }
   ],
   "source": [
    "# Swap only 2 axes\n",
    "y = b.transpose(dim0=1, dim1=2).shape  # Swaps dimensions 1 and 2\n",
    "y"
   ]
  },
  {
   "cell_type": "code",
   "execution_count": 279,
   "metadata": {},
   "outputs": [
    {
     "name": "stdout",
     "output_type": "stream",
     "text": [
      "Original : torch.Size([2, 3, 4])\n",
      "Transposed : torch.Size([2, 4, 3])\n"
     ]
    }
   ],
   "source": [
    "# 3D tensor with shape [2, 3, 4]\n",
    "x = torch.randint(1,20, (2, 3, 4))\n",
    "\n",
    "# Swap dimensions 1 and 2\n",
    "y = torch.transpose(x, 1, 2) # torch.transpose(x, 0, 1) is equivalent to x.t()\n",
    "\n",
    "print(\"Original :\", x.shape)  # torch.Size([2, 3, 4])\n",
    "print(\"Transposed :\", y.shape)  # torch.Size([2, 4, 3])"
   ]
  },
  {
   "cell_type": "code",
   "execution_count": 286,
   "metadata": {
    "ExecuteTime": {
     "end_time": "2024-11-29T13:18:59.467546Z",
     "start_time": "2024-11-29T13:18:59.453419Z"
    }
   },
   "outputs": [
    {
     "data": {
      "text/plain": [
       "torch.Size([226, 226, 3])"
      ]
     },
     "execution_count": 286,
     "metadata": {},
     "output_type": "execute_result"
    }
   ],
   "source": [
    "# Unsqueze -  extra dim (of 1) added in specified position\n",
    "c = torch.rand(226,226,3)  # Typical image size\n",
    "c.shape"
   ]
  },
  {
   "cell_type": "code",
   "execution_count": 304,
   "metadata": {
    "ExecuteTime": {
     "end_time": "2024-11-29T13:18:59.498388Z",
     "start_time": "2024-11-29T13:18:59.471328Z"
    },
    "scrolled": true
   },
   "outputs": [
    {
     "data": {
      "text/plain": [
       "torch.Size([1, 226, 226, 3])"
      ]
     },
     "execution_count": 304,
     "metadata": {},
     "output_type": "execute_result"
    }
   ],
   "source": [
    "c.unsqueeze(dim=0).shape"
   ]
  },
  {
   "cell_type": "code",
   "execution_count": 290,
   "metadata": {
    "ExecuteTime": {
     "end_time": "2024-11-29T13:18:59.515824Z",
     "start_time": "2024-11-29T13:18:59.501579Z"
    },
    "scrolled": true
   },
   "outputs": [
    {
     "data": {
      "text/plain": [
       "torch.Size([226, 226, 1, 3])"
      ]
     },
     "execution_count": 290,
     "metadata": {},
     "output_type": "execute_result"
    }
   ],
   "source": [
    "c.unsqueeze(dim=2).shape"
   ]
  },
  {
   "cell_type": "code",
   "execution_count": 298,
   "metadata": {
    "ExecuteTime": {
     "end_time": "2024-11-29T13:18:59.536992Z",
     "start_time": "2024-11-29T13:18:59.517590Z"
    }
   },
   "outputs": [
    {
     "data": {
      "text/plain": [
       "torch.Size([1, 20, 1, 1, 2])"
      ]
     },
     "execution_count": 298,
     "metadata": {},
     "output_type": "execute_result"
    }
   ],
   "source": [
    "# Squeeze -> removes extra dim (where its 1)\n",
    "d = torch.rand(1,20,1,1,2)\n",
    "d.shape"
   ]
  },
  {
   "cell_type": "code",
   "execution_count": 300,
   "metadata": {
    "ExecuteTime": {
     "end_time": "2024-11-29T13:18:59.558258Z",
     "start_time": "2024-11-29T13:18:59.536992Z"
    }
   },
   "outputs": [
    {
     "data": {
      "text/plain": [
       "torch.Size([20, 2])"
      ]
     },
     "execution_count": 300,
     "metadata": {},
     "output_type": "execute_result"
    }
   ],
   "source": [
    "# d.squeeze(1) # No effect as 1st dimension is 20 ie !=1\n",
    "d.squeeze().shape # by default, dim=None (removes all 1s)"
   ]
  },
  {
   "cell_type": "code",
   "execution_count": 302,
   "metadata": {
    "ExecuteTime": {
     "end_time": "2024-11-29T13:18:59.570228Z",
     "start_time": "2024-11-29T13:18:59.563471Z"
    }
   },
   "outputs": [
    {
     "data": {
      "text/plain": [
       "torch.Size([1, 20, 2])"
      ]
     },
     "execution_count": 302,
     "metadata": {},
     "output_type": "execute_result"
    }
   ],
   "source": [
    "d.squeeze(dim=2).shape  # fyi, it can be tuple"
   ]
  },
  {
   "cell_type": "markdown",
   "metadata": {},
   "source": [
    "# Numpy <--> Tensor"
   ]
  },
  {
   "cell_type": "code",
   "execution_count": 305,
   "metadata": {
    "ExecuteTime": {
     "end_time": "2024-11-29T13:18:59.583345Z",
     "start_time": "2024-11-29T13:18:59.573254Z"
    }
   },
   "outputs": [],
   "source": [
    "import numpy as np"
   ]
  },
  {
   "cell_type": "code",
   "execution_count": 306,
   "metadata": {
    "ExecuteTime": {
     "end_time": "2024-11-29T13:18:59.609059Z",
     "start_time": "2024-11-29T13:18:59.586505Z"
    }
   },
   "outputs": [
    {
     "data": {
      "text/plain": [
       "(tensor([ 5,  4, 42]), torch.Tensor)"
      ]
     },
     "execution_count": 306,
     "metadata": {},
     "output_type": "execute_result"
    }
   ],
   "source": [
    "t = torch.tensor([5,4,42])\n",
    "t , type(t)"
   ]
  },
  {
   "cell_type": "code",
   "execution_count": 307,
   "metadata": {
    "ExecuteTime": {
     "end_time": "2024-11-29T13:18:59.631546Z",
     "start_time": "2024-11-29T13:18:59.613339Z"
    }
   },
   "outputs": [
    {
     "data": {
      "text/plain": [
       "(array([ 5,  4, 42], dtype=int64), numpy.ndarray)"
      ]
     },
     "execution_count": 307,
     "metadata": {},
     "output_type": "execute_result"
    }
   ],
   "source": [
    "arr = t.numpy()\n",
    "arr , type(arr)"
   ]
  },
  {
   "cell_type": "code",
   "execution_count": 308,
   "metadata": {
    "ExecuteTime": {
     "end_time": "2024-11-29T13:18:59.652277Z",
     "start_time": "2024-11-29T13:18:59.631546Z"
    }
   },
   "outputs": [
    {
     "data": {
      "text/plain": [
       "array([[51, 84],\n",
       "       [88, 54],\n",
       "       [97, 73],\n",
       "       [55,  7],\n",
       "       [33, 51]])"
      ]
     },
     "execution_count": 308,
     "metadata": {},
     "output_type": "execute_result"
    }
   ],
   "source": [
    "a = np.random.randint(1,100,(5,2))\n",
    "a"
   ]
  },
  {
   "cell_type": "code",
   "execution_count": 309,
   "metadata": {
    "ExecuteTime": {
     "end_time": "2024-11-29T13:19:28.013773Z",
     "start_time": "2024-11-29T13:19:27.993139Z"
    }
   },
   "outputs": [
    {
     "data": {
      "text/plain": [
       "tensor([[51, 84],\n",
       "        [88, 54],\n",
       "        [97, 73],\n",
       "        [55,  7],\n",
       "        [33, 51]], dtype=torch.int32)"
      ]
     },
     "execution_count": 309,
     "metadata": {},
     "output_type": "execute_result"
    }
   ],
   "source": [
    "ta = torch.from_numpy(a) \n",
    "ta"
   ]
  },
  {
   "cell_type": "code",
   "execution_count": 310,
   "metadata": {
    "ExecuteTime": {
     "end_time": "2024-11-29T13:34:28.062067Z",
     "start_time": "2024-11-29T13:34:28.052268Z"
    }
   },
   "outputs": [
    {
     "name": "stdout",
     "output_type": "stream",
     "text": [
      "[[51 84]\n",
      " [88 54]\n",
      " [97 73]\n",
      " [55  7]\n",
      " [33 51]]\n"
     ]
    }
   ],
   "source": [
    "ta_np = ta.numpy()\n",
    "print(ta_np)"
   ]
  },
  {
   "cell_type": "code",
   "execution_count": null,
   "metadata": {},
   "outputs": [],
   "source": []
  }
 ],
 "metadata": {
  "accelerator": "GPU",
  "colab": {
   "gpuType": "T4",
   "provenance": []
  },
  "kernelspec": {
   "display_name": "Python 3 (ipykernel)",
   "language": "python",
   "name": "python3"
  },
  "language_info": {
   "codemirror_mode": {
    "name": "ipython",
    "version": 3
   },
   "file_extension": ".py",
   "mimetype": "text/x-python",
   "name": "python",
   "nbconvert_exporter": "python",
   "pygments_lexer": "ipython3",
   "version": "3.12.3"
  }
 },
 "nbformat": 4,
 "nbformat_minor": 4
}
