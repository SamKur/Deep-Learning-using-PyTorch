{
 "cells": [
  {
   "cell_type": "code",
   "metadata": {
    "colab": {
     "base_uri": "https://localhost:8080/"
    },
    "id": "t19_gq09KjvE",
    "outputId": "f3c00de5-e894-4780-dabe-a1f6287d42c0",
    "ExecuteTime": {
     "end_time": "2024-11-23T16:44:54.440211Z",
     "start_time": "2024-11-23T16:44:44.183270Z"
    }
   },
   "source": [
    "import torch\n",
    "print(torch.__version__)"
   ],
   "outputs": [
    {
     "name": "stdout",
     "output_type": "stream",
     "text": [
      "2.5.1\n"
     ]
    }
   ],
   "execution_count": 1
  },
  {
   "cell_type": "code",
   "metadata": {
    "colab": {
     "base_uri": "https://localhost:8080/"
    },
    "id": "W8o-1cUl4M2x",
    "outputId": "3183bc2e-ff70-4138-8621-0dc498703a41",
    "ExecuteTime": {
     "end_time": "2024-11-23T16:44:55.680774Z",
     "start_time": "2024-11-23T16:44:54.453228Z"
    }
   },
   "source": [
    "if torch.cuda.is_available():\n",
    "    print(\"GPU is available!\")\n",
    "    print(f\"Using GPU: {torch.cuda.get_device_name(0)}\")\n",
    "else:\n",
    "    print(\"GPU not available. Using CPU.\")"
   ],
   "outputs": [
    {
     "name": "stdout",
     "output_type": "stream",
     "text": [
      "GPU is available!\n",
      "Using GPU: NVIDIA GeForce GTX 1650\n"
     ]
    }
   ],
   "execution_count": 2
  },
  {
   "cell_type": "markdown",
   "metadata": {
    "id": "BFcs4wpz4wlA"
   },
   "source": [
    "## Creating a Tensor"
   ]
  },
  {
   "cell_type": "code",
   "metadata": {
    "id": "AYzOQK7n4nNq",
    "ExecuteTime": {
     "end_time": "2024-11-23T16:44:55.698182Z",
     "start_time": "2024-11-23T16:44:55.683797Z"
    }
   },
   "source": [
    "# using empty\n",
    "a = torch.empty(2,3)"
   ],
   "outputs": [],
   "execution_count": 3
  },
  {
   "cell_type": "code",
   "metadata": {
    "colab": {
     "base_uri": "https://localhost:8080/"
    },
    "id": "cSOoTAZY5FR1",
    "outputId": "07fc1fa4-d390-4afa-e0a6-52192ef22d2e",
    "ExecuteTime": {
     "end_time": "2024-11-23T16:44:55.719661Z",
     "start_time": "2024-11-23T16:44:55.702199Z"
    }
   },
   "source": [
    "# check type\n",
    "type(a)"
   ],
   "outputs": [
    {
     "data": {
      "text/plain": [
       "torch.Tensor"
      ]
     },
     "execution_count": 4,
     "metadata": {},
     "output_type": "execute_result"
    }
   ],
   "execution_count": 4
  },
  {
   "cell_type": "code",
   "metadata": {
    "colab": {
     "base_uri": "https://localhost:8080/"
    },
    "id": "LxVQPOVN47Dt",
    "outputId": "1c819177-0861-4deb-f1ad-3024087bc36f",
    "ExecuteTime": {
     "end_time": "2024-11-23T16:44:55.799738Z",
     "start_time": "2024-11-23T16:44:55.729680Z"
    }
   },
   "source": [
    "# using zeros\n",
    "torch.zeros(2,3)"
   ],
   "outputs": [
    {
     "data": {
      "text/plain": [
       "tensor([[0., 0., 0.],\n",
       "        [0., 0., 0.]])"
      ]
     },
     "execution_count": 5,
     "metadata": {},
     "output_type": "execute_result"
    }
   ],
   "execution_count": 5
  },
  {
   "cell_type": "code",
   "metadata": {
    "colab": {
     "base_uri": "https://localhost:8080/"
    },
    "id": "U3-KPOlX48mT",
    "outputId": "57557178-e7b2-4777-880e-f288c4a59a6a",
    "ExecuteTime": {
     "end_time": "2024-11-23T16:44:55.839823Z",
     "start_time": "2024-11-23T16:44:55.802767Z"
    }
   },
   "source": [
    "# using ones\n",
    "torch.ones(2,3)"
   ],
   "outputs": [
    {
     "data": {
      "text/plain": [
       "tensor([[1., 1., 1.],\n",
       "        [1., 1., 1.]])"
      ]
     },
     "execution_count": 6,
     "metadata": {},
     "output_type": "execute_result"
    }
   ],
   "execution_count": 6
  },
  {
   "cell_type": "code",
   "metadata": {
    "colab": {
     "base_uri": "https://localhost:8080/"
    },
    "id": "U_j_mRGK4-DA",
    "outputId": "a28018f3-8809-475e-b551-faeb8c3a7e2a",
    "ExecuteTime": {
     "end_time": "2024-11-23T16:44:55.859559Z",
     "start_time": "2024-11-23T16:44:55.843846Z"
    }
   },
   "source": [
    "# using rand\n",
    "torch.rand(2,3)"
   ],
   "outputs": [
    {
     "data": {
      "text/plain": [
       "tensor([[0.0360, 0.4610, 0.2747],\n",
       "        [0.3284, 0.4805, 0.5454]])"
      ]
     },
     "execution_count": 7,
     "metadata": {},
     "output_type": "execute_result"
    }
   ],
   "execution_count": 7
  },
  {
   "cell_type": "code",
   "metadata": {
    "colab": {
     "base_uri": "https://localhost:8080/"
    },
    "id": "lCAf-HRw5SiA",
    "outputId": "8fa32588-5c5d-458a-c953-4a98264d5d63",
    "ExecuteTime": {
     "end_time": "2024-11-23T16:44:55.880819Z",
     "start_time": "2024-11-23T16:44:55.864578Z"
    }
   },
   "source": [
    "# use of seed\n",
    "torch.rand(2,3)"
   ],
   "outputs": [
    {
     "data": {
      "text/plain": [
       "tensor([[0.8238, 0.9436, 0.5474],\n",
       "        [0.7818, 0.1293, 0.2309]])"
      ]
     },
     "execution_count": 8,
     "metadata": {},
     "output_type": "execute_result"
    }
   ],
   "execution_count": 8
  },
  {
   "cell_type": "code",
   "metadata": {
    "colab": {
     "base_uri": "https://localhost:8080/"
    },
    "id": "DvAqsoFG5UMr",
    "outputId": "c010cd7a-e710-4553-f269-c3b5436015d3",
    "ExecuteTime": {
     "end_time": "2024-11-23T16:44:55.902558Z",
     "start_time": "2024-11-23T16:44:55.883844Z"
    }
   },
   "source": [
    "# manual_seed\n",
    "torch.manual_seed(100)\n",
    "torch.rand(2,3)"
   ],
   "outputs": [
    {
     "data": {
      "text/plain": [
       "tensor([[0.1117, 0.8158, 0.2626],\n",
       "        [0.4839, 0.6765, 0.7539]])"
      ]
     },
     "execution_count": 9,
     "metadata": {},
     "output_type": "execute_result"
    }
   ],
   "execution_count": 9
  },
  {
   "cell_type": "code",
   "metadata": {
    "colab": {
     "base_uri": "https://localhost:8080/"
    },
    "id": "96Akgtgs5Ulp",
    "outputId": "918a84e0-d881-4dbe-b116-15bef55a0321",
    "ExecuteTime": {
     "end_time": "2024-11-23T16:44:55.920290Z",
     "start_time": "2024-11-23T16:44:55.906575Z"
    }
   },
   "source": [
    "torch.manual_seed(100)\n",
    "torch.rand(2,3)"
   ],
   "outputs": [
    {
     "data": {
      "text/plain": [
       "tensor([[0.1117, 0.8158, 0.2626],\n",
       "        [0.4839, 0.6765, 0.7539]])"
      ]
     },
     "execution_count": 10,
     "metadata": {},
     "output_type": "execute_result"
    }
   ],
   "execution_count": 10
  },
  {
   "cell_type": "code",
   "metadata": {
    "colab": {
     "base_uri": "https://localhost:8080/"
    },
    "id": "-YLLqcGB4_4J",
    "outputId": "9ae0b673-df86-4ca4-ce21-40a822daa1dc",
    "ExecuteTime": {
     "end_time": "2024-11-23T16:44:55.938435Z",
     "start_time": "2024-11-23T16:44:55.923311Z"
    }
   },
   "source": [
    "# using tensor\n",
    "torch.tensor([[1,2,3],[4,5,6]])"
   ],
   "outputs": [
    {
     "data": {
      "text/plain": [
       "tensor([[1, 2, 3],\n",
       "        [4, 5, 6]])"
      ]
     },
     "execution_count": 11,
     "metadata": {},
     "output_type": "execute_result"
    }
   ],
   "execution_count": 11
  },
  {
   "cell_type": "code",
   "metadata": {
    "colab": {
     "base_uri": "https://localhost:8080/"
    },
    "id": "nLj35yxr6Qgv",
    "outputId": "8a90e160-be7a-4463-a812-a3b496ce9190",
    "ExecuteTime": {
     "end_time": "2024-11-23T16:44:55.964440Z",
     "start_time": "2024-11-23T16:44:55.941460Z"
    }
   },
   "source": [
    "# other ways\n",
    "\n",
    "# arange\n",
    "print(\"using arange ->\", torch.arange(0,10,2))\n",
    "\n",
    "# using linspace\n",
    "print(\"using linspace ->\", torch.linspace(0,10,10))\n",
    "\n",
    "# using eye\n",
    "print(\"using eye ->\", torch.eye(5))\n",
    "\n",
    "# using full\n",
    "print(\"using full ->\", torch.full((3, 3), 5))"
   ],
   "outputs": [
    {
     "name": "stdout",
     "output_type": "stream",
     "text": [
      "using arange -> tensor([0, 2, 4, 6, 8])\n",
      "using linspace -> tensor([ 0.0000,  1.1111,  2.2222,  3.3333,  4.4444,  5.5556,  6.6667,  7.7778,\n",
      "         8.8889, 10.0000])\n",
      "using eye -> tensor([[1., 0., 0., 0., 0.],\n",
      "        [0., 1., 0., 0., 0.],\n",
      "        [0., 0., 1., 0., 0.],\n",
      "        [0., 0., 0., 1., 0.],\n",
      "        [0., 0., 0., 0., 1.]])\n",
      "using full -> tensor([[5, 5, 5],\n",
      "        [5, 5, 5],\n",
      "        [5, 5, 5]])\n"
     ]
    }
   ],
   "execution_count": 12
  },
  {
   "cell_type": "markdown",
   "metadata": {
    "id": "0ejaUWSkinz0"
   },
   "source": [
    "## Tensor Shapes"
   ]
  },
  {
   "cell_type": "code",
   "metadata": {
    "colab": {
     "base_uri": "https://localhost:8080/"
    },
    "id": "HDrr5mQ86R4K",
    "outputId": "c5b8808e-a87d-41d1-8372-f21955072091",
    "ExecuteTime": {
     "end_time": "2024-11-23T16:44:55.984002Z",
     "start_time": "2024-11-23T16:44:55.968471Z"
    }
   },
   "source": [
    "x = torch.tensor([[1,2,3],[4,5,6]])\n",
    "x"
   ],
   "outputs": [
    {
     "data": {
      "text/plain": [
       "tensor([[1, 2, 3],\n",
       "        [4, 5, 6]])"
      ]
     },
     "execution_count": 13,
     "metadata": {},
     "output_type": "execute_result"
    }
   ],
   "execution_count": 13
  },
  {
   "cell_type": "code",
   "metadata": {
    "colab": {
     "base_uri": "https://localhost:8080/"
    },
    "id": "xGZhrLablBq-",
    "outputId": "6e610739-d8c8-4b41-9039-81a269f093ab",
    "ExecuteTime": {
     "end_time": "2024-11-23T16:44:56.004718Z",
     "start_time": "2024-11-23T16:44:55.993030Z"
    }
   },
   "source": [
    "x.shape"
   ],
   "outputs": [
    {
     "data": {
      "text/plain": [
       "torch.Size([2, 3])"
      ]
     },
     "execution_count": 14,
     "metadata": {},
     "output_type": "execute_result"
    }
   ],
   "execution_count": 14
  },
  {
   "cell_type": "code",
   "metadata": {
    "colab": {
     "base_uri": "https://localhost:8080/"
    },
    "id": "NEQW9QhmlKXA",
    "outputId": "422963c4-f30d-4086-d05b-51633fa2c5ae",
    "ExecuteTime": {
     "end_time": "2024-11-23T16:44:56.018753Z",
     "start_time": "2024-11-23T16:44:56.007743Z"
    }
   },
   "source": [
    "torch.empty_like(x)"
   ],
   "outputs": [
    {
     "data": {
      "text/plain": [
       "tensor([[0, 0, 0],\n",
       "        [0, 0, 0]])"
      ]
     },
     "execution_count": 15,
     "metadata": {},
     "output_type": "execute_result"
    }
   ],
   "execution_count": 15
  },
  {
   "cell_type": "code",
   "metadata": {
    "colab": {
     "base_uri": "https://localhost:8080/"
    },
    "id": "PyyKSNHTlXMU",
    "outputId": "0f7c81c3-e660-45ff-e019-1a6fa0243429",
    "ExecuteTime": {
     "end_time": "2024-11-23T16:44:56.035492Z",
     "start_time": "2024-11-23T16:44:56.022776Z"
    }
   },
   "source": [
    "torch.zeros_like(x)"
   ],
   "outputs": [
    {
     "data": {
      "text/plain": [
       "tensor([[0, 0, 0],\n",
       "        [0, 0, 0]])"
      ]
     },
     "execution_count": 16,
     "metadata": {},
     "output_type": "execute_result"
    }
   ],
   "execution_count": 16
  },
  {
   "cell_type": "code",
   "metadata": {
    "colab": {
     "base_uri": "https://localhost:8080/"
    },
    "id": "WtKV7Wxalb3l",
    "outputId": "3200a194-3ea3-43bd-8b5f-176c62988581",
    "ExecuteTime": {
     "end_time": "2024-11-23T16:44:56.055285Z",
     "start_time": "2024-11-23T16:44:56.041516Z"
    }
   },
   "source": [
    "torch.ones_like(x)"
   ],
   "outputs": [
    {
     "data": {
      "text/plain": [
       "tensor([[1, 1, 1],\n",
       "        [1, 1, 1]])"
      ]
     },
     "execution_count": 17,
     "metadata": {},
     "output_type": "execute_result"
    }
   ],
   "execution_count": 17
  },
  {
   "cell_type": "code",
   "metadata": {
    "colab": {
     "base_uri": "https://localhost:8080/"
    },
    "id": "1WS_uk8ileyH",
    "outputId": "2079fa8e-7e26-47d5-8a00-1756b23871d4",
    "ExecuteTime": {
     "end_time": "2024-11-23T16:44:56.080291Z",
     "start_time": "2024-11-23T16:44:56.062314Z"
    }
   },
   "source": [
    "torch.rand_like(x, dtype=torch.float32)"
   ],
   "outputs": [
    {
     "data": {
      "text/plain": [
       "tensor([[0.2627, 0.0428, 0.2080],\n",
       "        [0.1180, 0.1217, 0.7356]])"
      ]
     },
     "execution_count": 18,
     "metadata": {},
     "output_type": "execute_result"
    }
   ],
   "execution_count": 18
  },
  {
   "cell_type": "markdown",
   "metadata": {
    "id": "nYM1fR5BmxIf"
   },
   "source": [
    "## Tensor Data Types"
   ]
  },
  {
   "cell_type": "code",
   "metadata": {
    "colab": {
     "base_uri": "https://localhost:8080/"
    },
    "id": "Jy-rBsKSliAe",
    "outputId": "ee80238b-4e5e-493f-f43f-35e0501fd089",
    "ExecuteTime": {
     "end_time": "2024-11-23T16:44:56.103023Z",
     "start_time": "2024-11-23T16:44:56.092312Z"
    }
   },
   "source": [
    "# find data type\n",
    "x.dtype"
   ],
   "outputs": [
    {
     "data": {
      "text/plain": [
       "torch.int64"
      ]
     },
     "execution_count": 19,
     "metadata": {},
     "output_type": "execute_result"
    }
   ],
   "execution_count": 19
  },
  {
   "cell_type": "code",
   "metadata": {
    "colab": {
     "base_uri": "https://localhost:8080/"
    },
    "id": "6T2gmrujnaMA",
    "outputId": "4dd19471-a4e0-42ab-9124-5e68eef167a7",
    "ExecuteTime": {
     "end_time": "2024-11-23T16:44:56.120023Z",
     "start_time": "2024-11-23T16:44:56.107040Z"
    }
   },
   "source": [
    "# assign data type\n",
    "torch.tensor([1.0,2.0,3.0], dtype=torch.int32)"
   ],
   "outputs": [
    {
     "data": {
      "text/plain": [
       "tensor([1, 2, 3], dtype=torch.int32)"
      ]
     },
     "execution_count": 20,
     "metadata": {},
     "output_type": "execute_result"
    }
   ],
   "execution_count": 20
  },
  {
   "cell_type": "code",
   "metadata": {
    "colab": {
     "base_uri": "https://localhost:8080/"
    },
    "id": "wZ8lMLsInffd",
    "outputId": "7c4d1c9d-d611-46ac-c8df-0276ec06ec8a",
    "ExecuteTime": {
     "end_time": "2024-11-23T16:44:56.145196Z",
     "start_time": "2024-11-23T16:44:56.124038Z"
    }
   },
   "source": [
    "torch.tensor([1,2,3], dtype=torch.float64)"
   ],
   "outputs": [
    {
     "data": {
      "text/plain": [
       "tensor([1., 2., 3.], dtype=torch.float64)"
      ]
     },
     "execution_count": 21,
     "metadata": {},
     "output_type": "execute_result"
    }
   ],
   "execution_count": 21
  },
  {
   "cell_type": "code",
   "metadata": {
    "colab": {
     "base_uri": "https://localhost:8080/"
    },
    "id": "WTAB-h_ing07",
    "outputId": "56c3f27f-d846-4e8d-9430-c3e694baf98d",
    "ExecuteTime": {
     "end_time": "2024-11-23T16:44:56.166710Z",
     "start_time": "2024-11-23T16:44:56.151218Z"
    }
   },
   "source": [
    "# using to()\n",
    "x.to(torch.float32)"
   ],
   "outputs": [
    {
     "data": {
      "text/plain": [
       "tensor([[1., 2., 3.],\n",
       "        [4., 5., 6.]])"
      ]
     },
     "execution_count": 22,
     "metadata": {},
     "output_type": "execute_result"
    }
   ],
   "execution_count": 22
  },
  {
   "cell_type": "markdown",
   "metadata": {
    "id": "dLm25jhknmuQ"
   },
   "source": [
    "| **Data Type**             | **Dtype**         | **Description**                                                                                                                                                                |\n",
    "|---------------------------|-------------------|--------------------------------------------------------------------------------------------------------------------------------------------------------------------------------|\n",
    "| **32-bit Floating Point** | `torch.float32`   | Standard floating-point type used for most deep learning tasks. Provides a balance between precision and memory usage.                                                         |\n",
    "| **64-bit Floating Point** | `torch.float64`   | Double-precision floating point. Useful for high-precision numerical tasks but uses more memory.                                                                               |\n",
    "| **16-bit Floating Point** | `torch.float16`   | Half-precision floating point. Commonly used in mixed-precision training to reduce memory and computational overhead on modern GPUs.                                            |\n",
    "| **BFloat16**              | `torch.bfloat16`  | Brain floating-point format with reduced precision compared to `float16`. Used in mixed-precision training, especially on TPUs.                                                |\n",
    "| **8-bit Floating Point**  | `torch.float8`    | Ultra-low-precision floating point. Used for experimental applications and extreme memory-constrained environments (less common).                                               |\n",
    "| **8-bit Integer**         | `torch.int8`      | 8-bit signed integer. Used for quantized models to save memory and computation in inference.                                                                                   |\n",
    "| **16-bit Integer**        | `torch.int16`     | 16-bit signed integer. Useful for special numerical tasks requiring intermediate precision.                                                                                    |\n",
    "| **32-bit Integer**        | `torch.int32`     | Standard signed integer type. Commonly used for indexing and general-purpose numerical tasks.                                                                                  |\n",
    "| **64-bit Integer**        | `torch.int64`     | Long integer type. Often used for large indexing arrays or for tasks involving large numbers.                                                                                  |\n",
    "| **8-bit Unsigned Integer**| `torch.uint8`     | 8-bit unsigned integer. Commonly used for image data (e.g., pixel values between 0 and 255).                                                                                    |\n",
    "| **Boolean**               | `torch.bool`      | Boolean type, stores `True` or `False` values. Often used for masks in logical operations.                                                                                      |\n",
    "| **Complex 64**            | `torch.complex64` | Complex number type with 32-bit real and 32-bit imaginary parts. Used for scientific and signal processing tasks.                                                               |\n",
    "| **Complex 128**           | `torch.complex128`| Complex number type with 64-bit real and 64-bit imaginary parts. Offers higher precision but uses more memory.                                                                 |\n",
    "| **Quantized Integer**     | `torch.qint8`     | Quantized signed 8-bit integer. Used in quantized models for efficient inference.                                                                                              |\n",
    "| **Quantized Unsigned Integer** | `torch.quint8` | Quantized unsigned 8-bit integer. Often used for quantized tensors in image-related tasks.                                                                                     |\n"
   ]
  },
  {
   "cell_type": "markdown",
   "metadata": {
    "id": "baPoka3lqpEQ"
   },
   "source": [
    "## Mathematical operations"
   ]
  },
  {
   "cell_type": "markdown",
   "metadata": {
    "id": "wre7rSdlqsOB"
   },
   "source": [
    "### 1. Scalar operation"
   ]
  },
  {
   "cell_type": "code",
   "metadata": {
    "colab": {
     "base_uri": "https://localhost:8080/"
    },
    "id": "CS69nYyanqYD",
    "outputId": "c3c41829-a45c-4ee4-870e-d429fee5d570",
    "ExecuteTime": {
     "end_time": "2024-11-23T16:44:56.184477Z",
     "start_time": "2024-11-23T16:44:56.172737Z"
    }
   },
   "source": [
    "x = torch.rand(2,2)\n",
    "x"
   ],
   "outputs": [
    {
     "data": {
      "text/plain": [
       "tensor([[0.7118, 0.7876],\n",
       "        [0.4183, 0.9014]])"
      ]
     },
     "execution_count": 23,
     "metadata": {},
     "output_type": "execute_result"
    }
   ],
   "execution_count": 23
  },
  {
   "cell_type": "code",
   "metadata": {
    "colab": {
     "base_uri": "https://localhost:8080/"
    },
    "id": "ztrwQq-cqyz9",
    "outputId": "bd34c062-483b-4be7-d702-4383edc9cc22",
    "ExecuteTime": {
     "end_time": "2024-11-23T16:44:56.214475Z",
     "start_time": "2024-11-23T16:44:56.187492Z"
    }
   },
   "source": [
    "# addition\n",
    "x + 2\n",
    "# substraction\n",
    "x - 2\n",
    "# multiplication\n",
    "x * 3\n",
    "# division\n",
    "x / 3\n",
    "# int division\n",
    "(x * 100)//3\n",
    "# mod\n",
    "((x * 100)//3)%2\n",
    "# power\n",
    "x**2"
   ],
   "outputs": [
    {
     "data": {
      "text/plain": [
       "tensor([[0.5066, 0.6203],\n",
       "        [0.1750, 0.8125]])"
      ]
     },
     "execution_count": 24,
     "metadata": {},
     "output_type": "execute_result"
    }
   ],
   "execution_count": 24
  },
  {
   "cell_type": "markdown",
   "metadata": {
    "id": "y2n84o2ZrGcY"
   },
   "source": [
    "### 2. Element wise operation"
   ]
  },
  {
   "cell_type": "code",
   "metadata": {
    "colab": {
     "base_uri": "https://localhost:8080/"
    },
    "id": "PcnbNatwq1_3",
    "outputId": "f7be7df7-9ef2-4aac-eb7b-b2ec8f72f2cc",
    "ExecuteTime": {
     "end_time": "2024-11-23T16:44:56.234489Z",
     "start_time": "2024-11-23T16:44:56.220500Z"
    }
   },
   "source": [
    "a = torch.rand(2,3)\n",
    "b = torch.rand(2,3)\n",
    "\n",
    "print(a)\n",
    "print(b)"
   ],
   "outputs": [
    {
     "name": "stdout",
     "output_type": "stream",
     "text": [
      "tensor([[0.9969, 0.7565, 0.2239],\n",
      "        [0.3023, 0.1784, 0.8238]])\n",
      "tensor([[0.5557, 0.9770, 0.4440],\n",
      "        [0.9478, 0.7445, 0.4892]])\n"
     ]
    }
   ],
   "execution_count": 25
  },
  {
   "cell_type": "code",
   "metadata": {
    "colab": {
     "base_uri": "https://localhost:8080/"
    },
    "id": "Qye9acabrUae",
    "outputId": "e1c457af-3cb7-40de-a6a7-eb34cc557625",
    "ExecuteTime": {
     "end_time": "2024-11-23T16:44:56.259021Z",
     "start_time": "2024-11-23T16:44:56.239504Z"
    }
   },
   "source": [
    "# add\n",
    "a + b\n",
    "# sub\n",
    "a - b\n",
    "# multiply\n",
    "a * b\n",
    "# division\n",
    "a / b\n",
    "# power\n",
    "a ** b\n",
    "# mod\n",
    "a % b"
   ],
   "outputs": [
    {
     "data": {
      "text/plain": [
       "tensor([[0.4411, 0.7565, 0.2239],\n",
       "        [0.3023, 0.1784, 0.3346]])"
      ]
     },
     "execution_count": 26,
     "metadata": {},
     "output_type": "execute_result"
    }
   ],
   "execution_count": 26
  },
  {
   "cell_type": "code",
   "metadata": {
    "id": "ftIq3-30rnhR",
    "ExecuteTime": {
     "end_time": "2024-11-23T16:44:56.283334Z",
     "start_time": "2024-11-23T16:44:56.266035Z"
    }
   },
   "source": [
    "c = torch.tensor([1, -2, 3, -4])"
   ],
   "outputs": [],
   "execution_count": 27
  },
  {
   "cell_type": "code",
   "metadata": {
    "colab": {
     "base_uri": "https://localhost:8080/"
    },
    "id": "GHWZWPxWr4rG",
    "outputId": "25337c88-d379-4d11-c071-77032cf61fb6",
    "ExecuteTime": {
     "end_time": "2024-11-23T16:44:56.306297Z",
     "start_time": "2024-11-23T16:44:56.288354Z"
    }
   },
   "source": [
    "# abs\n",
    "torch.abs(c)"
   ],
   "outputs": [
    {
     "data": {
      "text/plain": [
       "tensor([1, 2, 3, 4])"
      ]
     },
     "execution_count": 28,
     "metadata": {},
     "output_type": "execute_result"
    }
   ],
   "execution_count": 28
  },
  {
   "cell_type": "code",
   "metadata": {
    "colab": {
     "base_uri": "https://localhost:8080/"
    },
    "id": "kROGMVNtrtfT",
    "outputId": "a8a5658a-d00c-4ebb-c525-3c93bc0a447f",
    "ExecuteTime": {
     "end_time": "2024-11-23T16:44:56.325076Z",
     "start_time": "2024-11-23T16:44:56.311321Z"
    }
   },
   "source": [
    "# negative\n",
    "torch.neg(c)"
   ],
   "outputs": [
    {
     "data": {
      "text/plain": [
       "tensor([-1,  2, -3,  4])"
      ]
     },
     "execution_count": 29,
     "metadata": {},
     "output_type": "execute_result"
    }
   ],
   "execution_count": 29
  },
  {
   "cell_type": "code",
   "metadata": {
    "id": "U2RLWzlaryKh",
    "ExecuteTime": {
     "end_time": "2024-11-23T16:44:56.337286Z",
     "start_time": "2024-11-23T16:44:56.329093Z"
    }
   },
   "source": [
    "d = torch.tensor([1.9, 2.3, 3.7, 4.4])"
   ],
   "outputs": [],
   "execution_count": 30
  },
  {
   "cell_type": "code",
   "metadata": {
    "colab": {
     "base_uri": "https://localhost:8080/"
    },
    "id": "g4OrL7w9sAWF",
    "outputId": "a1839e9f-f0a0-4672-9109-013c30f58d01",
    "ExecuteTime": {
     "end_time": "2024-11-23T16:44:56.353874Z",
     "start_time": "2024-11-23T16:44:56.341302Z"
    }
   },
   "source": [
    "# round\n",
    "torch.round(d)"
   ],
   "outputs": [
    {
     "data": {
      "text/plain": [
       "tensor([2., 2., 4., 4.])"
      ]
     },
     "execution_count": 31,
     "metadata": {},
     "output_type": "execute_result"
    }
   ],
   "execution_count": 31
  },
  {
   "cell_type": "code",
   "metadata": {
    "colab": {
     "base_uri": "https://localhost:8080/"
    },
    "id": "1fPsOYOAsEE6",
    "outputId": "da1276d1-610a-4f5f-8c7d-9284b03b8dc0",
    "ExecuteTime": {
     "end_time": "2024-11-23T16:44:56.377029Z",
     "start_time": "2024-11-23T16:44:56.361892Z"
    }
   },
   "source": [
    "# ceil\n",
    "torch.ceil(d)"
   ],
   "outputs": [
    {
     "data": {
      "text/plain": [
       "tensor([2., 3., 4., 5.])"
      ]
     },
     "execution_count": 32,
     "metadata": {},
     "output_type": "execute_result"
    }
   ],
   "execution_count": 32
  },
  {
   "cell_type": "code",
   "metadata": {
    "colab": {
     "base_uri": "https://localhost:8080/"
    },
    "id": "ilT0yf1TsE6G",
    "outputId": "e664fb5c-0be2-4190-a5f3-40ec4a480b63",
    "ExecuteTime": {
     "end_time": "2024-11-23T16:44:56.400829Z",
     "start_time": "2024-11-23T16:44:56.380050Z"
    }
   },
   "source": [
    "# floor\n",
    "torch.floor(d)"
   ],
   "outputs": [
    {
     "data": {
      "text/plain": [
       "tensor([1., 2., 3., 4.])"
      ]
     },
     "execution_count": 33,
     "metadata": {},
     "output_type": "execute_result"
    }
   ],
   "execution_count": 33
  },
  {
   "cell_type": "code",
   "metadata": {
    "colab": {
     "base_uri": "https://localhost:8080/"
    },
    "id": "ZzVkY4xgsFvP",
    "outputId": "e6ea8460-37a4-42da-b248-d3f7deca8a1e",
    "ExecuteTime": {
     "end_time": "2024-11-23T16:44:56.418371Z",
     "start_time": "2024-11-23T16:44:56.404849Z"
    }
   },
   "source": [
    "# clamp\n",
    "torch.clamp(d, min=2, max=3)"
   ],
   "outputs": [
    {
     "data": {
      "text/plain": [
       "tensor([2.0000, 2.3000, 3.0000, 3.0000])"
      ]
     },
     "execution_count": 34,
     "metadata": {},
     "output_type": "execute_result"
    }
   ],
   "execution_count": 34
  },
  {
   "cell_type": "markdown",
   "metadata": {
    "id": "4vWfG_ZmsN0J"
   },
   "source": [
    "### 3. Reduction operation"
   ]
  },
  {
   "cell_type": "code",
   "metadata": {
    "colab": {
     "base_uri": "https://localhost:8080/"
    },
    "id": "JQBlGL52sGae",
    "outputId": "c3e91f3d-4a59-4bf2-8544-2038013a7dc1",
    "ExecuteTime": {
     "end_time": "2024-11-23T16:44:56.437578Z",
     "start_time": "2024-11-23T16:44:56.422395Z"
    }
   },
   "source": [
    "e = torch.randint(size=(2,3), low=0, high=10, dtype=torch.float32)\n",
    "e"
   ],
   "outputs": [
    {
     "data": {
      "text/plain": [
       "tensor([[8., 0., 7.],\n",
       "        [0., 0., 9.]])"
      ]
     },
     "execution_count": 35,
     "metadata": {},
     "output_type": "execute_result"
    }
   ],
   "execution_count": 35
  },
  {
   "cell_type": "code",
   "metadata": {
    "colab": {
     "base_uri": "https://localhost:8080/"
    },
    "id": "9o8zMdUosWSs",
    "outputId": "5d82b720-8f08-4b8a-d427-e91de0037c64",
    "ExecuteTime": {
     "end_time": "2024-11-23T16:44:56.458301Z",
     "start_time": "2024-11-23T16:44:56.440598Z"
    }
   },
   "source": [
    "# sum\n",
    "torch.sum(e)\n",
    "# sum along columns\n",
    "torch.sum(e, dim=0)\n",
    "# sum along rows\n",
    "torch.sum(e, dim=1)"
   ],
   "outputs": [
    {
     "data": {
      "text/plain": [
       "tensor([15.,  9.])"
      ]
     },
     "execution_count": 36,
     "metadata": {},
     "output_type": "execute_result"
    }
   ],
   "execution_count": 36
  },
  {
   "cell_type": "code",
   "metadata": {
    "colab": {
     "base_uri": "https://localhost:8080/"
    },
    "id": "5Am6Hrdssl90",
    "outputId": "846569f6-b10a-4826-b49c-b777e11d3972",
    "ExecuteTime": {
     "end_time": "2024-11-23T16:44:56.479496Z",
     "start_time": "2024-11-23T16:44:56.461315Z"
    }
   },
   "source": [
    "# mean\n",
    "torch.mean(e)\n",
    "# mean along col\n",
    "torch.mean(e, dim=0)"
   ],
   "outputs": [
    {
     "data": {
      "text/plain": [
       "tensor([4., 0., 8.])"
      ]
     },
     "execution_count": 37,
     "metadata": {},
     "output_type": "execute_result"
    }
   ],
   "execution_count": 37
  },
  {
   "cell_type": "code",
   "metadata": {
    "colab": {
     "base_uri": "https://localhost:8080/"
    },
    "id": "wIXESOkIs8M8",
    "outputId": "cfc6b1ae-84a9-463f-b701-4e5527b4ce56",
    "ExecuteTime": {
     "end_time": "2024-11-23T16:44:56.517622Z",
     "start_time": "2024-11-23T16:44:56.483524Z"
    }
   },
   "source": [
    "# median\n",
    "torch.median(e)"
   ],
   "outputs": [
    {
     "data": {
      "text/plain": [
       "tensor(0.)"
      ]
     },
     "execution_count": 38,
     "metadata": {},
     "output_type": "execute_result"
    }
   ],
   "execution_count": 38
  },
  {
   "cell_type": "code",
   "metadata": {
    "colab": {
     "base_uri": "https://localhost:8080/"
    },
    "id": "RIs7y6cysnFT",
    "outputId": "e1aa03cb-833d-49a6-e02c-2409d8a5c3e5",
    "ExecuteTime": {
     "end_time": "2024-11-23T16:44:56.536409Z",
     "start_time": "2024-11-23T16:44:56.522643Z"
    }
   },
   "source": [
    "# max and min\n",
    "torch.max(e)\n",
    "torch.min(e)"
   ],
   "outputs": [
    {
     "data": {
      "text/plain": [
       "tensor(0.)"
      ]
     },
     "execution_count": 39,
     "metadata": {},
     "output_type": "execute_result"
    }
   ],
   "execution_count": 39
  },
  {
   "cell_type": "code",
   "metadata": {
    "colab": {
     "base_uri": "https://localhost:8080/"
    },
    "id": "TIP4CUwasw4Q",
    "outputId": "eef4bed8-de7d-4190-dc47-2480f7c94683",
    "ExecuteTime": {
     "end_time": "2024-11-23T16:44:56.555617Z",
     "start_time": "2024-11-23T16:44:56.541433Z"
    }
   },
   "source": [
    "# product\n",
    "torch.prod(e)"
   ],
   "outputs": [
    {
     "data": {
      "text/plain": [
       "tensor(0.)"
      ]
     },
     "execution_count": 40,
     "metadata": {},
     "output_type": "execute_result"
    }
   ],
   "execution_count": 40
  },
  {
   "cell_type": "code",
   "metadata": {
    "colab": {
     "base_uri": "https://localhost:8080/"
    },
    "id": "BAQIjNjwsyLF",
    "outputId": "4e8d271e-2808-4848-fcdb-3a6b5aabaa9a",
    "ExecuteTime": {
     "end_time": "2024-11-23T16:44:56.589830Z",
     "start_time": "2024-11-23T16:44:56.573637Z"
    }
   },
   "source": [
    "# standard deviation\n",
    "torch.std(e)"
   ],
   "outputs": [
    {
     "data": {
      "text/plain": [
       "tensor(4.4272)"
      ]
     },
     "execution_count": 41,
     "metadata": {},
     "output_type": "execute_result"
    }
   ],
   "execution_count": 41
  },
  {
   "cell_type": "code",
   "metadata": {
    "colab": {
     "base_uri": "https://localhost:8080/"
    },
    "id": "78S1Ggv_s2nC",
    "outputId": "840310de-b26c-44a7-e012-b99e557aff57",
    "ExecuteTime": {
     "end_time": "2024-11-23T16:44:56.608894Z",
     "start_time": "2024-11-23T16:44:56.593853Z"
    }
   },
   "source": [
    "# variance\n",
    "torch.var(e)"
   ],
   "outputs": [
    {
     "data": {
      "text/plain": [
       "tensor(19.6000)"
      ]
     },
     "execution_count": 42,
     "metadata": {},
     "output_type": "execute_result"
    }
   ],
   "execution_count": 42
  },
  {
   "cell_type": "code",
   "metadata": {
    "colab": {
     "base_uri": "https://localhost:8080/"
    },
    "id": "EOtGIsd9s3UZ",
    "outputId": "69688f25-6dc7-41a6-d46a-63969e91c217",
    "ExecuteTime": {
     "end_time": "2024-11-23T16:44:56.624742Z",
     "start_time": "2024-11-23T16:44:56.612918Z"
    }
   },
   "source": [
    "# argmax\n",
    "torch.argmax(e)"
   ],
   "outputs": [
    {
     "data": {
      "text/plain": [
       "tensor(5)"
      ]
     },
     "execution_count": 43,
     "metadata": {},
     "output_type": "execute_result"
    }
   ],
   "execution_count": 43
  },
  {
   "cell_type": "code",
   "metadata": {
    "colab": {
     "base_uri": "https://localhost:8080/"
    },
    "id": "J23C1bwes6TL",
    "outputId": "019aae81-6353-4702-e557-b4599861552c",
    "ExecuteTime": {
     "end_time": "2024-11-23T16:44:56.654968Z",
     "start_time": "2024-11-23T16:44:56.631757Z"
    }
   },
   "source": [
    "# argmin\n",
    "torch.argmin(e)"
   ],
   "outputs": [
    {
     "data": {
      "text/plain": [
       "tensor(1)"
      ]
     },
     "execution_count": 44,
     "metadata": {},
     "output_type": "execute_result"
    }
   ],
   "execution_count": 44
  },
  {
   "cell_type": "markdown",
   "metadata": {
    "id": "dw_h9fvMtLXw"
   },
   "source": [
    "### 4. Matrix operations"
   ]
  },
  {
   "cell_type": "code",
   "metadata": {
    "colab": {
     "base_uri": "https://localhost:8080/"
    },
    "id": "a54MqBBQs7BJ",
    "outputId": "3e4962ea-bbf5-492d-ca11-9afc7598b0b1",
    "ExecuteTime": {
     "end_time": "2024-11-23T16:44:56.680794Z",
     "start_time": "2024-11-23T16:44:56.658987Z"
    }
   },
   "source": [
    "f = torch.randint(size=(2,3), low=0, high=10)\n",
    "g = torch.randint(size=(3,2), low=0, high=10)\n",
    "\n",
    "print(f)\n",
    "print(g)"
   ],
   "outputs": [
    {
     "name": "stdout",
     "output_type": "stream",
     "text": [
      "tensor([[5, 7, 3],\n",
      "        [9, 4, 0]])\n",
      "tensor([[5, 7],\n",
      "        [5, 9],\n",
      "        [9, 7]])\n"
     ]
    }
   ],
   "execution_count": 45
  },
  {
   "cell_type": "code",
   "metadata": {
    "colab": {
     "base_uri": "https://localhost:8080/"
    },
    "id": "BqQ7sNBctWfS",
    "outputId": "fa28d67d-e5ed-4cdf-e116-8fe7fc931a9c",
    "ExecuteTime": {
     "end_time": "2024-11-23T16:44:56.699022Z",
     "start_time": "2024-11-23T16:44:56.683814Z"
    }
   },
   "source": [
    "# matrix multiplcation\n",
    "# torch.mm(f, g)       # 2-D Matrix multiplication\n",
    "torch.matmul(f, g)     # n-D"
   ],
   "outputs": [
    {
     "data": {
      "text/plain": [
       "tensor([[ 87, 119],\n",
       "        [ 65,  99]])"
      ]
     },
     "execution_count": 46,
     "metadata": {},
     "output_type": "execute_result"
    }
   ],
   "execution_count": 46
  },
  {
   "cell_type": "code",
   "metadata": {
    "colab": {
     "base_uri": "https://localhost:8080/"
    },
    "id": "CopN1Oe5tZrD",
    "outputId": "3697a4e7-fed8-49e0-a968-99961be2b389",
    "ExecuteTime": {
     "end_time": "2024-11-23T16:44:56.720097Z",
     "start_time": "2024-11-23T16:44:56.703042Z"
    }
   },
   "source": [
    "vector1 = torch.tensor([1, 2])\n",
    "vector2 = torch.tensor([3, 4])\n",
    "\n",
    "# dot product\n",
    "torch.dot(vector1, vector2)"
   ],
   "outputs": [
    {
     "data": {
      "text/plain": [
       "tensor(11)"
      ]
     },
     "execution_count": 47,
     "metadata": {},
     "output_type": "execute_result"
    }
   ],
   "execution_count": 47
  },
  {
   "cell_type": "code",
   "metadata": {
    "colab": {
     "base_uri": "https://localhost:8080/"
    },
    "id": "9Imz3Vq6ta4y",
    "outputId": "8224d8ec-ae96-475e-f016-6c8faca5f618",
    "ExecuteTime": {
     "end_time": "2024-11-23T16:44:56.738986Z",
     "start_time": "2024-11-23T16:44:56.725119Z"
    }
   },
   "source": [
    "# transpose\n",
    "torch.transpose(f, 0, 1)"
   ],
   "outputs": [
    {
     "data": {
      "text/plain": [
       "tensor([[5, 9],\n",
       "        [7, 4],\n",
       "        [3, 0]])"
      ]
     },
     "execution_count": 48,
     "metadata": {},
     "output_type": "execute_result"
    }
   ],
   "execution_count": 48
  },
  {
   "cell_type": "code",
   "metadata": {
    "colab": {
     "base_uri": "https://localhost:8080/"
    },
    "id": "yEfuS9ZKtdSi",
    "outputId": "d23ed5a1-efd5-41fb-d48e-8a66695c3834",
    "ExecuteTime": {
     "end_time": "2024-11-23T16:44:56.761375Z",
     "start_time": "2024-11-23T16:44:56.745005Z"
    }
   },
   "source": [
    "h = torch.randint(size=(3,3), low=0, high=10, dtype=torch.float32)\n",
    "h"
   ],
   "outputs": [
    {
     "data": {
      "text/plain": [
       "tensor([[5., 9., 8.],\n",
       "        [9., 7., 9.],\n",
       "        [2., 6., 7.]])"
      ]
     },
     "execution_count": 49,
     "metadata": {},
     "output_type": "execute_result"
    }
   ],
   "execution_count": 49
  },
  {
   "cell_type": "code",
   "metadata": {
    "colab": {
     "base_uri": "https://localhost:8080/"
    },
    "id": "PqfUsUvttpXZ",
    "outputId": "f9eb0d09-b79d-47ba-e5a4-2e377a267d3d",
    "ExecuteTime": {
     "end_time": "2024-11-23T16:44:56.803692Z",
     "start_time": "2024-11-23T16:44:56.769400Z"
    }
   },
   "source": [
    "# determinant\n",
    "torch.det(h)"
   ],
   "outputs": [
    {
     "data": {
      "text/plain": [
       "tensor(-110.0000)"
      ]
     },
     "execution_count": 50,
     "metadata": {},
     "output_type": "execute_result"
    }
   ],
   "execution_count": 50
  },
  {
   "cell_type": "code",
   "metadata": {
    "colab": {
     "base_uri": "https://localhost:8080/"
    },
    "id": "X0khPormts14",
    "outputId": "4626b679-a1c4-48fd-9e1a-7fd13a3ab485",
    "ExecuteTime": {
     "end_time": "2024-11-23T16:44:56.838574Z",
     "start_time": "2024-11-23T16:44:56.807722Z"
    }
   },
   "source": [
    "# inverse\n",
    "torch.inverse(h)"
   ],
   "outputs": [
    {
     "data": {
      "text/plain": [
       "tensor([[ 0.0455,  0.1364, -0.2273],\n",
       "        [ 0.4091, -0.1727, -0.2455],\n",
       "        [-0.3636,  0.1091,  0.4182]])"
      ]
     },
     "execution_count": 51,
     "metadata": {},
     "output_type": "execute_result"
    }
   ],
   "execution_count": 51
  },
  {
   "cell_type": "markdown",
   "metadata": {
    "id": "-lEkBmv5t1nB"
   },
   "source": [
    "### 5. Comparison operations"
   ]
  },
  {
   "cell_type": "code",
   "metadata": {
    "colab": {
     "base_uri": "https://localhost:8080/"
    },
    "id": "G89Keg-xtxUr",
    "outputId": "9943d326-f0dd-463c-962a-1be95e634dfa",
    "ExecuteTime": {
     "end_time": "2024-11-23T16:44:56.866456Z",
     "start_time": "2024-11-23T16:44:56.842588Z"
    }
   },
   "source": [
    "i = torch.randint(size=(2,3), low=0, high=10)\n",
    "j = torch.randint(size=(2,3), low=0, high=10)\n",
    "\n",
    "print(i)\n",
    "print(j)"
   ],
   "outputs": [
    {
     "name": "stdout",
     "output_type": "stream",
     "text": [
      "tensor([[7, 8, 3],\n",
      "        [6, 1, 5]])\n",
      "tensor([[5, 0, 4],\n",
      "        [3, 8, 8]])\n"
     ]
    }
   ],
   "execution_count": 52
  },
  {
   "cell_type": "code",
   "metadata": {
    "colab": {
     "base_uri": "https://localhost:8080/"
    },
    "id": "F5v--5uiuBWW",
    "outputId": "32888e4a-6ed6-471b-9358-473374d34b98",
    "ExecuteTime": {
     "end_time": "2024-11-23T16:44:56.886290Z",
     "start_time": "2024-11-23T16:44:56.870789Z"
    }
   },
   "source": [
    "# greater than\n",
    "i > j\n",
    "# less than\n",
    "i < j\n",
    "# equal to\n",
    "i == j\n",
    "# not equal to\n",
    "i != j\n",
    "# greater than equal to\n",
    "\n",
    "# less than equal to"
   ],
   "outputs": [
    {
     "data": {
      "text/plain": [
       "tensor([[True, True, True],\n",
       "        [True, True, True]])"
      ]
     },
     "execution_count": 53,
     "metadata": {},
     "output_type": "execute_result"
    }
   ],
   "execution_count": 53
  },
  {
   "cell_type": "markdown",
   "metadata": {
    "id": "jd9JzlO1uaf3"
   },
   "source": [
    "### 6. Special functions"
   ]
  },
  {
   "cell_type": "code",
   "metadata": {
    "colab": {
     "base_uri": "https://localhost:8080/"
    },
    "id": "lKU6tQpyuY0M",
    "outputId": "53339fda-a0ef-46cb-a505-a86d7c5d564c",
    "ExecuteTime": {
     "end_time": "2024-11-23T16:44:56.908584Z",
     "start_time": "2024-11-23T16:44:56.891307Z"
    }
   },
   "source": [
    "k = torch.randint(size=(2,3), low=0, high=10, dtype=torch.float32)\n",
    "k"
   ],
   "outputs": [
    {
     "data": {
      "text/plain": [
       "tensor([[3., 3., 5.],\n",
       "        [0., 6., 4.]])"
      ]
     },
     "execution_count": 54,
     "metadata": {},
     "output_type": "execute_result"
    }
   ],
   "execution_count": 54
  },
  {
   "cell_type": "code",
   "metadata": {
    "colab": {
     "base_uri": "https://localhost:8080/"
    },
    "id": "-gl1dhdVuDOE",
    "outputId": "1b0d1587-5890-4f32-fd58-5b4c196f93a0",
    "ExecuteTime": {
     "end_time": "2024-11-23T16:44:56.934784Z",
     "start_time": "2024-11-23T16:44:56.914599Z"
    }
   },
   "source": [
    "# log\n",
    "torch.log(k)"
   ],
   "outputs": [
    {
     "data": {
      "text/plain": [
       "tensor([[1.0986, 1.0986, 1.6094],\n",
       "        [  -inf, 1.7918, 1.3863]])"
      ]
     },
     "execution_count": 55,
     "metadata": {},
     "output_type": "execute_result"
    }
   ],
   "execution_count": 55
  },
  {
   "cell_type": "code",
   "metadata": {
    "colab": {
     "base_uri": "https://localhost:8080/"
    },
    "id": "rQSpBdkbujck",
    "outputId": "4b3465de-85c4-4f7f-b723-0e87e7de4acc",
    "ExecuteTime": {
     "end_time": "2024-11-23T16:44:56.952193Z",
     "start_time": "2024-11-23T16:44:56.938806Z"
    }
   },
   "source": [
    "# exp\n",
    "torch.exp(k)"
   ],
   "outputs": [
    {
     "data": {
      "text/plain": [
       "tensor([[ 20.0855,  20.0855, 148.4132],\n",
       "        [  1.0000, 403.4288,  54.5981]])"
      ]
     },
     "execution_count": 56,
     "metadata": {},
     "output_type": "execute_result"
    }
   ],
   "execution_count": 56
  },
  {
   "cell_type": "code",
   "metadata": {
    "colab": {
     "base_uri": "https://localhost:8080/"
    },
    "id": "gTDfXdbVukh0",
    "outputId": "6941a276-3149-4b43-f09b-c6380e566c89",
    "ExecuteTime": {
     "end_time": "2024-11-23T16:44:56.971482Z",
     "start_time": "2024-11-23T16:44:56.958212Z"
    }
   },
   "source": [
    "# sqrt\n",
    "torch.sqrt(k)"
   ],
   "outputs": [
    {
     "data": {
      "text/plain": [
       "tensor([[1.7321, 1.7321, 2.2361],\n",
       "        [0.0000, 2.4495, 2.0000]])"
      ]
     },
     "execution_count": 57,
     "metadata": {},
     "output_type": "execute_result"
    }
   ],
   "execution_count": 57
  },
  {
   "cell_type": "code",
   "metadata": {
    "colab": {
     "base_uri": "https://localhost:8080/"
    },
    "id": "d-rbMIVPunhr",
    "outputId": "f2385db1-f18d-4795-9347-9a192896b323",
    "ExecuteTime": {
     "end_time": "2024-11-23T16:44:57.004719Z",
     "start_time": "2024-11-23T16:44:56.976500Z"
    }
   },
   "source": [
    "# sigmoid\n",
    "torch.sigmoid(k)"
   ],
   "outputs": [
    {
     "data": {
      "text/plain": [
       "tensor([[0.9526, 0.9526, 0.9933],\n",
       "        [0.5000, 0.9975, 0.9820]])"
      ]
     },
     "execution_count": 58,
     "metadata": {},
     "output_type": "execute_result"
    }
   ],
   "execution_count": 58
  },
  {
   "cell_type": "code",
   "metadata": {
    "colab": {
     "base_uri": "https://localhost:8080/"
    },
    "id": "X74chVfQusqf",
    "outputId": "537358fb-e498-43d3-85e0-69ff7dc3a03d",
    "ExecuteTime": {
     "end_time": "2024-11-23T16:44:57.027483Z",
     "start_time": "2024-11-23T16:44:57.008739Z"
    }
   },
   "source": [
    "# softmax\n",
    "torch.softmax(k, dim=0)"
   ],
   "outputs": [
    {
     "data": {
      "text/plain": [
       "tensor([[0.9526, 0.0474, 0.7311],\n",
       "        [0.0474, 0.9526, 0.2689]])"
      ]
     },
     "execution_count": 59,
     "metadata": {},
     "output_type": "execute_result"
    }
   ],
   "execution_count": 59
  },
  {
   "cell_type": "code",
   "metadata": {
    "colab": {
     "base_uri": "https://localhost:8080/"
    },
    "id": "JnLG2JbyutvC",
    "outputId": "0b701250-9a3c-4106-df3b-83dbb1a99fdb",
    "ExecuteTime": {
     "end_time": "2024-11-23T16:44:57.047371Z",
     "start_time": "2024-11-23T16:44:57.031502Z"
    }
   },
   "source": [
    "# relu\n",
    "torch.relu(k)"
   ],
   "outputs": [
    {
     "data": {
      "text/plain": [
       "tensor([[3., 3., 5.],\n",
       "        [0., 6., 4.]])"
      ]
     },
     "execution_count": 60,
     "metadata": {},
     "output_type": "execute_result"
    }
   ],
   "execution_count": 60
  },
  {
   "cell_type": "markdown",
   "metadata": {
    "id": "JQ7im-Mz9Mu9"
   },
   "source": [
    "## Inplace Operations"
   ]
  },
  {
   "cell_type": "code",
   "metadata": {
    "colab": {
     "base_uri": "https://localhost:8080/"
    },
    "id": "mKVMTBq7uufZ",
    "outputId": "c6a5acb9-e36a-48d2-a073-86d66f4a5ed0",
    "ExecuteTime": {
     "end_time": "2024-11-23T16:44:57.071352Z",
     "start_time": "2024-11-23T16:44:57.052386Z"
    }
   },
   "source": [
    "m = torch.rand(2,3)\n",
    "n = torch.rand(2,3)\n",
    "\n",
    "print(m)\n",
    "print(n)"
   ],
   "outputs": [
    {
     "name": "stdout",
     "output_type": "stream",
     "text": [
      "tensor([[0.6574, 0.3451, 0.0453],\n",
      "        [0.9798, 0.5548, 0.6868]])\n",
      "tensor([[0.4920, 0.0748, 0.9605],\n",
      "        [0.3271, 0.0103, 0.9516]])\n"
     ]
    }
   ],
   "execution_count": 61
  },
  {
   "cell_type": "code",
   "metadata": {
    "colab": {
     "base_uri": "https://localhost:8080/"
    },
    "id": "HmN2o2Ge_j8h",
    "outputId": "b3a0d2c7-4548-4d21-f788-c3b0ce21e326",
    "ExecuteTime": {
     "end_time": "2024-11-23T16:44:57.090825Z",
     "start_time": "2024-11-23T16:44:57.076373Z"
    }
   },
   "source": [
    "m.add_(n)"
   ],
   "outputs": [
    {
     "data": {
      "text/plain": [
       "tensor([[1.1494, 0.4199, 1.0058],\n",
       "        [1.3069, 0.5650, 1.6384]])"
      ]
     },
     "execution_count": 62,
     "metadata": {},
     "output_type": "execute_result"
    }
   ],
   "execution_count": 62
  },
  {
   "cell_type": "code",
   "metadata": {
    "colab": {
     "base_uri": "https://localhost:8080/"
    },
    "id": "1k8bPLhgAN64",
    "outputId": "4830bcd9-037c-4c74-dfda-28d4006f04bb",
    "ExecuteTime": {
     "end_time": "2024-11-23T16:44:57.115642Z",
     "start_time": "2024-11-23T16:44:57.094840Z"
    }
   },
   "source": [
    "m"
   ],
   "outputs": [
    {
     "data": {
      "text/plain": [
       "tensor([[1.1494, 0.4199, 1.0058],\n",
       "        [1.3069, 0.5650, 1.6384]])"
      ]
     },
     "execution_count": 63,
     "metadata": {},
     "output_type": "execute_result"
    }
   ],
   "execution_count": 63
  },
  {
   "cell_type": "code",
   "metadata": {
    "colab": {
     "base_uri": "https://localhost:8080/"
    },
    "id": "d_pBAPcGAkHW",
    "outputId": "25f54ae6-1b93-4666-d8c1-786faa209d1b",
    "ExecuteTime": {
     "end_time": "2024-11-23T16:44:57.183911Z",
     "start_time": "2024-11-23T16:44:57.120659Z"
    }
   },
   "source": [
    "n"
   ],
   "outputs": [
    {
     "data": {
      "text/plain": [
       "tensor([[0.4920, 0.0748, 0.9605],\n",
       "        [0.3271, 0.0103, 0.9516]])"
      ]
     },
     "execution_count": 64,
     "metadata": {},
     "output_type": "execute_result"
    }
   ],
   "execution_count": 64
  },
  {
   "cell_type": "code",
   "metadata": {
    "colab": {
     "base_uri": "https://localhost:8080/"
    },
    "id": "8OhePrDbAmwh",
    "outputId": "a5dbdebd-a6fc-4697-e3ad-155fcb3eec50",
    "ExecuteTime": {
     "end_time": "2024-11-23T16:44:57.204362Z",
     "start_time": "2024-11-23T16:44:57.187925Z"
    }
   },
   "source": [
    "torch.relu(m)"
   ],
   "outputs": [
    {
     "data": {
      "text/plain": [
       "tensor([[1.1494, 0.4199, 1.0058],\n",
       "        [1.3069, 0.5650, 1.6384]])"
      ]
     },
     "execution_count": 65,
     "metadata": {},
     "output_type": "execute_result"
    }
   ],
   "execution_count": 65
  },
  {
   "cell_type": "code",
   "metadata": {
    "colab": {
     "base_uri": "https://localhost:8080/"
    },
    "id": "M_s6WQ0pAuTG",
    "outputId": "5916395e-699a-46f5-ae67-0d8816c543c2",
    "ExecuteTime": {
     "end_time": "2024-11-23T16:44:57.232625Z",
     "start_time": "2024-11-23T16:44:57.208383Z"
    }
   },
   "source": [
    "m.relu_()"
   ],
   "outputs": [
    {
     "data": {
      "text/plain": [
       "tensor([[1.1494, 0.4199, 1.0058],\n",
       "        [1.3069, 0.5650, 1.6384]])"
      ]
     },
     "execution_count": 66,
     "metadata": {},
     "output_type": "execute_result"
    }
   ],
   "execution_count": 66
  },
  {
   "cell_type": "code",
   "metadata": {
    "colab": {
     "base_uri": "https://localhost:8080/"
    },
    "id": "sucQ4iPYAyqn",
    "outputId": "20105717-1b8d-4b35-cd9a-ae636835fec9",
    "ExecuteTime": {
     "end_time": "2024-11-23T16:44:57.256824Z",
     "start_time": "2024-11-23T16:44:57.237648Z"
    }
   },
   "source": [
    "m"
   ],
   "outputs": [
    {
     "data": {
      "text/plain": [
       "tensor([[1.1494, 0.4199, 1.0058],\n",
       "        [1.3069, 0.5650, 1.6384]])"
      ]
     },
     "execution_count": 67,
     "metadata": {},
     "output_type": "execute_result"
    }
   ],
   "execution_count": 67
  },
  {
   "cell_type": "markdown",
   "metadata": {
    "id": "7-SgjcqnCN9P"
   },
   "source": [
    "## Copying a Tensor"
   ]
  },
  {
   "cell_type": "code",
   "metadata": {
    "colab": {
     "base_uri": "https://localhost:8080/"
    },
    "id": "z8SCsW7kA0jt",
    "outputId": "2ac158bc-cc94-4192-e6d3-d8961b535c44",
    "ExecuteTime": {
     "end_time": "2024-11-23T16:44:57.274004Z",
     "start_time": "2024-11-23T16:44:57.260841Z"
    }
   },
   "source": [
    "a = torch.rand(2,3)\n",
    "a"
   ],
   "outputs": [
    {
     "data": {
      "text/plain": [
       "tensor([[0.2855, 0.2324, 0.9141],\n",
       "        [0.7668, 0.1659, 0.4393]])"
      ]
     },
     "execution_count": 68,
     "metadata": {},
     "output_type": "execute_result"
    }
   ],
   "execution_count": 68
  },
  {
   "cell_type": "code",
   "metadata": {
    "id": "3Z0IUCnpCsCv",
    "ExecuteTime": {
     "end_time": "2024-11-23T16:44:57.285405Z",
     "start_time": "2024-11-23T16:44:57.277021Z"
    }
   },
   "source": [
    "b = a"
   ],
   "outputs": [],
   "execution_count": 69
  },
  {
   "cell_type": "code",
   "metadata": {
    "colab": {
     "base_uri": "https://localhost:8080/"
    },
    "id": "1YNvboxaECjm",
    "outputId": "1ab9e825-7c6a-473d-acfb-f6eacc558a65",
    "ExecuteTime": {
     "end_time": "2024-11-23T16:44:57.301516Z",
     "start_time": "2024-11-23T16:44:57.288426Z"
    }
   },
   "source": [
    "b"
   ],
   "outputs": [
    {
     "data": {
      "text/plain": [
       "tensor([[0.2855, 0.2324, 0.9141],\n",
       "        [0.7668, 0.1659, 0.4393]])"
      ]
     },
     "execution_count": 70,
     "metadata": {},
     "output_type": "execute_result"
    }
   ],
   "execution_count": 70
  },
  {
   "cell_type": "code",
   "metadata": {
    "id": "waV6eAuUEDzq",
    "ExecuteTime": {
     "end_time": "2024-11-23T16:44:57.313869Z",
     "start_time": "2024-11-23T16:44:57.305532Z"
    }
   },
   "source": [
    "a[0][0] = 0"
   ],
   "outputs": [],
   "execution_count": 71
  },
  {
   "cell_type": "code",
   "metadata": {
    "colab": {
     "base_uri": "https://localhost:8080/"
    },
    "id": "U7u-UDXpEIgJ",
    "outputId": "695c1f5b-8c54-4666-8661-8cee12e944ad",
    "ExecuteTime": {
     "end_time": "2024-11-23T16:44:57.337255Z",
     "start_time": "2024-11-23T16:44:57.317893Z"
    }
   },
   "source": [
    "a"
   ],
   "outputs": [
    {
     "data": {
      "text/plain": [
       "tensor([[0.0000, 0.2324, 0.9141],\n",
       "        [0.7668, 0.1659, 0.4393]])"
      ]
     },
     "execution_count": 72,
     "metadata": {},
     "output_type": "execute_result"
    }
   ],
   "execution_count": 72
  },
  {
   "cell_type": "code",
   "metadata": {
    "colab": {
     "base_uri": "https://localhost:8080/"
    },
    "id": "-4tihkNkEJW3",
    "outputId": "67e65d46-0311-4fcd-a8ae-d02ba07825e1",
    "ExecuteTime": {
     "end_time": "2024-11-23T16:44:57.351449Z",
     "start_time": "2024-11-23T16:44:57.340268Z"
    }
   },
   "source": [
    "b"
   ],
   "outputs": [
    {
     "data": {
      "text/plain": [
       "tensor([[0.0000, 0.2324, 0.9141],\n",
       "        [0.7668, 0.1659, 0.4393]])"
      ]
     },
     "execution_count": 73,
     "metadata": {},
     "output_type": "execute_result"
    }
   ],
   "execution_count": 73
  },
  {
   "cell_type": "code",
   "metadata": {
    "colab": {
     "base_uri": "https://localhost:8080/"
    },
    "id": "m8D9GAChEL7E",
    "outputId": "05564690-a3f0-40e5-b10e-ea15e86d0f6d",
    "ExecuteTime": {
     "end_time": "2024-11-23T16:44:57.364142Z",
     "start_time": "2024-11-23T16:44:57.354466Z"
    }
   },
   "source": [
    "id(a)"
   ],
   "outputs": [
    {
     "data": {
      "text/plain": [
       "2655840504240"
      ]
     },
     "execution_count": 74,
     "metadata": {},
     "output_type": "execute_result"
    }
   ],
   "execution_count": 74
  },
  {
   "cell_type": "code",
   "metadata": {
    "colab": {
     "base_uri": "https://localhost:8080/"
    },
    "id": "vLh7o5KUEVJS",
    "outputId": "cdaee129-3f66-4e66-99f9-bd71e94747e6",
    "ExecuteTime": {
     "end_time": "2024-11-23T16:44:57.377531Z",
     "start_time": "2024-11-23T16:44:57.367160Z"
    }
   },
   "source": [
    "id(b)"
   ],
   "outputs": [
    {
     "data": {
      "text/plain": [
       "2655840504240"
      ]
     },
     "execution_count": 75,
     "metadata": {},
     "output_type": "execute_result"
    }
   ],
   "execution_count": 75
  },
  {
   "cell_type": "code",
   "metadata": {
    "id": "KWDEt8h8EW2i",
    "ExecuteTime": {
     "end_time": "2024-11-23T16:44:57.387027Z",
     "start_time": "2024-11-23T16:44:57.380546Z"
    }
   },
   "source": [
    "b = a.clone()"
   ],
   "outputs": [],
   "execution_count": 76
  },
  {
   "cell_type": "code",
   "metadata": {
    "colab": {
     "base_uri": "https://localhost:8080/"
    },
    "id": "ndhb6dktEcov",
    "outputId": "8b67e4f5-4f27-4006-f480-a81935c71eff",
    "ExecuteTime": {
     "end_time": "2024-11-23T16:44:57.408265Z",
     "start_time": "2024-11-23T16:44:57.390042Z"
    }
   },
   "source": [
    "a"
   ],
   "outputs": [
    {
     "data": {
      "text/plain": [
       "tensor([[0.0000, 0.2324, 0.9141],\n",
       "        [0.7668, 0.1659, 0.4393]])"
      ]
     },
     "execution_count": 77,
     "metadata": {},
     "output_type": "execute_result"
    }
   ],
   "execution_count": 77
  },
  {
   "cell_type": "code",
   "metadata": {
    "colab": {
     "base_uri": "https://localhost:8080/"
    },
    "id": "M1MgVSoXEd2E",
    "outputId": "ded643e6-0fbd-4e08-8eab-17cb615f0760",
    "ExecuteTime": {
     "end_time": "2024-11-23T16:44:57.436110Z",
     "start_time": "2024-11-23T16:44:57.424285Z"
    }
   },
   "source": [
    "b"
   ],
   "outputs": [
    {
     "data": {
      "text/plain": [
       "tensor([[0.0000, 0.2324, 0.9141],\n",
       "        [0.7668, 0.1659, 0.4393]])"
      ]
     },
     "execution_count": 78,
     "metadata": {},
     "output_type": "execute_result"
    }
   ],
   "execution_count": 78
  },
  {
   "cell_type": "code",
   "metadata": {
    "id": "LGxrfDtTEeVI",
    "ExecuteTime": {
     "end_time": "2024-11-23T16:44:58.363036Z",
     "start_time": "2024-11-23T16:44:58.355701Z"
    }
   },
   "source": [
    "a[0][0] = 10"
   ],
   "outputs": [],
   "execution_count": 79
  },
  {
   "cell_type": "code",
   "metadata": {
    "colab": {
     "base_uri": "https://localhost:8080/"
    },
    "id": "KoGwR1k2Eg_1",
    "outputId": "475a5f95-b557-430e-ef59-d1cd291681c4",
    "ExecuteTime": {
     "end_time": "2024-11-23T16:45:02.244890Z",
     "start_time": "2024-11-23T16:45:02.230640Z"
    }
   },
   "source": [
    "a"
   ],
   "outputs": [
    {
     "data": {
      "text/plain": [
       "tensor([[10.0000,  0.2324,  0.9141],\n",
       "        [ 0.7668,  0.1659,  0.4393]])"
      ]
     },
     "execution_count": 80,
     "metadata": {},
     "output_type": "execute_result"
    }
   ],
   "execution_count": 80
  },
  {
   "cell_type": "code",
   "metadata": {
    "colab": {
     "base_uri": "https://localhost:8080/"
    },
    "id": "hnmU7qDXEh_R",
    "outputId": "1478ea99-7c87-41a6-d07b-0d23413377e3",
    "ExecuteTime": {
     "end_time": "2024-11-23T16:45:04.699345Z",
     "start_time": "2024-11-23T16:45:04.687602Z"
    }
   },
   "source": [
    "b"
   ],
   "outputs": [
    {
     "data": {
      "text/plain": [
       "tensor([[0.0000, 0.2324, 0.9141],\n",
       "        [0.7668, 0.1659, 0.4393]])"
      ]
     },
     "execution_count": 81,
     "metadata": {},
     "output_type": "execute_result"
    }
   ],
   "execution_count": 81
  },
  {
   "cell_type": "code",
   "metadata": {
    "colab": {
     "base_uri": "https://localhost:8080/"
    },
    "id": "5cy76FS5EjIz",
    "outputId": "e126f2c9-5358-476b-e8e5-d58965cfe473",
    "ExecuteTime": {
     "end_time": "2024-11-23T16:45:04.934040Z",
     "start_time": "2024-11-23T16:45:04.925362Z"
    }
   },
   "source": [
    "id(a)"
   ],
   "outputs": [
    {
     "data": {
      "text/plain": [
       "2655840504240"
      ]
     },
     "execution_count": 82,
     "metadata": {},
     "output_type": "execute_result"
    }
   ],
   "execution_count": 82
  },
  {
   "cell_type": "code",
   "metadata": {
    "colab": {
     "base_uri": "https://localhost:8080/"
    },
    "id": "jmBkTNQ8EmP1",
    "outputId": "8b3b68cd-670a-4646-fdc9-9bd9ede2a3d6",
    "ExecuteTime": {
     "end_time": "2024-11-23T16:45:05.253363Z",
     "start_time": "2024-11-23T16:45:05.243253Z"
    }
   },
   "source": [
    "id(b)"
   ],
   "outputs": [
    {
     "data": {
      "text/plain": [
       "2655840408336"
      ]
     },
     "execution_count": 83,
     "metadata": {},
     "output_type": "execute_result"
    }
   ],
   "execution_count": 83
  },
  {
   "cell_type": "code",
   "metadata": {
    "id": "W1SwQS8jEnW2",
    "ExecuteTime": {
     "end_time": "2024-11-23T16:45:05.444775Z",
     "start_time": "2024-11-23T16:45:05.439977Z"
    }
   },
   "source": [],
   "outputs": [],
   "execution_count": 83
  },
  {
   "cell_type": "markdown",
   "metadata": {},
   "source": [
    "# Tensor Operations on GPU"
   ]
  },
  {
   "cell_type": "code",
   "metadata": {
    "ExecuteTime": {
     "end_time": "2024-11-23T16:45:05.790124Z",
     "start_time": "2024-11-23T16:45:05.781866Z"
    }
   },
   "source": [
    "torch.cuda.is_available()"
   ],
   "outputs": [
    {
     "data": {
      "text/plain": [
       "True"
      ]
     },
     "execution_count": 84,
     "metadata": {},
     "output_type": "execute_result"
    }
   ],
   "execution_count": 84
  },
  {
   "cell_type": "code",
   "metadata": {
    "ExecuteTime": {
     "end_time": "2024-11-23T16:45:05.965594Z",
     "start_time": "2024-11-23T16:45:05.955895Z"
    }
   },
   "source": [
    "gpu = torch.device('cuda')\n",
    "gpu"
   ],
   "outputs": [
    {
     "data": {
      "text/plain": [
       "device(type='cuda')"
      ]
     },
     "execution_count": 85,
     "metadata": {},
     "output_type": "execute_result"
    }
   ],
   "execution_count": 85
  },
  {
   "cell_type": "code",
   "metadata": {
    "ExecuteTime": {
     "end_time": "2024-11-23T16:45:06.188002Z",
     "start_time": "2024-11-23T16:45:06.180007Z"
    }
   },
   "source": [
    "t1 = torch.rand(2,3)  #cpu"
   ],
   "outputs": [],
   "execution_count": 86
  },
  {
   "cell_type": "code",
   "metadata": {
    "ExecuteTime": {
     "end_time": "2024-11-23T16:45:08.146680Z",
     "start_time": "2024-11-23T16:45:06.405429Z"
    }
   },
   "source": [
    "# torch.rand((2,3), device=gpu) #same\n",
    "t2 = torch.rand(2,3, device=gpu)\n",
    "t2"
   ],
   "outputs": [
    {
     "data": {
      "text/plain": [
       "tensor([[0.3563, 0.0303, 0.7088],\n",
       "        [0.2009, 0.0224, 0.9896]], device='cuda:0')"
      ]
     },
     "execution_count": 87,
     "metadata": {},
     "output_type": "execute_result"
    }
   ],
   "execution_count": 87
  },
  {
   "cell_type": "code",
   "metadata": {
    "ExecuteTime": {
     "end_time": "2024-11-23T16:45:08.166734Z",
     "start_time": "2024-11-23T16:45:08.151700Z"
    }
   },
   "source": [
    "t3 = t1.to(gpu)  #copy from cpu to gpu, not inplace\n",
    "t1, t3"
   ],
   "outputs": [
    {
     "data": {
      "text/plain": [
       "(tensor([[0.2243, 0.8935, 0.0497],\n",
       "         [0.1780, 0.3011, 0.1893]]),\n",
       " tensor([[0.2243, 0.8935, 0.0497],\n",
       "         [0.1780, 0.3011, 0.1893]], device='cuda:0'))"
      ]
     },
     "execution_count": 88,
     "metadata": {},
     "output_type": "execute_result"
    }
   ],
   "execution_count": 88
  },
  {
   "cell_type": "markdown",
   "metadata": {},
   "source": [
    "### Speed comparison"
   ]
  },
  {
   "cell_type": "code",
   "metadata": {
    "ExecuteTime": {
     "end_time": "2024-11-23T16:46:08.404871Z",
     "start_time": "2024-11-23T16:45:08.170756Z"
    }
   },
   "source": [
    "import time\n",
    "\n",
    "size = 10000 # Large size for performance comparison\n",
    "\n",
    "# Create random matrices on CPU\n",
    "\n",
    "matrix_cpu1 = torch.randn(size, size)\n",
    "matrix_cpu2 = torch.randn(size, size)\n",
    "\n",
    "# Perform matrix multiplication\n",
    "start_time = time.time()\n",
    "result_cpu = torch.matmul(matrix_cpu1, matrix_cpu2) # \"Matrix multiplication on CPU\n",
    "cpu_time = time.time() - start_time\n",
    "\n",
    "# Measure time on CPU\n",
    "print(f\"Time on CPU: {cpu_time:.4f} seconds\")\n",
    "\n",
    "# Check if GPU/CUDA is available\n",
    "if torch.cuda.is_available():\n",
    "    # Move matrices to GPU\n",
    "    matrix_gpu1 = matrix_cpu1.to('cuda')\n",
    "    matrix_gpu2 = matrix_cpu2.to('cuda')\n",
    "\n",
    "    # Measure time on GPU\n",
    "    start_time = time.time()\n",
    "    result_gpu = torch.matmul(matrix_gpu1, matrix_gpu2)\n",
    "    \n",
    "    # Synchronize to ensure all GPU operations are complete and calculate time\n",
    "    torch.cuda.synchronize()\n",
    "    gpu_time = time.time() - start_time\n",
    "\n",
    "    print(f\"Time taken on GPU: {gpu_time:.4f} seconds\")\n",
    "    print(f'Performance gain: {round(cpu_time / gpu_time)}')\n",
    "else:\n",
    "    print(\"CUDA is not available. GPU computation cannot be performed.\")"
   ],
   "outputs": [
    {
     "name": "stdout",
     "output_type": "stream",
     "text": [
      "Time on CPU: 53.5987 seconds\n",
      "Time taken on GPU: 2.9653 seconds\n",
      "Performance gain: 18\n"
     ]
    }
   ],
   "execution_count": 89
  },
  {
   "cell_type": "code",
   "metadata": {
    "ExecuteTime": {
     "end_time": "2024-11-23T16:46:08.416036Z",
     "start_time": "2024-11-23T16:46:08.408894Z"
    }
   },
   "source": [],
   "outputs": [],
   "execution_count": 89
  },
  {
   "cell_type": "markdown",
   "metadata": {},
   "source": [
    "# Reshaping Tensors (not inplace)"
   ]
  },
  {
   "cell_type": "code",
   "metadata": {
    "ExecuteTime": {
     "end_time": "2024-11-23T16:46:08.443267Z",
     "start_time": "2024-11-23T16:46:08.427060Z"
    }
   },
   "source": [
    "a = torch.ones(4,6)\n",
    "a"
   ],
   "outputs": [
    {
     "data": {
      "text/plain": [
       "tensor([[1., 1., 1., 1., 1., 1.],\n",
       "        [1., 1., 1., 1., 1., 1.],\n",
       "        [1., 1., 1., 1., 1., 1.],\n",
       "        [1., 1., 1., 1., 1., 1.]])"
      ]
     },
     "execution_count": 90,
     "metadata": {},
     "output_type": "execute_result"
    }
   ],
   "execution_count": 90
  },
  {
   "cell_type": "code",
   "metadata": {
    "ExecuteTime": {
     "end_time": "2024-11-23T16:46:08.572622Z",
     "start_time": "2024-11-23T16:46:08.447291Z"
    }
   },
   "source": [
    "a.reshape(2,6,2)"
   ],
   "outputs": [
    {
     "data": {
      "text/plain": [
       "tensor([[[1., 1.],\n",
       "         [1., 1.],\n",
       "         [1., 1.],\n",
       "         [1., 1.],\n",
       "         [1., 1.],\n",
       "         [1., 1.]],\n",
       "\n",
       "        [[1., 1.],\n",
       "         [1., 1.],\n",
       "         [1., 1.],\n",
       "         [1., 1.],\n",
       "         [1., 1.],\n",
       "         [1., 1.]]])"
      ]
     },
     "execution_count": 91,
     "metadata": {},
     "output_type": "execute_result"
    }
   ],
   "execution_count": 91
  },
  {
   "cell_type": "code",
   "metadata": {
    "ExecuteTime": {
     "end_time": "2024-11-23T16:46:08.592848Z",
     "start_time": "2024-11-23T16:46:08.575642Z"
    }
   },
   "source": [
    "a.reshape(-1,3)"
   ],
   "outputs": [
    {
     "data": {
      "text/plain": [
       "tensor([[1., 1., 1.],\n",
       "        [1., 1., 1.],\n",
       "        [1., 1., 1.],\n",
       "        [1., 1., 1.],\n",
       "        [1., 1., 1.],\n",
       "        [1., 1., 1.],\n",
       "        [1., 1., 1.],\n",
       "        [1., 1., 1.]])"
      ]
     },
     "execution_count": 92,
     "metadata": {},
     "output_type": "execute_result"
    }
   ],
   "execution_count": 92
  },
  {
   "cell_type": "code",
   "metadata": {
    "ExecuteTime": {
     "end_time": "2024-11-23T16:46:08.626081Z",
     "start_time": "2024-11-23T16:46:08.595865Z"
    }
   },
   "source": [
    "a.reshape(1,-1) #same as (1,24)"
   ],
   "outputs": [
    {
     "data": {
      "text/plain": [
       "tensor([[1., 1., 1., 1., 1., 1., 1., 1., 1., 1., 1., 1., 1., 1., 1., 1., 1., 1.,\n",
       "         1., 1., 1., 1., 1., 1.]])"
      ]
     },
     "execution_count": 93,
     "metadata": {},
     "output_type": "execute_result"
    }
   ],
   "execution_count": 93
  },
  {
   "cell_type": "code",
   "metadata": {
    "ExecuteTime": {
     "end_time": "2024-11-23T16:46:08.651169Z",
     "start_time": "2024-11-23T16:46:08.629099Z"
    }
   },
   "source": [
    "# Flatten - 1D tensor\n",
    "a.flatten()"
   ],
   "outputs": [
    {
     "data": {
      "text/plain": [
       "tensor([1., 1., 1., 1., 1., 1., 1., 1., 1., 1., 1., 1., 1., 1., 1., 1., 1., 1.,\n",
       "        1., 1., 1., 1., 1., 1.])"
      ]
     },
     "execution_count": 94,
     "metadata": {},
     "output_type": "execute_result"
    }
   ],
   "execution_count": 94
  },
  {
   "cell_type": "code",
   "metadata": {
    "ExecuteTime": {
     "end_time": "2024-11-23T16:46:08.672247Z",
     "start_time": "2024-11-23T16:46:08.654193Z"
    }
   },
   "source": [
    "b = torch.randint(low=1,high=100,size=(2,3,4))\n",
    "b"
   ],
   "outputs": [
    {
     "data": {
      "text/plain": [
       "tensor([[[69, 85, 53, 61],\n",
       "         [36, 55,  1, 96],\n",
       "         [24, 93, 24, 45]],\n",
       "\n",
       "        [[86, 31, 76, 27],\n",
       "         [71, 44, 39,  6],\n",
       "         [97, 95, 26, 11]]])"
      ]
     },
     "execution_count": 95,
     "metadata": {},
     "output_type": "execute_result"
    }
   ],
   "execution_count": 95
  },
  {
   "cell_type": "code",
   "metadata": {
    "ExecuteTime": {
     "end_time": "2024-11-23T16:46:08.705698Z",
     "start_time": "2024-11-23T16:46:08.675264Z"
    }
   },
   "source": [
    "b.permute(2,0,1)"
   ],
   "outputs": [
    {
     "data": {
      "text/plain": [
       "tensor([[[69, 36, 24],\n",
       "         [86, 71, 97]],\n",
       "\n",
       "        [[85, 55, 93],\n",
       "         [31, 44, 95]],\n",
       "\n",
       "        [[53,  1, 24],\n",
       "         [76, 39, 26]],\n",
       "\n",
       "        [[61, 96, 45],\n",
       "         [27,  6, 11]]])"
      ]
     },
     "execution_count": 96,
     "metadata": {},
     "output_type": "execute_result"
    }
   ],
   "execution_count": 96
  },
  {
   "cell_type": "code",
   "metadata": {
    "ExecuteTime": {
     "end_time": "2024-11-23T16:46:08.727473Z",
     "start_time": "2024-11-23T16:46:08.709717Z"
    }
   },
   "source": [
    "b.permute(2,0,1).shape"
   ],
   "outputs": [
    {
     "data": {
      "text/plain": [
       "torch.Size([4, 2, 3])"
      ]
     },
     "execution_count": 97,
     "metadata": {},
     "output_type": "execute_result"
    }
   ],
   "execution_count": 97
  },
  {
   "cell_type": "code",
   "metadata": {
    "ExecuteTime": {
     "end_time": "2024-11-23T16:46:08.744774Z",
     "start_time": "2024-11-23T16:46:08.734487Z"
    }
   },
   "source": [
    "# Unsqueze -  dimension of size one inserted at the specified position.\n",
    "c = torch.rand(226,226,3)  # Typical image size"
   ],
   "outputs": [],
   "execution_count": 98
  },
  {
   "cell_type": "code",
   "metadata": {
    "scrolled": true,
    "ExecuteTime": {
     "end_time": "2024-11-23T16:46:08.804454Z",
     "start_time": "2024-11-23T16:46:08.756798Z"
    }
   },
   "source": [
    "c.unsqueeze(dim=0)"
   ],
   "outputs": [
    {
     "data": {
      "text/plain": [
       "tensor([[[[0.2861, 0.7459, 0.8487],\n",
       "          [0.4059, 0.2883, 0.2220],\n",
       "          [0.6423, 0.7098, 0.5644],\n",
       "          ...,\n",
       "          [0.8170, 0.3172, 0.4378],\n",
       "          [0.8047, 0.3651, 0.0630],\n",
       "          [0.9183, 0.0861, 0.9756]],\n",
       "\n",
       "         [[0.1175, 0.9696, 0.4014],\n",
       "          [0.8289, 0.4343, 0.8286],\n",
       "          [0.0097, 0.4689, 0.7481],\n",
       "          ...,\n",
       "          [0.7167, 0.5256, 0.8594],\n",
       "          [0.4732, 0.2077, 0.9188],\n",
       "          [0.7575, 0.8535, 0.5775]],\n",
       "\n",
       "         [[0.4705, 0.8696, 0.3757],\n",
       "          [0.1533, 0.9881, 0.4648],\n",
       "          [0.2386, 0.8656, 0.7935],\n",
       "          ...,\n",
       "          [0.3768, 0.3613, 0.7167],\n",
       "          [0.4770, 0.0998, 0.2141],\n",
       "          [0.5962, 0.9068, 0.1834]],\n",
       "\n",
       "         ...,\n",
       "\n",
       "         [[0.5488, 0.2471, 0.2906],\n",
       "          [0.5791, 0.2177, 0.4913],\n",
       "          [0.5510, 0.8402, 0.1218],\n",
       "          ...,\n",
       "          [0.6777, 0.8650, 0.1008],\n",
       "          [0.8294, 0.1528, 0.3117],\n",
       "          [0.8750, 0.2646, 0.5109]],\n",
       "\n",
       "         [[0.0817, 0.7453, 0.4627],\n",
       "          [0.4627, 0.2822, 0.9050],\n",
       "          [0.8155, 0.4537, 0.5552],\n",
       "          ...,\n",
       "          [0.0899, 0.6805, 0.8849],\n",
       "          [0.7868, 0.7525, 0.2504],\n",
       "          [0.8857, 0.4981, 0.7767]],\n",
       "\n",
       "         [[0.5196, 0.6008, 0.4422],\n",
       "          [0.3388, 0.7638, 0.2167],\n",
       "          [0.2735, 0.4201, 0.1081],\n",
       "          ...,\n",
       "          [0.3284, 0.6639, 0.4576],\n",
       "          [0.9338, 0.5387, 0.2537],\n",
       "          [0.9280, 0.7146, 0.1037]]]])"
      ]
     },
     "execution_count": 99,
     "metadata": {},
     "output_type": "execute_result"
    }
   ],
   "execution_count": 99
  },
  {
   "cell_type": "code",
   "metadata": {
    "scrolled": true,
    "ExecuteTime": {
     "end_time": "2024-11-23T16:46:08.819792Z",
     "start_time": "2024-11-23T16:46:08.808469Z"
    }
   },
   "source": [
    "c.unsqueeze(dim=2).shape"
   ],
   "outputs": [
    {
     "data": {
      "text/plain": [
       "torch.Size([226, 226, 1, 3])"
      ]
     },
     "execution_count": 100,
     "metadata": {},
     "output_type": "execute_result"
    }
   ],
   "execution_count": 100
  },
  {
   "cell_type": "code",
   "metadata": {
    "ExecuteTime": {
     "end_time": "2024-11-23T16:46:08.842356Z",
     "start_time": "2024-11-23T16:46:08.825810Z"
    }
   },
   "source": [
    "# Squeeze\n",
    "d = torch.rand(1,20)\n",
    "d"
   ],
   "outputs": [
    {
     "data": {
      "text/plain": [
       "tensor([[0.6899, 0.9883, 0.2160, 0.4054, 0.5001, 0.2665, 0.4164, 0.0810, 0.5344,\n",
       "         0.3673, 0.9286, 0.0528, 0.3753, 0.2057, 0.5643, 0.4419, 0.5215, 0.6743,\n",
       "         0.0401, 0.7158]])"
      ]
     },
     "execution_count": 101,
     "metadata": {},
     "output_type": "execute_result"
    }
   ],
   "execution_count": 101
  },
  {
   "cell_type": "code",
   "metadata": {
    "ExecuteTime": {
     "end_time": "2024-11-23T16:46:08.866696Z",
     "start_time": "2024-11-23T16:46:08.847375Z"
    }
   },
   "source": [
    "# d.squeeze(1) #Same as d\n",
    "d.squeeze(0)"
   ],
   "outputs": [
    {
     "data": {
      "text/plain": [
       "tensor([0.6899, 0.9883, 0.2160, 0.4054, 0.5001, 0.2665, 0.4164, 0.0810, 0.5344,\n",
       "        0.3673, 0.9286, 0.0528, 0.3753, 0.2057, 0.5643, 0.4419, 0.5215, 0.6743,\n",
       "        0.0401, 0.7158])"
      ]
     },
     "execution_count": 102,
     "metadata": {},
     "output_type": "execute_result"
    }
   ],
   "execution_count": 102
  },
  {
   "cell_type": "code",
   "metadata": {
    "ExecuteTime": {
     "end_time": "2024-11-23T16:46:08.877951Z",
     "start_time": "2024-11-23T16:46:08.871717Z"
    }
   },
   "source": [],
   "outputs": [],
   "execution_count": 102
  },
  {
   "cell_type": "markdown",
   "metadata": {},
   "source": [
    "# Numpy <--> Tensor"
   ]
  },
  {
   "cell_type": "code",
   "metadata": {
    "ExecuteTime": {
     "end_time": "2024-11-23T16:46:08.889900Z",
     "start_time": "2024-11-23T16:46:08.881970Z"
    }
   },
   "source": [
    "import numpy as np"
   ],
   "outputs": [],
   "execution_count": 103
  },
  {
   "cell_type": "code",
   "metadata": {
    "ExecuteTime": {
     "end_time": "2024-11-23T16:46:08.916804Z",
     "start_time": "2024-11-23T16:46:08.893917Z"
    }
   },
   "source": [
    "t = torch.tensor([5,4,42])\n",
    "t , type(t)"
   ],
   "outputs": [
    {
     "data": {
      "text/plain": [
       "(tensor([ 5,  4, 42]), torch.Tensor)"
      ]
     },
     "execution_count": 104,
     "metadata": {},
     "output_type": "execute_result"
    }
   ],
   "execution_count": 104
  },
  {
   "cell_type": "code",
   "metadata": {
    "ExecuteTime": {
     "end_time": "2024-11-23T16:46:08.941171Z",
     "start_time": "2024-11-23T16:46:08.919824Z"
    }
   },
   "source": [
    "arr = t.numpy()\n",
    "arr , type(arr)"
   ],
   "outputs": [
    {
     "data": {
      "text/plain": [
       "(array([ 5,  4, 42], dtype=int64), numpy.ndarray)"
      ]
     },
     "execution_count": 105,
     "metadata": {},
     "output_type": "execute_result"
    }
   ],
   "execution_count": 105
  },
  {
   "cell_type": "code",
   "metadata": {
    "ExecuteTime": {
     "end_time": "2024-11-23T16:46:08.963141Z",
     "start_time": "2024-11-23T16:46:08.946195Z"
    }
   },
   "source": [
    "a = np.random.randint(1,100,(5,2))\n",
    "a"
   ],
   "outputs": [
    {
     "data": {
      "text/plain": [
       "array([[79,  4],\n",
       "       [30, 62],\n",
       "       [46, 24],\n",
       "       [97, 56],\n",
       "       [38, 21]])"
      ]
     },
     "execution_count": 106,
     "metadata": {},
     "output_type": "execute_result"
    }
   ],
   "execution_count": 106
  },
  {
   "cell_type": "code",
   "metadata": {
    "ExecuteTime": {
     "end_time": "2024-11-23T16:46:08.987283Z",
     "start_time": "2024-11-23T16:46:08.967154Z"
    }
   },
   "source": [
    "torch.from_numpy(a) "
   ],
   "outputs": [
    {
     "data": {
      "text/plain": [
       "tensor([[79,  4],\n",
       "        [30, 62],\n",
       "        [46, 24],\n",
       "        [97, 56],\n",
       "        [38, 21]], dtype=torch.int32)"
      ]
     },
     "execution_count": 107,
     "metadata": {},
     "output_type": "execute_result"
    }
   ],
   "execution_count": 107
  },
  {
   "cell_type": "code",
   "metadata": {
    "ExecuteTime": {
     "end_time": "2024-11-23T16:46:08.997795Z",
     "start_time": "2024-11-23T16:46:08.992312Z"
    }
   },
   "source": [],
   "outputs": [],
   "execution_count": 107
  }
 ],
 "metadata": {
  "accelerator": "GPU",
  "colab": {
   "gpuType": "T4",
   "provenance": []
  },
  "kernelspec": {
   "display_name": "Python 3 (ipykernel)",
   "language": "python",
   "name": "python3"
  },
  "language_info": {
   "codemirror_mode": {
    "name": "ipython",
    "version": 3
   },
   "file_extension": ".py",
   "mimetype": "text/x-python",
   "name": "python",
   "nbconvert_exporter": "python",
   "pygments_lexer": "ipython3",
   "version": "3.12.7"
  }
 },
 "nbformat": 4,
 "nbformat_minor": 4
}
