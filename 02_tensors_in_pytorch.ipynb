{
 "cells": [
  {
   "cell_type": "code",
   "metadata": {
    "colab": {
     "base_uri": "https://localhost:8080/"
    },
    "id": "t19_gq09KjvE",
    "outputId": "f3c00de5-e894-4780-dabe-a1f6287d42c0"
   },
   "source": [
    "import torch\n",
    "print(torch.__version__)"
   ],
   "outputs": [],
   "execution_count": null
  },
  {
   "cell_type": "code",
   "metadata": {
    "colab": {
     "base_uri": "https://localhost:8080/"
    },
    "id": "W8o-1cUl4M2x",
    "outputId": "3183bc2e-ff70-4138-8621-0dc498703a41"
   },
   "source": [
    "if torch.cuda.is_available():\n",
    "    print(\"GPU is available! Using GPU:\")\n",
    "    print(torch.cuda.get_device_name(0))\n",
    "    # print(f\"Using GPU: {torch.cuda.get_device_name(0)}\")\n",
    "else:\n",
    "    print(\"GPU not available. Using CPU.\")"
   ],
   "outputs": [],
   "execution_count": null
  },
  {
   "cell_type": "markdown",
   "metadata": {
    "id": "BFcs4wpz4wlA"
   },
   "source": [
    "## Creating a Tensor"
   ]
  },
  {
   "cell_type": "code",
   "metadata": {
    "id": "AYzOQK7n4nNq"
   },
   "source": [
    "# using empty\n",
    "a = torch.empty(2,3)\n",
    "a\n",
    "# a[0,1] # OR\n",
    "# a[1][2]"
   ],
   "outputs": [],
   "execution_count": null
  },
  {
   "cell_type": "code",
   "metadata": {
    "colab": {
     "base_uri": "https://localhost:8080/"
    },
    "editable": true,
    "id": "cSOoTAZY5FR1",
    "outputId": "07fc1fa4-d390-4afa-e0a6-52192ef22d2e",
    "slideshow": {
     "slide_type": ""
    },
    "tags": []
   },
   "source": [
    "# check type\n",
    "type(a)"
   ],
   "outputs": [],
   "execution_count": null
  },
  {
   "cell_type": "code",
   "metadata": {},
   "source": [
    "# using ones\n",
    "one = torch.ones(1)\n",
    "one"
   ],
   "outputs": [],
   "execution_count": null
  },
  {
   "cell_type": "code",
   "metadata": {},
   "source": [
    "one.item()"
   ],
   "outputs": [],
   "execution_count": null
  },
  {
   "cell_type": "code",
   "metadata": {
    "colab": {
     "base_uri": "https://localhost:8080/"
    },
    "id": "LxVQPOVN47Dt",
    "outputId": "1c819177-0861-4deb-f1ad-3024087bc36f"
   },
   "source": [
    "# using zeros\n",
    "torch.zeros(2,3)"
   ],
   "outputs": [],
   "execution_count": null
  },
  {
   "cell_type": "code",
   "metadata": {},
   "source": [
    "torch.eye(3)"
   ],
   "outputs": [],
   "execution_count": null
  },
  {
   "cell_type": "code",
   "metadata": {
    "colab": {
     "base_uri": "https://localhost:8080/"
    },
    "id": "U_j_mRGK4-DA",
    "outputId": "a28018f3-8809-475e-b551-faeb8c3a7e2a"
   },
   "source": [
    "# using rand\n",
    "torch.rand(size = (2,3))"
   ],
   "outputs": [],
   "execution_count": null
  },
  {
   "cell_type": "code",
   "metadata": {
    "colab": {
     "base_uri": "https://localhost:8080/"
    },
    "id": "lCAf-HRw5SiA",
    "outputId": "8fa32588-5c5d-458a-c953-4a98264d5d63"
   },
   "source": [
    "# use of seed\n",
    "torch.rand(2,3)"
   ],
   "outputs": [],
   "execution_count": null
  },
  {
   "cell_type": "code",
   "metadata": {
    "colab": {
     "base_uri": "https://localhost:8080/"
    },
    "id": "DvAqsoFG5UMr",
    "outputId": "c010cd7a-e710-4553-f269-c3b5436015d3"
   },
   "source": [
    "# manual_seed\n",
    "torch.manual_seed(100)\n",
    "torch.rand(2,3)"
   ],
   "outputs": [],
   "execution_count": null
  },
  {
   "cell_type": "code",
   "metadata": {
    "colab": {
     "base_uri": "https://localhost:8080/"
    },
    "id": "96Akgtgs5Ulp",
    "outputId": "918a84e0-d881-4dbe-b116-15bef55a0321"
   },
   "source": [
    "torch.manual_seed(100) # everytime use this\n",
    "torch.rand(2,3)"
   ],
   "outputs": [],
   "execution_count": null
  },
  {
   "cell_type": "code",
   "metadata": {
    "colab": {
     "base_uri": "https://localhost:8080/"
    },
    "id": "nLj35yxr6Qgv",
    "outputId": "8a90e160-be7a-4463-a812-a3b496ce9190"
   },
   "source": [
    "# other ways\n",
    "\n",
    "# arange\n",
    "print(\"using arange ->\", torch.arange(0,10,2))\n",
    "\n",
    "# using linspace\n",
    "print(\"using linspace ->\", torch.linspace(0,10,10))\n",
    "\n",
    "# using eye\n",
    "print(\"using eye ->\", torch.eye(n=5)) #m = no of cols\n",
    "\n",
    "# using full\n",
    "print(\"using full ->\", torch.full(size=(3, 3), fill_value=5))"
   ],
   "outputs": [],
   "execution_count": null
  },
  {
   "cell_type": "markdown",
   "metadata": {
    "id": "0ejaUWSkinz0"
   },
   "source": [
    "## Tensor Shapes"
   ]
  },
  {
   "cell_type": "code",
   "metadata": {
    "colab": {
     "base_uri": "https://localhost:8080/"
    },
    "id": "HDrr5mQ86R4K",
    "outputId": "c5b8808e-a87d-41d1-8372-f21955072091"
   },
   "source": [
    "x = torch.tensor([[1,2,3],[4,5,6]])\n",
    "x"
   ],
   "outputs": [],
   "execution_count": null
  },
  {
   "cell_type": "code",
   "metadata": {
    "colab": {
     "base_uri": "https://localhost:8080/"
    },
    "id": "xGZhrLablBq-",
    "outputId": "6e610739-d8c8-4b41-9039-81a269f093ab"
   },
   "source": [
    "x.shape"
   ],
   "outputs": [],
   "execution_count": null
  },
  {
   "cell_type": "code",
   "metadata": {
    "colab": {
     "base_uri": "https://localhost:8080/"
    },
    "id": "NEQW9QhmlKXA",
    "outputId": "422963c4-f30d-4086-d05b-51633fa2c5ae"
   },
   "source": [
    "# same shape as `x`, values can be anything\n",
    "torch.empty_like(input = x)"
   ],
   "outputs": [],
   "execution_count": null
  },
  {
   "cell_type": "code",
   "metadata": {
    "colab": {
     "base_uri": "https://localhost:8080/"
    },
    "id": "PyyKSNHTlXMU",
    "outputId": "0f7c81c3-e660-45ff-e019-1a6fa0243429"
   },
   "source": [
    "torch.zeros_like(x)"
   ],
   "outputs": [],
   "execution_count": null
  },
  {
   "cell_type": "code",
   "metadata": {
    "colab": {
     "base_uri": "https://localhost:8080/"
    },
    "id": "WtKV7Wxalb3l",
    "outputId": "3200a194-3ea3-43bd-8b5f-176c62988581"
   },
   "source": [
    "torch.ones_like(x)"
   ],
   "outputs": [],
   "execution_count": null
  },
  {
   "cell_type": "code",
   "metadata": {
    "colab": {
     "base_uri": "https://localhost:8080/"
    },
    "id": "1WS_uk8ileyH",
    "outputId": "2079fa8e-7e26-47d5-8a00-1756b23871d4"
   },
   "source": [
    "# torch.rand_like(x) # must mention datatype\n",
    "t1 = torch.rand_like(x, dtype=torch.float32)\n",
    "t1"
   ],
   "outputs": [],
   "execution_count": null
  },
  {
   "cell_type": "markdown",
   "metadata": {
    "id": "nYM1fR5BmxIf"
   },
   "source": [
    "## Tensor Data Types"
   ]
  },
  {
   "cell_type": "code",
   "metadata": {
    "colab": {
     "base_uri": "https://localhost:8080/"
    },
    "id": "Jy-rBsKSliAe",
    "outputId": "ee80238b-4e5e-493f-f43f-35e0501fd089"
   },
   "source": [
    "# find data type\n",
    "x.dtype"
   ],
   "outputs": [],
   "execution_count": null
  },
  {
   "cell_type": "code",
   "metadata": {
    "colab": {
     "base_uri": "https://localhost:8080/"
    },
    "id": "6T2gmrujnaMA",
    "outputId": "4dd19471-a4e0-42ab-9124-5e68eef167a7"
   },
   "source": [
    "# assign data type\n",
    "torch.tensor([1.0,2.9,3.3], dtype=torch.int32)"
   ],
   "outputs": [],
   "execution_count": null
  },
  {
   "cell_type": "code",
   "metadata": {
    "colab": {
     "base_uri": "https://localhost:8080/"
    },
    "id": "wZ8lMLsInffd",
    "outputId": "7c4d1c9d-d611-46ac-c8df-0276ec06ec8a"
   },
   "source": [
    "torch.tensor([1,2,3], dtype=torch.float64)"
   ],
   "outputs": [],
   "execution_count": null
  },
  {
   "cell_type": "code",
   "metadata": {
    "colab": {
     "base_uri": "https://localhost:8080/"
    },
    "id": "WTAB-h_ing07",
    "outputId": "56c3f27f-d846-4e8d-9430-c3e694baf98d"
   },
   "source": [
    "# type conversion\n",
    "x.to(torch.float32)\n",
    "# x.float()"
   ],
   "outputs": [],
   "execution_count": null
  },
  {
   "cell_type": "markdown",
   "metadata": {
    "id": "dLm25jhknmuQ"
   },
   "source": [
    "| **Data Type**             | **Dtype**         | **Description**                                                                                                                                                                |\n",
    "|---------------------------|-------------------|--------------------------------------------------------------------------------------------------------------------------------------------------------------------------------|\n",
    "| **32-bit Floating Point** | `torch.float32`   | Standard floating-point type used for most deep learning tasks. Provides a balance between precision and memory usage.                                                         |\n",
    "| **64-bit Floating Point** | `torch.float64`   | Double-precision floating point. Useful for high-precision numerical tasks but uses more memory.                                                                               |\n",
    "| **16-bit Floating Point** | `torch.float16`   | Half-precision floating point. Commonly used in mixed-precision training to reduce memory and computational overhead on modern GPUs.                                            |\n",
    "| **BFloat16**              | `torch.bfloat16`  | Brain floating-point format with reduced precision compared to `float16`. Used in mixed-precision training, especially on TPUs.                                                |\n",
    "| **8-bit Floating Point**  | `torch.float8`    | Ultra-low-precision floating point. Used for experimental applications and extreme memory-constrained environments (less common).                                               |\n",
    "| **8-bit Integer**         | `torch.int8`      | 8-bit signed integer. Used for quantized models to save memory and computation in inference.                                                                                   |\n",
    "| **16-bit Integer**        | `torch.int16`     | 16-bit signed integer. Useful for special numerical tasks requiring intermediate precision.                                                                                    |\n",
    "| **32-bit Integer**        | `torch.int32`     | Standard signed integer type. Commonly used for indexing and general-purpose numerical tasks.                                                                                  |\n",
    "| **64-bit Integer**        | `torch.int64`     | Long integer type. Often used for large indexing arrays or for tasks involving large numbers.                                                                                  |\n",
    "| **8-bit Unsigned Integer**| `torch.uint8`     | 8-bit unsigned integer. Commonly used for image data (e.g., pixel values between 0 and 255).                                                                                    |\n",
    "| **Boolean**               | `torch.bool`      | Boolean type, stores `True` or `False` values. Often used for masks in logical operations.                                                                                      |\n",
    "| **Complex 64**            | `torch.complex64` | Complex number type with 32-bit real and 32-bit imaginary parts. Used for scientific and signal processing tasks.                                                               |\n",
    "| **Complex 128**           | `torch.complex128`| Complex number type with 64-bit real and 64-bit imaginary parts. Offers higher precision but uses more memory.                                                                 |\n",
    "| **Quantized Integer**     | `torch.qint8`     | Quantized signed 8-bit integer. Used in quantized models for efficient inference.                                                                                              |\n",
    "| **Quantized Unsigned Integer** | `torch.quint8` | Quantized unsigned 8-bit integer. Often used for quantized tensors in image-related tasks.                                                                                     |\n"
   ]
  },
  {
   "cell_type": "markdown",
   "metadata": {
    "id": "baPoka3lqpEQ"
   },
   "source": [
    "## Mathematical operations"
   ]
  },
  {
   "cell_type": "markdown",
   "metadata": {
    "id": "wre7rSdlqsOB"
   },
   "source": [
    "### 1. Scalar operation"
   ]
  },
  {
   "cell_type": "code",
   "metadata": {
    "colab": {
     "base_uri": "https://localhost:8080/"
    },
    "id": "CS69nYyanqYD",
    "outputId": "c3c41829-a45c-4ee4-870e-d429fee5d570"
   },
   "source": [
    "x = torch.rand(2,2)\n",
    "x"
   ],
   "outputs": [],
   "execution_count": null
  },
  {
   "cell_type": "code",
   "metadata": {
    "colab": {
     "base_uri": "https://localhost:8080/"
    },
    "id": "ztrwQq-cqyz9",
    "outputId": "bd34c062-483b-4be7-d702-4383edc9cc22"
   },
   "source": [
    "# addition\n",
    "x + 2\n",
    "# substraction\n",
    "x - 2\n",
    "# multiplication\n",
    "x * 3\n",
    "# division\n",
    "x / 3\n",
    "# int division\n",
    "(x * 100)//3\n",
    "# mod\n",
    "((x * 100)//3)%2\n",
    "# power\n",
    "x**2"
   ],
   "outputs": [],
   "execution_count": null
  },
  {
   "cell_type": "markdown",
   "metadata": {
    "id": "y2n84o2ZrGcY"
   },
   "source": [
    "### 2. Element wise operation"
   ]
  },
  {
   "cell_type": "code",
   "metadata": {
    "colab": {
     "base_uri": "https://localhost:8080/"
    },
    "id": "PcnbNatwq1_3",
    "outputId": "f7be7df7-9ef2-4aac-eb7b-b2ec8f72f2cc"
   },
   "source": [
    "a = torch.rand(2,3)\n",
    "b = torch.rand(2,3)\n",
    "\n",
    "print(a)\n",
    "print(b)"
   ],
   "outputs": [],
   "execution_count": null
  },
  {
   "cell_type": "code",
   "metadata": {
    "colab": {
     "base_uri": "https://localhost:8080/"
    },
    "id": "Qye9acabrUae",
    "outputId": "e1c457af-3cb7-40de-a6a7-eb34cc557625"
   },
   "source": [
    "# add\n",
    "a + b\n",
    "# sub\n",
    "a - b\n",
    "# multiply\n",
    "a * b  # OR, torch.mul(a, b)\n",
    "# division\n",
    "a / b\n",
    "# power\n",
    "a ** b\n",
    "# mod\n",
    "a % b"
   ],
   "outputs": [],
   "execution_count": null
  },
  {
   "cell_type": "code",
   "metadata": {
    "id": "ftIq3-30rnhR"
   },
   "source": [
    "c = torch.tensor([1, -2, 3, -4])"
   ],
   "outputs": [],
   "execution_count": null
  },
  {
   "cell_type": "code",
   "metadata": {
    "colab": {
     "base_uri": "https://localhost:8080/"
    },
    "id": "GHWZWPxWr4rG",
    "outputId": "25337c88-d379-4d11-c071-77032cf61fb6"
   },
   "source": [
    "# abs\n",
    "torch.abs(c)"
   ],
   "outputs": [],
   "execution_count": null
  },
  {
   "cell_type": "code",
   "metadata": {
    "colab": {
     "base_uri": "https://localhost:8080/"
    },
    "id": "kROGMVNtrtfT",
    "outputId": "a8a5658a-d00c-4ebb-c525-3c93bc0a447f"
   },
   "source": [
    "# negative\n",
    "torch.neg(c)"
   ],
   "outputs": [],
   "execution_count": null
  },
  {
   "cell_type": "code",
   "metadata": {
    "id": "U2RLWzlaryKh"
   },
   "source": [
    "d = torch.tensor([1.9, 2.3, 3.7, 4.4])\n",
    "d"
   ],
   "outputs": [],
   "execution_count": null
  },
  {
   "cell_type": "code",
   "metadata": {
    "colab": {
     "base_uri": "https://localhost:8080/"
    },
    "id": "g4OrL7w9sAWF",
    "outputId": "a1839e9f-f0a0-4672-9109-013c30f58d01"
   },
   "source": [
    "# round\n",
    "torch.round(d)"
   ],
   "outputs": [],
   "execution_count": null
  },
  {
   "cell_type": "code",
   "metadata": {},
   "source": [
    "d.round()"
   ],
   "outputs": [],
   "execution_count": null
  },
  {
   "cell_type": "code",
   "metadata": {},
   "source": [
    "d"
   ],
   "outputs": [],
   "execution_count": null
  },
  {
   "cell_type": "code",
   "metadata": {},
   "source": [
    "d.round_() # inplace modification"
   ],
   "outputs": [],
   "execution_count": null
  },
  {
   "cell_type": "code",
   "metadata": {},
   "source": [
    "d"
   ],
   "outputs": [],
   "execution_count": null
  },
  {
   "cell_type": "code",
   "metadata": {
    "colab": {
     "base_uri": "https://localhost:8080/"
    },
    "id": "1fPsOYOAsEE6",
    "outputId": "da1276d1-610a-4f5f-8c7d-9284b03b8dc0"
   },
   "source": [
    "# ceil\n",
    "torch.ceil(d) # Or d.ceil()"
   ],
   "outputs": [],
   "execution_count": null
  },
  {
   "cell_type": "code",
   "metadata": {
    "colab": {
     "base_uri": "https://localhost:8080/"
    },
    "id": "ilT0yf1TsE6G",
    "outputId": "e664fb5c-0be2-4190-a5f3-40ec4a480b63"
   },
   "source": [
    "# floor\n",
    "torch.floor(d)"
   ],
   "outputs": [],
   "execution_count": null
  },
  {
   "cell_type": "code",
   "metadata": {
    "colab": {
     "base_uri": "https://localhost:8080/"
    },
    "id": "ZzVkY4xgsFvP",
    "outputId": "e6ea8460-37a4-42da-b248-d3f7deca8a1e"
   },
   "source": [
    "# clamp\n",
    "torch.clamp(d, min=2, max=4)"
   ],
   "outputs": [],
   "execution_count": null
  },
  {
   "cell_type": "markdown",
   "metadata": {
    "id": "4vWfG_ZmsN0J"
   },
   "source": [
    "### 3. Reduction operation\n",
    "\n",
    "N.B: dim=i → Add across values at the same position in axis i, then remove axis i\n",
    "\n",
    "In new shape, That dim is eliminated."
   ]
  },
  {
   "cell_type": "code",
   "metadata": {
    "colab": {
     "base_uri": "https://localhost:8080/"
    },
    "id": "JQBlGL52sGae",
    "outputId": "c3e91f3d-4a59-4bf2-8544-2038013a7dc1"
   },
   "source": [
    "e = torch.randint(size=(2,3), low=0, high=10, dtype=torch.float32)\n",
    "e"
   ],
   "outputs": [],
   "execution_count": null
  },
  {
   "cell_type": "code",
   "metadata": {
    "colab": {
     "base_uri": "https://localhost:8080/"
    },
    "id": "9o8zMdUosWSs",
    "outputId": "5d82b720-8f08-4b8a-d427-e91de0037c64"
   },
   "source": [
    "print( torch.sum(e) )\n",
    "# sum along columns\n",
    "print( torch.sum(e, dim=0) ) # dim 0 (left most) is reduced ie catch 1 row, merging other rows into it, producing the output\n",
    "# sum along rows\n",
    "print( torch.sum(e, dim=1) )"
   ],
   "outputs": [],
   "execution_count": null
  },
  {
   "cell_type": "code",
   "metadata": {
    "colab": {
     "base_uri": "https://localhost:8080/"
    },
    "id": "5Am6Hrdssl90",
    "outputId": "846569f6-b10a-4826-b49c-b777e11d3972"
   },
   "source": [
    "# mean\n",
    "# torch.mean(e)\n",
    "# mean along col\n",
    "# torch.mean(e, dim=0)\n",
    "# mean along row\n",
    "torch.mean(e, dim=1)"
   ],
   "outputs": [],
   "execution_count": null
  },
  {
   "cell_type": "code",
   "metadata": {
    "colab": {
     "base_uri": "https://localhost:8080/"
    },
    "id": "wIXESOkIs8M8",
    "outputId": "cfc6b1ae-84a9-463f-b701-4e5527b4ce56"
   },
   "source": [
    "# median\n",
    "torch.median(e) # OR e.median()"
   ],
   "outputs": [],
   "execution_count": null
  },
  {
   "cell_type": "code",
   "metadata": {
    "colab": {
     "base_uri": "https://localhost:8080/"
    },
    "id": "RIs7y6cysnFT",
    "outputId": "e1aa03cb-833d-49a6-e02c-2409d8a5c3e5"
   },
   "source": [
    "# max and min\n",
    "torch.max(e)\n",
    "torch.min(e)"
   ],
   "outputs": [],
   "execution_count": null
  },
  {
   "cell_type": "code",
   "metadata": {
    "colab": {
     "base_uri": "https://localhost:8080/"
    },
    "id": "TIP4CUwasw4Q",
    "outputId": "eef4bed8-de7d-4190-dc47-2480f7c94683"
   },
   "source": [
    "# product\n",
    "torch.prod(e)\n",
    "# torch.prod(e, dim=1)"
   ],
   "outputs": [],
   "execution_count": null
  },
  {
   "cell_type": "code",
   "metadata": {
    "colab": {
     "base_uri": "https://localhost:8080/"
    },
    "id": "BAQIjNjwsyLF",
    "outputId": "4e8d271e-2808-4848-fcdb-3a6b5aabaa9a"
   },
   "source": [
    "# standard deviation\n",
    "torch.std(e)"
   ],
   "outputs": [],
   "execution_count": null
  },
  {
   "cell_type": "code",
   "metadata": {
    "colab": {
     "base_uri": "https://localhost:8080/"
    },
    "id": "78S1Ggv_s2nC",
    "outputId": "840310de-b26c-44a7-e012-b99e557aff57"
   },
   "source": [
    "# variance\n",
    "torch.var(e)"
   ],
   "outputs": [],
   "execution_count": null
  },
  {
   "cell_type": "code",
   "metadata": {},
   "source": [
    "e"
   ],
   "outputs": [],
   "execution_count": null
  },
  {
   "cell_type": "code",
   "metadata": {
    "colab": {
     "base_uri": "https://localhost:8080/"
    },
    "id": "EOtGIsd9s3UZ",
    "outputId": "69688f25-6dc7-41a6-d46a-63969e91c217"
   },
   "source": [
    "# argmax - flatten and check\n",
    "torch.argmax(e)"
   ],
   "outputs": [],
   "execution_count": null
  },
  {
   "cell_type": "code",
   "metadata": {
    "colab": {
     "base_uri": "https://localhost:8080/"
    },
    "id": "J23C1bwes6TL",
    "outputId": "019aae81-6353-4702-e557-b4599861552c"
   },
   "source": [
    "# argmin\n",
    "torch.argmin(e)"
   ],
   "outputs": [],
   "execution_count": null
  },
  {
   "metadata": {},
   "cell_type": "code",
   "source": [
    "# more complex reduction\n",
    "x = torch.tensor([\n",
    "  [[1, 2], [3, 4]],\n",
    "  [[5, 6], [7, 8]]\n",
    "])\n",
    "print(torch.sum(x, dim=0))\n",
    "print(torch.sum(x, dim=1))\n",
    "print(torch.sum(x, dim=2))"
   ],
   "outputs": [],
   "execution_count": null
  },
  {
   "cell_type": "markdown",
   "metadata": {
    "id": "dw_h9fvMtLXw"
   },
   "source": [
    "### 4. Matrix operations"
   ]
  },
  {
   "cell_type": "code",
   "metadata": {
    "colab": {
     "base_uri": "https://localhost:8080/"
    },
    "id": "a54MqBBQs7BJ",
    "outputId": "3e4962ea-bbf5-492d-ca11-9afc7598b0b1"
   },
   "source": [
    "f = torch.randint(size=(2,3), low=0, high=10)\n",
    "g = torch.randint(size=(3,2), low=0, high=10)\n",
    "\n",
    "print(f)\n",
    "print(g)"
   ],
   "outputs": [],
   "execution_count": null
  },
  {
   "cell_type": "code",
   "metadata": {
    "colab": {
     "base_uri": "https://localhost:8080/"
    },
    "id": "BqQ7sNBctWfS",
    "outputId": "fa28d67d-e5ed-4cdf-e116-8fe7fc931a9c"
   },
   "source": [
    "# matrix multiplcation\n",
    "# torch.mm(f, g)       # 2-D Matrix multiplication\n",
    "torch.matmul(f, g)     # n-D"
   ],
   "outputs": [],
   "execution_count": null
  },
  {
   "cell_type": "code",
   "metadata": {},
   "source": [
    "# OR\n",
    "# f @ g\n",
    "f.matmul(g)"
   ],
   "outputs": [],
   "execution_count": null
  },
  {
   "cell_type": "code",
   "metadata": {
    "colab": {
     "base_uri": "https://localhost:8080/"
    },
    "id": "CopN1Oe5tZrD",
    "outputId": "3697a4e7-fed8-49e0-a968-99961be2b389"
   },
   "source": [
    "vector1 = torch.tensor([1, 2])\n",
    "vector2 = torch.tensor([3, 4])\n",
    "\n",
    "# dot product - 1D only, can also use torch.matmul or @\n",
    "torch.dot(vector1, vector2)"
   ],
   "outputs": [],
   "execution_count": null
  },
  {
   "cell_type": "code",
   "metadata": {
    "colab": {
     "base_uri": "https://localhost:8080/"
    },
    "id": "9Imz3Vq6ta4y",
    "outputId": "8224d8ec-ae96-475e-f016-6c8faca5f618"
   },
   "source": [
    "# transpose\n",
    "torch.transpose(input=f, dim0=0, dim1=1)"
   ],
   "outputs": [],
   "execution_count": null
  },
  {
   "cell_type": "code",
   "metadata": {
    "colab": {
     "base_uri": "https://localhost:8080/"
    },
    "id": "yEfuS9ZKtdSi",
    "outputId": "d23ed5a1-efd5-41fb-d48e-8a66695c3834"
   },
   "source": [
    "h = torch.randint(size=(3,3), low=0, high=10, dtype=torch.float32)\n",
    "h"
   ],
   "outputs": [],
   "execution_count": null
  },
  {
   "cell_type": "code",
   "metadata": {
    "colab": {
     "base_uri": "https://localhost:8080/"
    },
    "id": "PqfUsUvttpXZ",
    "outputId": "f9eb0d09-b79d-47ba-e5a4-2e377a267d3d"
   },
   "source": [
    "# determinant\n",
    "torch.det(h)"
   ],
   "outputs": [],
   "execution_count": null
  },
  {
   "cell_type": "code",
   "metadata": {
    "colab": {
     "base_uri": "https://localhost:8080/"
    },
    "id": "X0khPormts14",
    "outputId": "4626b679-a1c4-48fd-9e1a-7fd13a3ab485"
   },
   "source": [
    "# inverse\n",
    "torch.inverse(h)"
   ],
   "outputs": [],
   "execution_count": null
  },
  {
   "cell_type": "markdown",
   "metadata": {
    "id": "-lEkBmv5t1nB"
   },
   "source": [
    "### 5. Comparison operations"
   ]
  },
  {
   "cell_type": "code",
   "metadata": {
    "colab": {
     "base_uri": "https://localhost:8080/"
    },
    "id": "G89Keg-xtxUr",
    "outputId": "9943d326-f0dd-463c-962a-1be95e634dfa"
   },
   "source": [
    "i = torch.randint(size=(2,3), low=0, high=10)\n",
    "j = torch.randint(size=(2,3), low=0, high=10)\n",
    "\n",
    "print(i)\n",
    "print(j)"
   ],
   "outputs": [],
   "execution_count": null
  },
  {
   "cell_type": "code",
   "metadata": {
    "colab": {
     "base_uri": "https://localhost:8080/"
    },
    "id": "F5v--5uiuBWW",
    "outputId": "32888e4a-6ed6-471b-9358-473374d34b98"
   },
   "source": [
    "# greater than\n",
    "i > j\n",
    "# less than\n",
    "i < j\n",
    "# equal to\n",
    "i == j\n",
    "# not equal to\n",
    "i != j\n",
    "# greater than equal to\n",
    "\n",
    "# less than equal to"
   ],
   "outputs": [],
   "execution_count": null
  },
  {
   "cell_type": "markdown",
   "metadata": {
    "id": "jd9JzlO1uaf3"
   },
   "source": [
    "### 6. Special functions"
   ]
  },
  {
   "cell_type": "code",
   "metadata": {
    "colab": {
     "base_uri": "https://localhost:8080/"
    },
    "id": "lKU6tQpyuY0M",
    "outputId": "53339fda-a0ef-46cb-a505-a86d7c5d564c"
   },
   "source": [
    "k = torch.randint(size=(2,3), low=0, high=10, dtype=torch.float32)\n",
    "k"
   ],
   "outputs": [],
   "execution_count": null
  },
  {
   "cell_type": "code",
   "metadata": {
    "colab": {
     "base_uri": "https://localhost:8080/"
    },
    "id": "-gl1dhdVuDOE",
    "outputId": "1b0d1587-5890-4f32-fd58-5b4c196f93a0"
   },
   "source": [
    "# log\n",
    "torch.log(k)"
   ],
   "outputs": [],
   "execution_count": null
  },
  {
   "cell_type": "code",
   "metadata": {
    "colab": {
     "base_uri": "https://localhost:8080/"
    },
    "id": "rQSpBdkbujck",
    "outputId": "4b3465de-85c4-4f7f-b723-0e87e7de4acc"
   },
   "source": [
    "# exp\n",
    "torch.exp(k)"
   ],
   "outputs": [],
   "execution_count": null
  },
  {
   "cell_type": "code",
   "metadata": {
    "colab": {
     "base_uri": "https://localhost:8080/"
    },
    "id": "gTDfXdbVukh0",
    "outputId": "6941a276-3149-4b43-f09b-c6380e566c89"
   },
   "source": [
    "# sqrt\n",
    "torch.sqrt(k)"
   ],
   "outputs": [],
   "execution_count": null
  },
  {
   "cell_type": "code",
   "metadata": {},
   "source": [
    "torch.sin(k) # OR\n",
    "# k.sin()"
   ],
   "outputs": [],
   "execution_count": null
  },
  {
   "cell_type": "code",
   "metadata": {
    "colab": {
     "base_uri": "https://localhost:8080/"
    },
    "id": "d-rbMIVPunhr",
    "outputId": "f2385db1-f18d-4795-9347-9a192896b323"
   },
   "source": [
    "# sigmoid\n",
    "torch.sigmoid(k)"
   ],
   "outputs": [],
   "execution_count": null
  },
  {
   "cell_type": "code",
   "metadata": {
    "colab": {
     "base_uri": "https://localhost:8080/"
    },
    "id": "X74chVfQusqf",
    "outputId": "537358fb-e498-43d3-85e0-69ff7dc3a03d"
   },
   "source": [
    "# softmax\n",
    "torch.softmax(k, dim=0)"
   ],
   "outputs": [],
   "execution_count": null
  },
  {
   "cell_type": "code",
   "metadata": {
    "colab": {
     "base_uri": "https://localhost:8080/"
    },
    "id": "JnLG2JbyutvC",
    "outputId": "0b701250-9a3c-4106-df3b-83dbb1a99fdb"
   },
   "source": [
    "# relu\n",
    "torch.relu(k) # OR\n",
    "# k.relu()"
   ],
   "outputs": [],
   "execution_count": null
  },
  {
   "cell_type": "markdown",
   "metadata": {
    "id": "JQ7im-Mz9Mu9"
   },
   "source": [
    "## Inplace Operations"
   ]
  },
  {
   "cell_type": "code",
   "metadata": {
    "colab": {
     "base_uri": "https://localhost:8080/"
    },
    "id": "mKVMTBq7uufZ",
    "outputId": "c6a5acb9-e36a-48d2-a073-86d66f4a5ed0"
   },
   "source": [
    "m = torch.rand(2,3)\n",
    "n = torch.rand(2,3)\n",
    "\n",
    "print(m)\n",
    "print(n)"
   ],
   "outputs": [],
   "execution_count": null
  },
  {
   "cell_type": "code",
   "metadata": {
    "colab": {
     "base_uri": "https://localhost:8080/"
    },
    "id": "HmN2o2Ge_j8h",
    "outputId": "b3a0d2c7-4548-4d21-f788-c3b0ce21e326"
   },
   "source": [
    "m.add_(n)"
   ],
   "outputs": [],
   "execution_count": null
  },
  {
   "cell_type": "code",
   "metadata": {
    "colab": {
     "base_uri": "https://localhost:8080/"
    },
    "id": "1k8bPLhgAN64",
    "outputId": "4830bcd9-037c-4c74-dfda-28d4006f04bb"
   },
   "source": [
    "m"
   ],
   "outputs": [],
   "execution_count": null
  },
  {
   "cell_type": "code",
   "metadata": {
    "colab": {
     "base_uri": "https://localhost:8080/"
    },
    "id": "d_pBAPcGAkHW",
    "outputId": "25f54ae6-1b93-4666-d8c1-786faa209d1b"
   },
   "source": [
    "n"
   ],
   "outputs": [],
   "execution_count": null
  },
  {
   "cell_type": "code",
   "metadata": {
    "colab": {
     "base_uri": "https://localhost:8080/"
    },
    "id": "8OhePrDbAmwh",
    "outputId": "a5dbdebd-a6fc-4697-e3ad-155fcb3eec50"
   },
   "source": [
    "torch.relu(m)"
   ],
   "outputs": [],
   "execution_count": null
  },
  {
   "cell_type": "code",
   "metadata": {
    "colab": {
     "base_uri": "https://localhost:8080/"
    },
    "id": "M_s6WQ0pAuTG",
    "outputId": "5916395e-699a-46f5-ae67-0d8816c543c2"
   },
   "source": [
    "m.relu_()"
   ],
   "outputs": [],
   "execution_count": null
  },
  {
   "cell_type": "code",
   "metadata": {
    "colab": {
     "base_uri": "https://localhost:8080/"
    },
    "id": "sucQ4iPYAyqn",
    "outputId": "20105717-1b8d-4b35-cd9a-ae636835fec9"
   },
   "source": [
    "m"
   ],
   "outputs": [],
   "execution_count": null
  },
  {
   "cell_type": "markdown",
   "metadata": {
    "id": "7-SgjcqnCN9P"
   },
   "source": [
    "## Copying a Tensor"
   ]
  },
  {
   "cell_type": "code",
   "metadata": {
    "colab": {
     "base_uri": "https://localhost:8080/"
    },
    "id": "z8SCsW7kA0jt",
    "outputId": "2ac158bc-cc94-4192-e6d3-d8961b535c44"
   },
   "source": [
    "a = torch.rand(2,3)\n",
    "a"
   ],
   "outputs": [],
   "execution_count": null
  },
  {
   "cell_type": "code",
   "metadata": {
    "id": "3Z0IUCnpCsCv"
   },
   "source": [
    "b = a # here b is referencing memory of a\n",
    "id(a) , id(b)"
   ],
   "outputs": [],
   "execution_count": null
  },
  {
   "cell_type": "code",
   "metadata": {
    "id": "KWDEt8h8EW2i"
   },
   "source": [
    "b = a.clone()"
   ],
   "outputs": [],
   "execution_count": null
  },
  {
   "cell_type": "code",
   "metadata": {},
   "source": [
    "b.copy_(a)"
   ],
   "outputs": [],
   "execution_count": null
  },
  {
   "cell_type": "code",
   "metadata": {},
   "source": [
    "id(a) == id(b)"
   ],
   "outputs": [],
   "execution_count": null
  },
  {
   "cell_type": "code",
   "metadata": {
    "colab": {
     "base_uri": "https://localhost:8080/"
    },
    "id": "ndhb6dktEcov",
    "outputId": "8b67e4f5-4f27-4006-f480-a81935c71eff"
   },
   "source": [
    "a"
   ],
   "outputs": [],
   "execution_count": null
  },
  {
   "cell_type": "code",
   "metadata": {
    "colab": {
     "base_uri": "https://localhost:8080/"
    },
    "id": "M1MgVSoXEd2E",
    "outputId": "ded643e6-0fbd-4e08-8eab-17cb615f0760"
   },
   "source": [
    "b"
   ],
   "outputs": [],
   "execution_count": null
  },
  {
   "cell_type": "code",
   "metadata": {
    "id": "LGxrfDtTEeVI"
   },
   "source": [
    "a[0][0] = 10"
   ],
   "outputs": [],
   "execution_count": null
  },
  {
   "cell_type": "code",
   "metadata": {
    "colab": {
     "base_uri": "https://localhost:8080/"
    },
    "id": "KoGwR1k2Eg_1",
    "outputId": "475a5f95-b557-430e-ef59-d1cd291681c4"
   },
   "source": [
    "a"
   ],
   "outputs": [],
   "execution_count": null
  },
  {
   "cell_type": "code",
   "metadata": {
    "colab": {
     "base_uri": "https://localhost:8080/"
    },
    "id": "hnmU7qDXEh_R",
    "outputId": "1478ea99-7c87-41a6-d07b-0d23413377e3"
   },
   "source": [
    "b # b is not changed as it is a clone"
   ],
   "outputs": [],
   "execution_count": null
  },
  {
   "cell_type": "markdown",
   "metadata": {},
   "source": [
    "# Tensor Operations on GPU"
   ]
  },
  {
   "metadata": {},
   "cell_type": "code",
   "outputs": [],
   "execution_count": null,
   "source": "device = torch.device('cuda' if torch.cuda.is_available() else 'cpu') # 'cuda', 'cuda:0', 'cuda:1', 'cpu' etc"
  },
  {
   "cell_type": "code",
   "metadata": {},
   "source": [
    "t1 = torch.rand(2,3)  #cpu"
   ],
   "outputs": [],
   "execution_count": null
  },
  {
   "cell_type": "code",
   "metadata": {},
   "source": [
    "# create tensor on GPU\n",
    "t2 = torch.rand(2,3, device=device) \n",
    "t2"
   ],
   "outputs": [],
   "execution_count": null
  },
  {
   "cell_type": "code",
   "metadata": {},
   "source": [
    "t3 = t1.to(device)  # copy from cpu to gpu, not inplace\n",
    "t1, t3"
   ],
   "outputs": [],
   "execution_count": null
  },
  {
   "cell_type": "markdown",
   "metadata": {},
   "source": [
    "### Speed comparison"
   ]
  },
  {
   "cell_type": "markdown",
   "metadata": {},
   "source": [
    "### **Comparison for PyTorch**\n",
    "\n",
    "| Feature                     | GTX 1650 (Mobile)                   | Ryzen 5 3550H                       |\n",
    "|-----------------------------|-------------------------------------|-------------------------------------|\n",
    "| **Role**                    | GPU (accelerates tensor ops)        | CPU (general-purpose tasks)         |\n",
    "| **PyTorch Usage**           | Training/inference acceleration     | Data pre-processing, small models   |\n",
    "| **Tensor Computations**     | Faster, parallelized (CUDA cores)   | Slower, limited by fewer cores      |\n",
    "| **Memory**                  | 4GB GDDR5 (VRAM, fast access)       | Uses system RAM (slower)            |\n",
    "| **Parallelism**             | High (CUDA cores - 896)             | Moderate (4 cores, 8 threads)       |\n",
    "| **Limitations**             | Limited VRAM for large models       | Not optimized for heavy tensor ops  |\n",
    "| **Best Use Case**           | Training small/medium models        | Pre-processing, light inference     |\n",
    "\n",
    "---\n",
    "\n",
    "### Please Note:\n",
    "- **GTX 1650 (Mobile)**: The better option for PyTorch workloads involving heavy tensor computations, such as training or inference on models that fit into 4GB VRAM.\n",
    "- **Ryzen 5 3550H**: Adequate for CPU-bound tasks like pre-processing, model evaluation for smaller models, and managing data pipelines. If your dataset or model exceeds the GTX 1650's VRAM, consider techniques like **gradient checkpointing**, **model sharding**, or running on the CPU (although slower)."
   ]
  },
  {
   "cell_type": "code",
   "metadata": {},
   "source": [
    "import time\n",
    "\n",
    "size = 10000 # Large size for performance comparison\n",
    "\n",
    "# Create random matrices on CPU\n",
    "\n",
    "matrix_cpu1 = torch.randn(size, size)\n",
    "matrix_cpu2 = torch.randn(size, size)\n",
    "\n",
    "# Perform matrix multiplication\n",
    "start_time = time.perf_counter()\n",
    "result_cpu = torch.matmul(matrix_cpu1, matrix_cpu2) # \"Matrix multiplication on CPU\n",
    "cpu_time = time.perf_counter() - start_time\n",
    "\n",
    "# Measure time on CPU\n",
    "print(f\"Time on CPU: {cpu_time:.4f} seconds\")\n",
    "\n",
    "# Check if GPU/CUDA is available\n",
    "if torch.cuda.is_available():\n",
    "    # Move matrices to GPU\n",
    "    matrix_gpu1 = matrix_cpu1.to('cuda')\n",
    "    matrix_gpu2 = matrix_cpu2.to('cuda')\n",
    "\n",
    "    # Measure time on GPU\n",
    "    start_time = time.perf_counter()\n",
    "    result_gpu = torch.matmul(matrix_gpu1, matrix_gpu2)\n",
    "    \n",
    "    # Synchronize to ensure all GPU operations are complete and calculate time\n",
    "    torch.cuda.synchronize()\n",
    "    gpu_time = time.perf_counter() - start_time\n",
    "\n",
    "    print(f\"Time taken on GPU: {gpu_time:.4f} seconds\")\n",
    "    print(f'Performance gain: {round(cpu_time / gpu_time)}')\n",
    "else:\n",
    "    print(\"CUDA is not available. GPU computation cannot be performed.\")"
   ],
   "outputs": [],
   "execution_count": null
  },
  {
   "cell_type": "markdown",
   "metadata": {},
   "source": [
    "# Reshaping Tensors (not inplace)"
   ]
  },
  {
   "cell_type": "code",
   "metadata": {},
   "source": [
    "a = torch.ones(4,6)\n",
    "a"
   ],
   "outputs": [],
   "execution_count": null
  },
  {
   "cell_type": "code",
   "metadata": {},
   "source": [
    "a.reshape(2,3,4) # first 2 blocks, then each block has 3 rows and 4 columns\n",
    "# like flattening first, then reshaping"
   ],
   "outputs": [],
   "execution_count": null
  },
  {
   "cell_type": "code",
   "metadata": {},
   "source": [
    "a.shape # shows in this format (dim0 , dim1, dim2, ... )"
   ],
   "outputs": [],
   "execution_count": null
  },
  {
   "cell_type": "code",
   "metadata": {},
   "source": [
    "a.reshape(-1,3) "
   ],
   "outputs": [],
   "execution_count": null
  },
  {
   "cell_type": "code",
   "metadata": {},
   "source": [
    "a.reshape(1,-1) #same as (1,24)"
   ],
   "outputs": [],
   "execution_count": null
  },
  {
   "cell_type": "code",
   "metadata": {},
   "source": [
    "# Flatten - 1D tensor\n",
    "a.flatten()"
   ],
   "outputs": [],
   "execution_count": null
  },
  {
   "cell_type": "code",
   "metadata": {},
   "source": [
    "b = torch.randint(low=1,high=100,size=(2,3,4))\n",
    "b"
   ],
   "outputs": [],
   "execution_count": null
  },
  {
   "cell_type": "code",
   "metadata": {},
   "source": [
    "b.permute(2,0,1)\n",
    "# new shape of the tensor will be (4, 2, 3)."
   ],
   "outputs": [],
   "execution_count": null
  },
  {
   "cell_type": "code",
   "metadata": {},
   "source": [
    "b.permute(2,0,1).shape"
   ],
   "outputs": [],
   "execution_count": null
  },
  {
   "cell_type": "code",
   "metadata": {},
   "source": [
    "# Swap only 2 axes\n",
    "y = b.transpose(dim0=1, dim1=2)  # flips row <-> colm\n",
    "b, y"
   ],
   "outputs": [],
   "execution_count": null
  },
  {
   "cell_type": "code",
   "metadata": {},
   "source": [
    "b.shape, y.shape"
   ],
   "outputs": [],
   "execution_count": null
  },
  {
   "cell_type": "code",
   "metadata": {},
   "source": [
    "# Unsqueze -  extra dim (of 1) added in specified position\n",
    "c = torch.rand(226,226,3)  # Typical image size\n",
    "c.shape"
   ],
   "outputs": [],
   "execution_count": null
  },
  {
   "cell_type": "code",
   "metadata": {
    "scrolled": true
   },
   "source": [
    "c.unsqueeze(dim=0).shape"
   ],
   "outputs": [],
   "execution_count": null
  },
  {
   "cell_type": "code",
   "metadata": {
    "scrolled": true
   },
   "source": [
    "c.unsqueeze(dim=2).shape"
   ],
   "outputs": [],
   "execution_count": null
  },
  {
   "cell_type": "code",
   "metadata": {},
   "source": [
    "# Squeeze -> removes extra dim (where its 1)\n",
    "d = torch.rand(1,20,1,1,2)\n",
    "d.shape"
   ],
   "outputs": [],
   "execution_count": null
  },
  {
   "cell_type": "code",
   "metadata": {},
   "source": [
    "# d.squeeze(1) # No effect as 1st dimension is 20 ie !=1\n",
    "d.squeeze().shape # by default, dim=None (removes all 1s)"
   ],
   "outputs": [],
   "execution_count": null
  },
  {
   "cell_type": "code",
   "metadata": {},
   "source": [
    "d.squeeze(dim=2).shape  # fyi, it can be tuple"
   ],
   "outputs": [],
   "execution_count": null
  },
  {
   "cell_type": "markdown",
   "metadata": {},
   "source": [
    "# Numpy <--> Tensor"
   ]
  },
  {
   "cell_type": "code",
   "metadata": {},
   "source": [
    "import numpy as np\n",
    "np.__version__"
   ],
   "outputs": [],
   "execution_count": null
  },
  {
   "cell_type": "code",
   "metadata": {},
   "source": [
    "t = torch.tensor([5,4,42])  # 5 blocks of 4x42 matrix \n",
    "t , type(t)"
   ],
   "outputs": [],
   "execution_count": null
  },
  {
   "cell_type": "code",
   "metadata": {},
   "source": [
    "arr = t.numpy()\n",
    "arr , type(arr)"
   ],
   "outputs": [],
   "execution_count": null
  },
  {
   "cell_type": "code",
   "metadata": {},
   "source": [
    "a = np.random.randint(1,100,(5,2))\n",
    "a"
   ],
   "outputs": [],
   "execution_count": null
  },
  {
   "cell_type": "code",
   "metadata": {},
   "source": [
    "ta = torch.from_numpy(a) \n",
    "ta"
   ],
   "outputs": [],
   "execution_count": null
  },
  {
   "cell_type": "code",
   "metadata": {},
   "source": [
    "ta_np = ta.numpy()\n",
    "print(ta_np)"
   ],
   "outputs": [],
   "execution_count": null
  },
  {
   "cell_type": "code",
   "metadata": {},
   "source": [],
   "outputs": [],
   "execution_count": null
  }
 ],
 "metadata": {
  "accelerator": "GPU",
  "colab": {
   "gpuType": "T4",
   "provenance": []
  },
  "kernelspec": {
   "display_name": "base",
   "language": "python",
   "name": "python3"
  },
  "language_info": {
   "codemirror_mode": {
    "name": "ipython",
    "version": 3
   },
   "file_extension": ".py",
   "mimetype": "text/x-python",
   "name": "python",
   "nbconvert_exporter": "python",
   "pygments_lexer": "ipython3",
   "version": "3.12.7"
  },
  "widgets": {
   "application/vnd.jupyter.widget-state+json": {
    "state": {},
    "version_major": 2,
    "version_minor": 0
   }
  }
 },
 "nbformat": 4,
 "nbformat_minor": 4
}
