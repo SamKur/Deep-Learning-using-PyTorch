{
 "cells": [
  {
   "cell_type": "markdown",
   "metadata": {},
   "source": [
    "# Reduce Overfitting\n",
    "1. Adding more data - not available\n",
    "2. Reduce complexity of NN arch - already simple\n",
    "3. Regularization - OK ✅\n",
    "4. Dropouts - OK ✅\n",
    "5. Data Augmentation - not CNN so n/a\n",
    "6. Batch Normalization - OK ✅\n",
    "7. Early stopping - didn't work"
   ]
  },
  {
   "cell_type": "code",
   "execution_count": null,
   "metadata": {
    "ExecuteTime": {
     "end_time": "2025-06-17T16:14:45.113249Z",
     "start_time": "2025-06-17T16:14:33.310143Z"
    },
    "id": "EhZMtSdM3W4N"
   },
   "outputs": [],
   "source": [
    "import pandas as pd\n",
    "from sklearn.model_selection import train_test_split\n",
    "import torch\n",
    "from torch.utils.data import Dataset, DataLoader\n",
    "import torch.nn as nn\n",
    "import torch.optim as optim\n",
    "import matplotlib.pyplot as plt"
   ]
  },
  {
   "cell_type": "code",
   "execution_count": null,
   "metadata": {
    "ExecuteTime": {
     "end_time": "2025-06-17T16:14:45.150299Z",
     "start_time": "2025-06-17T16:14:45.117780Z"
    },
    "colab": {
     "base_uri": "https://localhost:8080/"
    },
    "id": "NCrakIjRollf",
    "outputId": "ddf191d5-8c3c-43be-d18b-02d60d926f12"
   },
   "outputs": [],
   "source": [
    "# Set random seeds for reproducibility\n",
    "torch.manual_seed(42)"
   ]
  },
  {
   "cell_type": "code",
   "execution_count": null,
   "metadata": {
    "ExecuteTime": {
     "end_time": "2025-06-17T16:14:45.281453Z",
     "start_time": "2025-06-17T16:14:45.153315Z"
    },
    "colab": {
     "base_uri": "https://localhost:8080/"
    },
    "id": "3DYn2_6J2oYF",
    "outputId": "f55a381a-8a0e-4eb7-f751-74ec156f8779"
   },
   "outputs": [],
   "source": [
    "# Check for GPU\n",
    "device = torch.device('cuda' if torch.cuda.is_available() else 'cpu')\n",
    "print(f\"Using device: {device}\")"
   ]
  },
  {
   "cell_type": "code",
   "execution_count": null,
   "metadata": {
    "ExecuteTime": {
     "end_time": "2025-06-17T16:14:49.872267Z",
     "start_time": "2025-06-17T16:14:45.288965Z"
    },
    "colab": {
     "base_uri": "https://localhost:8080/",
     "height": 255
    },
    "id": "7lZjGSXR35Qz",
    "outputId": "80c6bbb8-7694-4d68-eda8-b406e1d9e45d"
   },
   "outputs": [],
   "source": [
    "df = pd.read_csv('dataset/fashion-mnist_train.csv')\n",
    "df.head()"
   ]
  },
  {
   "cell_type": "code",
   "execution_count": null,
   "metadata": {
    "ExecuteTime": {
     "end_time": "2025-06-17T16:14:49.893533Z",
     "start_time": "2025-06-17T16:14:49.877284Z"
    },
    "colab": {
     "base_uri": "https://localhost:8080/"
    },
    "id": "u70Dnz9f36Yo",
    "outputId": "4fc87714-422a-4811-e1b7-cd7812cd3a67"
   },
   "outputs": [],
   "source": [
    "df.shape"
   ]
  },
  {
   "cell_type": "code",
   "execution_count": null,
   "metadata": {
    "ExecuteTime": {
     "end_time": "2025-06-17T16:14:52.463106Z",
     "start_time": "2025-06-17T16:14:49.906146Z"
    },
    "colab": {
     "base_uri": "https://localhost:8080/",
     "height": 1000
    },
    "id": "jFkhK1dvyzW8",
    "outputId": "cd5f85d7-2687-47ca-d278-a1216f65622b"
   },
   "outputs": [],
   "source": [
    "# Create a 4x4 grid of images\n",
    "fig, axes = plt.subplots(4, 4, figsize=(10, 10))\n",
    "fig.suptitle(\"First 16 Images\", fontsize=16)\n",
    "\n",
    "# Plot the first 16 images from the dataset\n",
    "for i, ax in enumerate(axes.flat):\n",
    "    img = df.iloc[i, 1:].values.reshape(28, 28)  # Reshape to 28x28\n",
    "    ax.imshow(img)  # Display in grayscale\n",
    "    ax.axis('off')  # Remove axis for a cleaner look\n",
    "    ax.set_title(f\"Label: {df.iloc[i, 0]}\")  # Show the label\n",
    "\n",
    "plt.tight_layout(rect=[0, 0, 1, 0.96])  # Adjust layout to fit the title\n",
    "plt.show()\n"
   ]
  },
  {
   "cell_type": "code",
   "execution_count": null,
   "metadata": {
    "ExecuteTime": {
     "end_time": "2025-06-17T16:14:52.479166Z",
     "start_time": "2025-06-17T16:14:52.469127Z"
    },
    "id": "CPoB2jkn3-8V"
   },
   "outputs": [],
   "source": [
    "# train test split\n",
    "\n",
    "X = df.iloc[:, 1:].values\n",
    "y = df.iloc[:, 0].values"
   ]
  },
  {
   "cell_type": "code",
   "execution_count": null,
   "metadata": {
    "ExecuteTime": {
     "end_time": "2025-06-17T16:14:54.519999Z",
     "start_time": "2025-06-17T16:14:52.484349Z"
    },
    "id": "CtmEmavE4K7V"
   },
   "outputs": [],
   "source": [
    "X_train, X_test, y_train, y_test = train_test_split(X, y, test_size=0.2, random_state=42)"
   ]
  },
  {
   "cell_type": "code",
   "execution_count": null,
   "metadata": {
    "ExecuteTime": {
     "end_time": "2025-06-17T16:14:54.779416Z",
     "start_time": "2025-06-17T16:14:54.524031Z"
    },
    "id": "6zRx5nPbkoM-"
   },
   "outputs": [],
   "source": [
    "X_train = X_train/255.0\n",
    "X_test = X_test/255.0"
   ]
  },
  {
   "cell_type": "code",
   "execution_count": null,
   "metadata": {
    "ExecuteTime": {
     "end_time": "2025-06-17T16:14:54.792707Z",
     "start_time": "2025-06-17T16:14:54.782724Z"
    },
    "id": "0oISAHnU5GnT"
   },
   "outputs": [],
   "source": [
    "class CustomDataset(Dataset):\n",
    "\n",
    "  def __init__(self, features, labels):\n",
    "\n",
    "    # Convert to PyTorch tensors\n",
    "    self.features = torch.tensor(features, dtype=torch.float32)\n",
    "    self.labels = torch.tensor(labels, dtype=torch.long)\n",
    "\n",
    "  def __len__(self):\n",
    "    return len(self.features)\n",
    "\n",
    "  def __getitem__(self, index):\n",
    "    return self.features[index], self.labels[index]"
   ]
  },
  {
   "cell_type": "code",
   "execution_count": null,
   "metadata": {
    "ExecuteTime": {
     "end_time": "2025-06-17T16:14:54.853080Z",
     "start_time": "2025-06-17T16:14:54.796719Z"
    },
    "id": "Thpv_XzP5z_b"
   },
   "outputs": [],
   "source": [
    "train_dataset = CustomDataset(X_train, y_train)"
   ]
  },
  {
   "cell_type": "code",
   "execution_count": null,
   "metadata": {
    "ExecuteTime": {
     "end_time": "2025-06-17T16:14:54.879559Z",
     "start_time": "2025-06-17T16:14:54.856099Z"
    },
    "id": "kqAkmOzV58TD"
   },
   "outputs": [],
   "source": [
    "test_dataset = CustomDataset(X_test, y_test)"
   ]
  },
  {
   "cell_type": "code",
   "execution_count": null,
   "metadata": {
    "ExecuteTime": {
     "end_time": "2025-06-17T16:14:54.893997Z",
     "start_time": "2025-06-17T16:14:54.883781Z"
    },
    "id": "UW-HhV4x5_PD"
   },
   "outputs": [],
   "source": [
    "train_loader = DataLoader(train_dataset, batch_size=128, shuffle=True, pin_memory=True)\n",
    "test_loader = DataLoader(test_dataset, batch_size=128, shuffle=False, pin_memory=True)"
   ]
  },
  {
   "cell_type": "code",
   "execution_count": null,
   "metadata": {
    "ExecuteTime": {
     "end_time": "2025-06-17T16:14:54.910446Z",
     "start_time": "2025-06-17T16:14:54.897015Z"
    },
    "colab": {
     "base_uri": "https://localhost:8080/"
    },
    "id": "uZq-FOc9Zdw4",
    "outputId": "87c87b26-4434-4fed-b4cb-e1340814207c"
   },
   "outputs": [],
   "source": [
    "len(train_loader)"
   ]
  },
  {
   "cell_type": "code",
   "execution_count": null,
   "metadata": {
    "ExecuteTime": {
     "end_time": "2025-06-17T16:14:54.954275Z",
     "start_time": "2025-06-17T16:14:54.924046Z"
    },
    "id": "Xgn1tw9I6fPT"
   },
   "outputs": [],
   "source": [
    "class MyNN(nn.Module):\n",
    "    def __init__(self, num_features):\n",
    "        super().__init__()\n",
    "        self.model = nn.Sequential(\n",
    "            nn.Linear(num_features, 128), # hidden layer 1\n",
    "            nn.BatchNorm1d(128), # in hidden layer, before activation func\n",
    "            nn.ReLU(),\n",
    "            nn.Dropout(p=0.3), # in hidden layer, after activation func\n",
    "            nn.Linear(128, 64), # hidden layer 2\n",
    "            nn.BatchNorm1d(64),\n",
    "            nn.ReLU(),\n",
    "            nn.Dropout(p=0.3),\n",
    "            nn.Linear(64, 10) # op layer\n",
    "        )\n",
    "\n",
    "    def forward(self, x):\n",
    "        return self.model(x)"
   ]
  },
  {
   "cell_type": "code",
   "execution_count": null,
   "metadata": {
    "ExecuteTime": {
     "end_time": "2025-06-17T16:14:54.983842Z",
     "start_time": "2025-06-17T16:14:54.966664Z"
    },
    "id": "z3LfMWb698O5"
   },
   "outputs": [],
   "source": [
    "learning_rate = 0.01\n",
    "epochs = 100"
   ]
  },
  {
   "cell_type": "code",
   "execution_count": null,
   "metadata": {
    "ExecuteTime": {
     "end_time": "2025-06-17T16:15:00.216765Z",
     "start_time": "2025-06-17T16:14:54.989912Z"
    },
    "id": "JpbU_UCp9N1r"
   },
   "outputs": [],
   "source": [
    "model = MyNN(X_train.shape[1])\n",
    "\n",
    "model.to(device)\n",
    "\n",
    "criterion = nn.CrossEntropyLoss()\n",
    "optimizer = optim.SGD(model.parameters(), lr=0.1, weight_decay=1e-4)"
   ]
  },
  {
   "cell_type": "code",
   "execution_count": null,
   "metadata": {
    "ExecuteTime": {
     "end_time": "2025-06-17T16:21:08.308988Z",
     "start_time": "2025-06-17T16:15:00.223502Z"
    },
    "colab": {
     "base_uri": "https://localhost:8080/"
    },
    "id": "0UpCVk9X-JaI",
    "outputId": "389e4f42-48c0-4208-8df5-d7938e20be8e"
   },
   "outputs": [],
   "source": [
    "# training loop\n",
    "\n",
    "for epoch in range(epochs):\n",
    "\n",
    "  total_epoch_loss = 0\n",
    "\n",
    "  for batch_features, batch_labels in train_loader:\n",
    "\n",
    "    # move data to gpu\n",
    "    batch_features, batch_labels = batch_features.to(device), batch_labels.to(device)\n",
    "\n",
    "    # forward pass\n",
    "    outputs = model(batch_features)\n",
    "\n",
    "    # calculate loss\n",
    "    loss = criterion(outputs, batch_labels)\n",
    "\n",
    "    # back pass\n",
    "    optimizer.zero_grad()\n",
    "    loss.backward()\n",
    "\n",
    "    # update grads\n",
    "    optimizer.step()\n",
    "\n",
    "    total_epoch_loss = total_epoch_loss + loss.item()\n",
    "\n",
    "  avg_loss = total_epoch_loss/len(train_loader)\n",
    "  print(f'Epoch: {epoch + 1} , Loss: {avg_loss}')\n"
   ]
  },
  {
   "cell_type": "code",
   "execution_count": null,
   "metadata": {
    "ExecuteTime": {
     "end_time": "2025-06-17T16:21:08.328997Z",
     "start_time": "2025-06-17T16:21:08.313005Z"
    },
    "colab": {
     "base_uri": "https://localhost:8080/"
    },
    "id": "CA6B2YPYAOtu",
    "outputId": "05e907f9-a290-4ff0-cf9f-0d113e276fd5"
   },
   "outputs": [],
   "source": [
    "model.eval()"
   ]
  },
  {
   "cell_type": "code",
   "execution_count": null,
   "metadata": {
    "ExecuteTime": {
     "end_time": "2025-06-17T16:21:08.913084Z",
     "start_time": "2025-06-17T16:21:08.332505Z"
    },
    "colab": {
     "base_uri": "https://localhost:8080/"
    },
    "id": "Xwirkg4PPNhB",
    "outputId": "4659ba87-d98b-41d8-893d-4bbc61a533b5"
   },
   "outputs": [],
   "source": [
    "# evaluation on test data\n",
    "total = 0\n",
    "correct = 0\n",
    "\n",
    "with torch.no_grad():\n",
    "\n",
    "  for batch_features, batch_labels in test_loader:\n",
    "\n",
    "    # move data to gpu\n",
    "    batch_features, batch_labels = batch_features.to(device), batch_labels.to(device)\n",
    "\n",
    "    outputs = model(batch_features)\n",
    "\n",
    "    _, predicted = torch.max(outputs, 1)\n",
    "\n",
    "    total = total + batch_labels.shape[0]\n",
    "\n",
    "    correct = correct + (predicted == batch_labels).sum().item()\n",
    "\n",
    "print(correct/total)"
   ]
  },
  {
   "cell_type": "code",
   "execution_count": null,
   "metadata": {
    "ExecuteTime": {
     "end_time": "2025-06-17T16:21:10.970181Z",
     "start_time": "2025-06-17T16:21:08.916101Z"
    },
    "colab": {
     "base_uri": "https://localhost:8080/"
    },
    "id": "J5edAjvgr8tB",
    "outputId": "e4e35c17-e6c8-499e-c4d1-ed9ad6b9f254"
   },
   "outputs": [],
   "source": [
    "# evaluation on training data\n",
    "total = 0\n",
    "correct = 0\n",
    "\n",
    "with torch.no_grad():\n",
    "\n",
    "  for batch_features, batch_labels in train_loader:\n",
    "\n",
    "    # move data to gpu\n",
    "    batch_features, batch_labels = batch_features.to(device), batch_labels.to(device)\n",
    "\n",
    "    outputs = model(batch_features)\n",
    "\n",
    "    _, predicted = torch.max(outputs, 1)\n",
    "\n",
    "    total = total + batch_labels.shape[0]\n",
    "\n",
    "    correct = correct + (predicted == batch_labels).sum().item()\n",
    "\n",
    "print(correct/total)"
   ]
  },
  {
   "cell_type": "markdown",
   "metadata": {},
   "source": [
    "# So, we got benefits. "
   ]
  }
 ],
 "metadata": {
  "accelerator": "GPU",
  "colab": {
   "gpuType": "T4",
   "provenance": []
  },
  "kernelspec": {
   "display_name": "Python 3 (ipykernel)",
   "language": "python",
   "name": "python3"
  },
  "language_info": {
   "name": "python"
  }
 },
 "nbformat": 4,
 "nbformat_minor": 0
}
